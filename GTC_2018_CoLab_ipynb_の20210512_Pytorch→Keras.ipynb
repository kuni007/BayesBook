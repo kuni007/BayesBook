{
  "nbformat": 4,
  "nbformat_minor": 0,
  "metadata": {
    "kernelspec": {
      "display_name": "Python 3",
      "language": "python",
      "name": "python3"
    },
    "language_info": {
      "codemirror_mode": {
        "name": "ipython",
        "version": 3
      },
      "file_extension": ".py",
      "mimetype": "text/x-python",
      "name": "python",
      "nbconvert_exporter": "python",
      "pygments_lexer": "ipython3",
      "version": "3.6.8"
    },
    "colab": {
      "name": "GTC_2018_CoLab.ipynb の20210512_Pytorch→Keras",
      "provenance": [],
      "collapsed_sections": [
        "S43wpT11Zlqe",
        "xQnidrvGZlqe"
      ],
      "include_colab_link": true
    },
    "accelerator": "GPU"
  },
  "cells": [
    {
      "cell_type": "markdown",
      "metadata": {
        "id": "view-in-github",
        "colab_type": "text"
      },
      "source": [
        "<a href=\"https://colab.research.google.com/github/kuni007/BayesBook/blob/master/GTC_2018_CoLab_ipynb_%E3%81%AE20210512_Pytorch%E2%86%92Keras.ipynb\" target=\"_parent\"><img src=\"https://colab.research.google.com/assets/colab-badge.svg\" alt=\"Open In Colab\"/></a>"
      ]
    },
    {
      "cell_type": "code",
      "metadata": {
        "id": "YevYlJfPZlqB"
      },
      "source": [
        "# -*- coding: utf-8 -*-"
      ],
      "execution_count": 2,
      "outputs": []
    },
    {
      "cell_type": "markdown",
      "metadata": {
        "id": "s_rOmpvcZlqH"
      },
      "source": [
        "## \"Detection of Anomalies in Financial Transactions using Deep Autoencoder Networks\"\n"
      ]
    },
    {
      "cell_type": "markdown",
      "metadata": {
        "id": "Yx4Ftz5hZlqI"
      },
      "source": [
        "The content of this \"GPU Technology Conference (GTC) 2018, Silicon Valley\" lab was jointly developed by Marco Schreyer and Timur Sattarov. Please don't hesitate to contact us in case of any questions via marco.schreyer@dfki.de and sattarov.timur@pwc.com.\n",
        "\n",
        "この「GPU Technology Conference (GTC) 2018, Silicon Valley」ラボのコンテンツは、Marco Schreyer氏とTimur Sattarov氏の共同開発によるものです。ご不明な点がございましたら、<a href=\"mailto:marco.schreyer@dfki.de\">marco.schreyer@dfki.de</a>および<a href=\"mailto:sattarov.timur@pwc.com\">sattarov.timur@pwc.com</a>までご遠慮なくお問い合わせください。"
      ]
    },
    {
      "cell_type": "markdown",
      "metadata": {
        "id": "3z-ljm_iZlqI"
      },
      "source": [
        "## 1. Introduction and Lab Overview"
      ]
    },
    {
      "cell_type": "markdown",
      "metadata": {
        "id": "WCK5Xn0yZlqJ"
      },
      "source": [
        "### 1.1 Fraud and Accounting Information Systems (AIS)"
      ]
    },
    {
      "cell_type": "markdown",
      "metadata": {
        "id": "727D8EyDZlqJ"
      },
      "source": [
        "The Association of Certified Fraud Examiners estimates in its Global Fraud Study 2016 [1] that the typical organization loses 5% of its annual revenues due to fraud. According to Joseph T. Wells [2] the term **\"fraud\"** refers to, \n",
        "\n",
        "Association of Certified Fraud Examinersは、Global Fraud Study 2016 [1]の中で、典型的な組織は不正行為によって年間収益の5%を失っていると推定しています。ジョセフ・T・ウェルズ[2]によると、**「不正」**という言葉は以下を指します。\n",
        "\n",
        ">_\"the abuse of one's occupation for personal enrichment through the deliberate misuse of an organization's resources or assets\"_. \n",
        "\n",
        ">_「組織の資源や資産を意図的に悪用し、個人的な利益のために職業を乱用すること」_。\n",
        "\n",
        "A similar more recent study, conducted by the auditors of PwC, revealed that 30% of the study respondents experienced losses of between \\$100,000 and \\$5 million USD [3] in the last 24 months. The study also showed that financial statement fraud caused by far the greatest median loss of the surveyed fraud schemes.\n",
        "\n",
        "PwCの監査法人が実施した同様の最近の調査では、調査対象者の30%が過去24カ月間に10万ドルから500万ドルの損失を経験していることが明らかになっています[3]。この調査では、調査対象となった不正スキームの中で、財務諸表の不正が最も大きな損失額（中央値）をもたらしたことも明らかになっています。\n",
        "\n",
        "At the same time organizations accelerate the digitization and reconfiguration of business processes [4] affecting in particular Accounting Information Systems (AIS) or more general Enterprise Resource Planning (ERP) systems.\n",
        "\n",
        "同時に、組織はビジネスプロセスのデジタル化と再構成を加速させており [4]、特に会計情報システム (AIS) や、より一般的なエンタープライズリソースプランニング (ERP) システムに影響を与えています。"
      ]
    },
    {
      "cell_type": "markdown",
      "metadata": {
        "id": "of7xbt7tZlqJ"
      },
      "source": [
        "<img align=\"middle\" style=\"max-width: 550px; height: auto\" src=\"https://github.com/GitiHubi/deepAI/blob/master/images/accounting.png?raw=1\">"
      ]
    },
    {
      "cell_type": "markdown",
      "metadata": {
        "id": "V5vdRB7CZlqJ"
      },
      "source": [
        "**Figure 1:** Hierarchical view of an Accounting Information System (AIS) that records distinct layers of abstraction, namely (1) the business process information, (2) the accounting information as well as the (3) technical journal entry information in designated database tables.\n",
        "\n",
        "**図1：**1）ビジネスプロセス情報、（2）会計情報、（3）技術的な仕訳情報の3つの抽象化された層を、指定されたデータベーステーブルに記録する会計情報システム（AIS）の階層的な見方"
      ]
    },
    {
      "cell_type": "markdown",
      "metadata": {
        "id": "KNsvZc8YZlqK"
      },
      "source": [
        "Steadily, these systems collect vast quantities of electronic evidence at an almost atomic level. This holds in particular for the journal entries of an organization recorded in its general ledger and sub-ledger accounts. SAP, one of the most prominent ERP software providers, estimates that approx. 76% of the world's transaction revenue touches one of their systems [5].\n",
        "\n",
        "The illustration in **Figure 1** depicts a hierarchical view of an Accounting Information System (AIS) recording process and journal entry information in designated database tables. In the context of fraud examinations, the data collected by such systems may contain valuable traces of a potential fraud scheme.\n",
        "\n",
        "これらのシステムは、ほとんど原子レベルで膨大な量の電子証拠を収集しています。これは特に、総勘定元帳や副勘定元帳に記録された組織の仕訳について当てはまります。ERPソフトウェアの代表的なプロバイダーであるSAPは、世界の取引収入の約76%がSAPのシステムのいずれかに触れていると推定しています[5]。\n",
        "\n",
        "図1**は、会計情報システム(AIS)の記録プロセスと仕訳情報を、指定されたデータベース・テーブルに階層的に表示したものです。このようなシステムで収集されたデータには、不正行為の痕跡が含まれている可能性があります。"
      ]
    },
    {
      "cell_type": "markdown",
      "metadata": {
        "id": "YvuSLBrmZlqK"
      },
      "source": [
        "### 1.2 Classification of Financial Anomalies"
      ]
    },
    {
      "cell_type": "markdown",
      "metadata": {
        "id": "d6ke2_UMZlqK"
      },
      "source": [
        "When conducting a detailed examination of real-world journal entries, usually recorded in large-scaled AIS or ERP systems, two prevalent characteristics can be observed:\n",
        "\n",
        "大規模なAISやERPシステムに記録されている実際の仕訳を詳細に調べてみると、2つの特徴が見られます。\n",
        "\n",
        "> - specific transactions attributes exhibit **a high variety of distinct attribute values** e.g. customer information, posted sub-ledgers, amount information, and  \n",
        "> 特定のトランザクションの属性は、顧客情報、投稿されたサブレジェンド、金額情報など、**多種多様な属性値**を示します。\n",
        "> - the transactions exhibit **strong dependencies between specific attribute values** e.g. between customer information and type of payment, posting type and general ledgers.  \n",
        "> 例えば、顧客情報と支払タイプ、転記タイプと総勘定元帳の間など。\n",
        "\n",
        "Derived from this observation we distinguish two classes of anomalous journal entries, namely **\"global\"** and **\"local\" anomalies** as illustrated in **Figure 2** below:\n",
        "\n",
        "この結果、図2**に示すように、「グローバル」**と「ローカル」**という2つのクラスの異常があることがわかりました。"
      ]
    },
    {
      "cell_type": "markdown",
      "metadata": {
        "id": "PgCwmPXZZlqL"
      },
      "source": [
        "<img align=\"middle\" style=\"max-width: 450px; height: auto\" src=\"https://github.com/GitiHubi/deepAI/blob/master/images/anomalies.png?raw=1\">"
      ]
    },
    {
      "cell_type": "markdown",
      "metadata": {
        "id": "KYP_wQ17ZlqL"
      },
      "source": [
        "**Figure 2:** Illustrative example of global and local anomalies portrait in a feature space of the two transaction features \"Posting Amount\" (Feature 1) and \"Posting Positions\" (Feature 2).  \n",
        "**図2：**「Posting Amount」（特徴1）と「Posting Positions」（特徴2）の2つのトランザクション特徴の特徴空間における、グローバルおよびローカルな異常の描写の例。"
      ]
    },
    {
      "cell_type": "markdown",
      "metadata": {
        "id": "1sZa8GD-ZlqL"
      },
      "source": [
        "***Global Anomalies***, are financial transactions that exhibit **unusual or rare individual attribute values**. These anomalies usually relate to highly skewed attributes e.g. seldom posting users, rarely used ledgers, or unusual posting times. \n",
        "\n",
        "Traditionally \"red-flag\" tests, performed by auditors during annual audits, are designed to capture those types of anomalies. However, such tests might result in a high volume of false positive alerts due to e.g. regular reverse postings, provisions and year-end adjustments usually associated with a low fraud risk."
      ]
    },
    {
      "cell_type": "markdown",
      "metadata": {
        "id": "7q2RyOKJbv_R"
      },
      "source": [
        "グローバルアノマリーとは、個々の属性値に異常や希少性が見られる金融取引のことです。これらの異常は、通常、非常に偏った属性に関連しています。例えば、めったに投稿されないユーザー、めったに使用されない元帳、または異常な投稿時間などです。\n",
        "\n",
        "従来、監査人が年次監査の際に行う「レッド-フラグ」テストは、このようなタイプの異常を検出するように設計されていました。しかし、このようなテストでは、通常、不正リスクが低いとされる定期的な逆方向の転記、引当金、決算整理などが原因で、大量の誤検知警告が発生する可能性があります。"
      ]
    },
    {
      "cell_type": "markdown",
      "metadata": {
        "id": "3yjg6yVqZlqL"
      },
      "source": [
        "***Local Anomalies***, are financial transactions that exhibit an **unusual or rare combination of attribute values** while the individual attribute values occur quite frequently e.g. unusual accounting records. \n",
        "\n",
        "This type of anomaly is significantly more difficult to detect since perpetrators intend to disguise their activities trying to imitate a regular behaviour. As a result, such anomalies usually pose a high fraud risk since they might correspond to e.g. misused user accounts, irregular combinations of general ledger accounts and posting keys that don't follow an usual activity pattern."
      ]
    },
    {
      "cell_type": "markdown",
      "metadata": {
        "id": "1bOOUEKHcRrE"
      },
      "source": [
        "局所的な異常とは、個々の属性値は頻繁に発生しているのに、属性値の組み合わせが異常であったり、稀であったりする金融取引のことです。\n",
        "\n",
        "このタイプの異常は、加害者が規則的な行動を模倣して自分たちの活動を偽装しようとするため、検出が著しく困難です。結果として、このような異常は、通常の活動パターンに従わない不正使用されたユーザーアカウント、総勘定元帳の不規則な組み合わせ、転記キーなどに対応する可能性があるため、通常、高い詐欺リスクをもたらします。"
      ]
    },
    {
      "cell_type": "markdown",
      "metadata": {
        "id": "d1UpXUbzZlqL"
      },
      "source": [
        "### 1.3 Lab Objective and Prerequisites"
      ]
    },
    {
      "cell_type": "markdown",
      "metadata": {
        "id": "4aLkes9bZlqM"
      },
      "source": [
        "このラボの目的は、財務データセットにおけるグローバルおよびローカルな異常を検出するために使用できる、深層学習に基づく方法論を説明することです。提案する手法は、以下の仮定に基づいています。\n",
        "\n",
        ">1. the majority of financial transactions recorded within an organizations’ ERP-system relate to regular day-to-day business activities and perpetrators need to deviate from the ”regular” in order to conduct fraud,  \n",
        "企業のERPシステムに記録されている財務取引の大半は、日々の通常の業務活動に関連しており、加害者が不正を行うためには「通常」から逸脱する必要がある。\n",
        ">2. such deviating behaviour will be recorded by a very limited number of financial transactions and their respective attribute values or combination of attribute values and we refer to such deviation as \"anomaly\".  \n",
        "そのような逸脱した行動は、非常に限られた数の財務取引と、それぞれの属性値または属性値の組み合わせによって記録され、そのような逸脱を「異常」と呼ぶことにします。\n",
        "\n",
        "Concluding from these assumptions we can learn a model of regular journal entries with minimal ”harm” caused by the potential anomalous ones.  \n",
        "これらの仮定から、私たちは、潜在的な異常なものによって引き起こされる「害」を最小限に抑えた、規則的なジャーナルエントリーのモデルを学ぶことができます。\n",
        "\n",
        "In order to detect such anomalies, we will train deep autoencoder networks to learn a compressed but \"lossy\" model of regular transactions and their underlying posting pattern. Imposing a strong regularization onto the network hidden layers limits the networks' ability to memorize the characteristics of anomalous journal entries. Once the training process is completed, the network will be able to reconstruct regular journal entries, while failing to do so for the anomalous ones.  \n",
        "このような異常を検出するために、深層オートエンコーダーネットワークを学習させ、通常の取引とその基礎となる投稿パターンの圧縮された、しかし「損失の多い」モデルを学習させます。ネットワークの隠れた層に強い正則化を施すことで、ネットワークが異常な仕訳の特徴を記憶する能力を制限します。学習プロセスが完了すると、ネットワークは通常の仕訳を再構築することができますが、異常な仕訳については再構築できません。\n",
        "\n",
        "After completing the lab you should be familiar with:  \n",
        "ラボを終えた後は、以下のことに慣れておく必要があります。\n",
        "\n",
        ">1. the basic concepts, intuitions and major building blocks of autoencoder neural networks,  \n",
        "オートエンコーダー・ニューラルネットワークの基本的な概念、直感、主要な構成要素を学ぶことができます。\n",
        ">2. the techniques of pre-processing financial data in order to learn a model of its characteristics,  \n",
        "財務データを前処理して、その特性をモデル化して学習する技術です。\n",
        ">3. the application of autoencoder neural networks to detect anomalies in large-scale financial data, and,  \n",
        "大規模な財務データの異常を検出するためのオートエンコーダー・ニューラルネットワークの応用、および。\n",
        ">4. the interpretation of the detection results of the networks as well as its reconstruction loss.   \n",
        "また、ネットワークの検出結果の解釈や再構築時の損失についても考慮しています。\n",
        "\n",
        "Please note, that this lab is neither a complete nor comprehensive forensic data analysis approach or fraud examination strategy. However, the methodology and code provided in this lab can be modified or adapted to detect anomalous records in a variety of financial datasets. Subsequently, the detected records might serve as a starting point for a more detailed and substantive examination by auditors or compliance personnel.   \n",
        "このラボは、完全で包括的なフォレンジックデータ分析アプローチや不正検査戦略ではないことにご注意ください。しかし、このラボで提供されている手法とコードは、さまざまな財務データセットの異常なレコードを検出するために変更または適応することができます。その後、検出された記録は、監査人やコンプライアンス担当者によるより詳細で実質的な調査の出発点となるかもしれません。\n",
        "\n",
        "For this lab, we assume that you are familiar with the general concepts of deep neural networks (DNN) and GPUs as well as PyTorch and Python. For more information on these concepts please check the relevant labs of NVIDIA's Deep Learning Institute (DLI).   \n",
        "このラボでは、ディープニューラルネットワーク（DNN）とGPUの一般的な概念、およびPyTorchとPythonに精通していることを前提としています。これらの概念の詳細については、NVIDIAのDeep Learning Institute (DLI)の関連ラボをご確認ください。"
      ]
    },
    {
      "cell_type": "markdown",
      "metadata": {
        "id": "AGxlgAowZlqN"
      },
      "source": [
        "### Exercises: "
      ]
    },
    {
      "cell_type": "markdown",
      "metadata": {
        "id": "xb4QNTSEZlqN"
      },
      "source": [
        "Think about potential fraud scenarios of your organization:\n",
        "\n",
        ">1. What scenarios or fraudulent activities you could think of? [3 min]\n",
        ">2. What data sources might affect or record those potential fraudulent activities? [5 min]\n",
        ">3. What kind of data analytics techniques could be applied to detect those activities? [5 min]"
      ]
    },
    {
      "cell_type": "markdown",
      "metadata": {
        "id": "andbdUd4ZlqN"
      },
      "source": [
        "## 2. Environment Setup and Verification"
      ]
    },
    {
      "cell_type": "markdown",
      "metadata": {
        "id": "V8_zLtFbZlqN"
      },
      "source": [
        "### 2.1 Python Verification"
      ]
    },
    {
      "cell_type": "markdown",
      "metadata": {
        "id": "dwF4lsiFZlqN"
      },
      "source": [
        "Before we begin, let's verify that Python is working on your system. To do this, execute the cell block below by giving it focus (clicking on it with your mouse), and hitting Shift-Enter, or pressing the play button in the toolbar above. If all goes well, you should see some output returned below the grey cell.  \n",
        "始める前に、あなたのシステムでPythonが動作することを確認しましょう。そのためには、下のセルブロックにフォーカスを当てて（マウスでクリックして）、Shift-Enter を押すか、上のツールバーの再生ボタンを押して実行してください。すべてがうまくいくと、灰色のセルの下に何らかの出力が返されるはずです。"
      ]
    },
    {
      "cell_type": "code",
      "metadata": {
        "id": "tsRh7lUAZlqO",
        "colab": {
          "base_uri": "https://localhost:8080/"
        },
        "outputId": "35d8fd6e-860e-41b9-e30a-a34d647a4f18"
      },
      "source": [
        "print('The answer should be forty-two: {}'.format(str(40+2)))"
      ],
      "execution_count": 3,
      "outputs": [
        {
          "output_type": "stream",
          "text": [
            "The answer should be forty-two: 42\n"
          ],
          "name": "stdout"
        }
      ]
    },
    {
      "cell_type": "markdown",
      "metadata": {
        "id": "YVYGDikNZlqO"
      },
      "source": [
        "### 2.2 Python Libraries Import"
      ]
    },
    {
      "cell_type": "markdown",
      "metadata": {
        "id": "qfxWojnOZlqO"
      },
      "source": [
        "As a next step let's import the libraries needed throughout the lab:  \n",
        "次のステップとして、ラボで必要なライブラリをインポートしましょう。"
      ]
    },
    {
      "cell_type": "code",
      "metadata": {
        "id": "x4iNrz5BZlqO"
      },
      "source": [
        "# importing utilities\n",
        "import os\n",
        "import sys\n",
        "from datetime import datetime\n",
        "import io\n",
        "import urllib\n",
        "\n",
        "# importing data science libraries\n",
        "import pandas as pd\n",
        "import random as rd\n",
        "import numpy as np\n",
        "\n",
        "# importing pytorch libraries\n",
        "import torch\n",
        "from torch import nn\n",
        "from torch import autograd\n",
        "from torch.utils.data import DataLoader\n",
        "\n",
        "# import visualization libraries\n",
        "import matplotlib.pyplot as plt\n",
        "from mpl_toolkits.mplot3d import Axes3D\n",
        "import seaborn as sns\n",
        "from IPython.display import Image, display\n",
        "sns.set_style('darkgrid')\n",
        "\n",
        "# ignore potential warnings\n",
        "import warnings\n",
        "warnings.filterwarnings(\"ignore\")"
      ],
      "execution_count": 4,
      "outputs": []
    },
    {
      "cell_type": "markdown",
      "metadata": {
        "id": "cP0PTJrVZlqO"
      },
      "source": [
        "Allow for Jupyter notebook inline plotting:  \n",
        "Jupyter notebookのインラインプロッティングを可能にする。"
      ]
    },
    {
      "cell_type": "code",
      "metadata": {
        "id": "YilN71DOZlqO"
      },
      "source": [
        "%matplotlib inline"
      ],
      "execution_count": 5,
      "outputs": []
    },
    {
      "cell_type": "markdown",
      "metadata": {
        "id": "MhiAVIx1ZlqP"
      },
      "source": [
        "### 2.3 CUDNN and GPU Verification"
      ]
    },
    {
      "cell_type": "markdown",
      "metadata": {
        "id": "jTmqwN1kZlqP"
      },
      "source": [
        "To determine if CDNN is available on the server let's execute the cell below to display information about the available CUDNN version:  \n",
        "CDNNがサーバー上で利用可能かどうかを判断するために、以下のセルを実行して、利用可能なCUDNNのバージョンに関する情報を表示してみましょう。"
      ]
    },
    {
      "cell_type": "code",
      "metadata": {
        "id": "8FS0Miq5ZlqP",
        "colab": {
          "base_uri": "https://localhost:8080/"
        },
        "outputId": "53a77628-32b6-483c-e0ba-3187dbc8acbb"
      },
      "source": [
        "# print CUDNN backend version\n",
        "now = datetime.utcnow().strftime(\"%Y%m%d-%H:%M:%S\")\n",
        "print('[LOG {}] The CUDNN backend version: {}'.format(now, torch.backends.cudnn.version()))"
      ],
      "execution_count": 6,
      "outputs": [
        {
          "output_type": "stream",
          "text": [
            "[LOG 20210515-04:33:10] The CUDNN backend version: 7603\n"
          ],
          "name": "stdout"
        }
      ]
    },
    {
      "cell_type": "markdown",
      "metadata": {
        "id": "9Fd0wIZGZlqP"
      },
      "source": [
        "Also, let's display information about the potential GPUs running on the server:  \n",
        "また、サーバー上で動作している潜在的なGPUの情報を表示してみましょう。"
      ]
    },
    {
      "cell_type": "code",
      "metadata": {
        "id": "WYLvdnUZZlqP",
        "colab": {
          "base_uri": "https://localhost:8080/"
        },
        "outputId": "3d45f009-cf49-4e8a-bf69-a47d278686f4"
      },
      "source": [
        "!nvidia-smi"
      ],
      "execution_count": 7,
      "outputs": [
        {
          "output_type": "stream",
          "text": [
            "Sat May 15 04:33:10 2021       \n",
            "+-----------------------------------------------------------------------------+\n",
            "| NVIDIA-SMI 465.19.01    Driver Version: 460.32.03    CUDA Version: 11.2     |\n",
            "|-------------------------------+----------------------+----------------------+\n",
            "| GPU  Name        Persistence-M| Bus-Id        Disp.A | Volatile Uncorr. ECC |\n",
            "| Fan  Temp  Perf  Pwr:Usage/Cap|         Memory-Usage | GPU-Util  Compute M. |\n",
            "|                               |                      |               MIG M. |\n",
            "|===============================+======================+======================|\n",
            "|   0  Tesla T4            Off  | 00000000:00:04.0 Off |                    0 |\n",
            "| N/A   49C    P8    10W /  70W |      0MiB / 15109MiB |      0%      Default |\n",
            "|                               |                      |                  N/A |\n",
            "+-------------------------------+----------------------+----------------------+\n",
            "                                                                               \n",
            "+-----------------------------------------------------------------------------+\n",
            "| Processes:                                                                  |\n",
            "|  GPU   GI   CI        PID   Type   Process name                  GPU Memory |\n",
            "|        ID   ID                                                   Usage      |\n",
            "|=============================================================================|\n",
            "|  No running processes found                                                 |\n",
            "+-----------------------------------------------------------------------------+\n"
          ],
          "name": "stdout"
        }
      ]
    },
    {
      "cell_type": "markdown",
      "metadata": {
        "id": "iCMXta3-ZlqP"
      },
      "source": [
        "If CUDNN and GPU's are available let's still specify if we want to use both:  \n",
        "\n",
        "CUDNNとGPUが使える場合は、やはり両方を使いたいかどうかを指定しましょう。"
      ]
    },
    {
      "cell_type": "code",
      "metadata": {
        "id": "REpi6P2FZlqP"
      },
      "source": [
        "USE_CUDA = True"
      ],
      "execution_count": 8,
      "outputs": []
    },
    {
      "cell_type": "markdown",
      "metadata": {
        "id": "8xKHJg_9ZlqQ"
      },
      "source": [
        "### 2.4 Python and PyTorch Verification"
      ]
    },
    {
      "cell_type": "markdown",
      "metadata": {
        "id": "_hekDtG2ZlqQ"
      },
      "source": [
        "Let's execute the cell below to display information about the Python and PyTorch version running on the server:  \n",
        "以下のセルを実行して、サーバー上で動作しているPythonとPyTorchのバージョンに関する情報を表示してみましょう。"
      ]
    },
    {
      "cell_type": "code",
      "metadata": {
        "id": "nqjYpIJdZlqQ",
        "colab": {
          "base_uri": "https://localhost:8080/"
        },
        "outputId": "28730dc3-80a9-460e-cab8-232a631dbcd9"
      },
      "source": [
        "# print current Python version\n",
        "now = datetime.utcnow().strftime(\"%Y%m%d-%H:%M:%S\")\n",
        "print('[LOG {}] The Python version: {}'.format(now, sys.version))"
      ],
      "execution_count": 9,
      "outputs": [
        {
          "output_type": "stream",
          "text": [
            "[LOG 20210515-04:33:10] The Python version: 3.7.10 (default, May  3 2021, 02:48:31) \n",
            "[GCC 7.5.0]\n"
          ],
          "name": "stdout"
        }
      ]
    },
    {
      "cell_type": "code",
      "metadata": {
        "id": "GtHw_xiaZlqQ",
        "colab": {
          "base_uri": "https://localhost:8080/"
        },
        "outputId": "1b713d53-f138-4460-9088-840c0943bc04"
      },
      "source": [
        "# print current PyTorch version\n",
        "now = datetime.utcnow().strftime(\"%Y%m%d-%H:%M:%S\")\n",
        "print('[LOG {}] The PyTorch version: {}'.format(now, torch.__version__))"
      ],
      "execution_count": 10,
      "outputs": [
        {
          "output_type": "stream",
          "text": [
            "[LOG 20210515-04:33:10] The PyTorch version: 1.8.1+cu101\n"
          ],
          "name": "stdout"
        }
      ]
    },
    {
      "cell_type": "markdown",
      "metadata": {
        "id": "CoH86W7klyJT"
      },
      "source": [
        "### 2.4 Python and Keras,TensorFlow Verification\n"
      ]
    },
    {
      "cell_type": "code",
      "metadata": {
        "colab": {
          "base_uri": "https://localhost:8080/"
        },
        "id": "OwR8uMXVmFKv",
        "outputId": "dacbb0fb-4006-48d9-d06c-4651782fc623"
      },
      "source": [
        "# import keras libraries\n",
        "import tensorflow as tf\n",
        "from tensorflow import keras\n",
        "\n",
        "# print current tensorflow version\n",
        "now = datetime.utcnow().strftime(\"%Y%m%d-%H:%M:%S\")\n",
        "print('[LOG {}] The TensorFlow version: {}'.format(now, tf.__version__))\n",
        "\n",
        "# print current keras version\n",
        "now = datetime.utcnow().strftime(\"%Y%m%d-%H:%M:%S\")\n",
        "print('[LOG {}] The Keras version: {}'.format(now, keras.__version__))\n"
      ],
      "execution_count": 11,
      "outputs": [
        {
          "output_type": "stream",
          "text": [
            "[LOG 20210515-04:33:13] The TensorFlow version: 2.4.1\n",
            "[LOG 20210515-04:33:13] The Keras version: 2.4.0\n"
          ],
          "name": "stdout"
        }
      ]
    },
    {
      "cell_type": "markdown",
      "metadata": {
        "id": "4ExpsWfaZlqQ"
      },
      "source": [
        "### 2.5 Random Seed Initialization"
      ]
    },
    {
      "cell_type": "markdown",
      "metadata": {
        "id": "0hsPoI0PZlqQ"
      },
      "source": [
        "Finally, let' set the seeds of random elements in the code e.g. the initialization of the network parameters to guarantee deterministic computation and results:  \n",
        "最後に、決定論的な計算と結果を保証するために、ネットワーク・パラメータの初期化など、コード内のランダムな要素の種を設定します。"
      ]
    },
    {
      "cell_type": "code",
      "metadata": {
        "id": "it6taEIrZlqQ"
      },
      "source": [
        "# init deterministic seed\n",
        "seed_value = 1234 #4444 #3333 #2222 #1111 #1234\n",
        "rd.seed(seed_value) # set random seed\n",
        "np.random.seed(seed_value) # set numpy seed\n",
        "#torch.manual_seed(seed_value) # set pytorch seed CPU\n",
        "#if (torch.backends.cudnn.version() != None and USE_CUDA == True):\n",
        "#    torch.cuda.manual_seed(seed_value) # set pytorch seed GPU\n",
        "tf.random.set_seed(seed_value) # set tensorflow seed CPU "
      ],
      "execution_count": 12,
      "outputs": []
    },
    {
      "cell_type": "markdown",
      "metadata": {
        "id": "MXymTPp9ZlqR"
      },
      "source": [
        "## 3. Financial Fraud Detection Dataset"
      ]
    },
    {
      "cell_type": "markdown",
      "metadata": {
        "id": "IAOtnAcqZlqR"
      },
      "source": [
        "In this section, we will conduct a descriptive analysis of the labs financial dataset. Furthermore, we will apply some necessary pre-processing steps to train a deep neural network. The lab is based on a derivation of the **\"Synthetic Financial Dataset For Fraud Detection\"** by Lopez-Rojas [6] available via the Kaggle predictive modelling and analytics competitions platform that can be obtained using the following link: https://www.kaggle.com/ntnu-testimon/paysim1.　　\n",
        "\n",
        "このセクションでは、ラボの財務データセットの記述的な分析を行います。さらに、ディープニューラルネットワークの学習に必要な前処理を行います。このラボは、Lopez-Rojas [6]による「Synthetic Financial Dataset For Fraud Detection」の派生版に基づいています。このデータセットは、Kaggle Predictive Modelling and analytics competitions platformから入手できます。https://www.kaggle.com/ntnu-testimon/paysim1.　　\n",
        "\n",
        "Let's start loading the dataset and investigate its structure and attributes:　　\n",
        "それでは早速、データセットを読み込んで、その構造や属性を調べてみましょう。"
      ]
    },
    {
      "cell_type": "code",
      "metadata": {
        "id": "Wi0WeVyZZlqR"
      },
      "source": [
        "# load the dataset into the notebook kernel\n",
        "url = 'https://raw.githubusercontent.com/GitiHubi/deepAI/master/data/fraud_dataset_v2.csv'\n",
        "ori_dataset = pd.read_csv(url)"
      ],
      "execution_count": 13,
      "outputs": []
    },
    {
      "cell_type": "code",
      "metadata": {
        "id": "-emmGlNQZlqR",
        "colab": {
          "base_uri": "https://localhost:8080/"
        },
        "outputId": "6d2b57f1-dce4-4ed6-d0a5-ccc53b677b56"
      },
      "source": [
        "# inspect the datasets dimensionalities\n",
        "now = datetime.utcnow().strftime(\"%Y%m%d-%H:%M:%S\")\n",
        "print('[LOG {}] Transactional dataset of {} rows and {} columns loaded'.format(now, ori_dataset.shape[0], ori_dataset.shape[1]))"
      ],
      "execution_count": 14,
      "outputs": [
        {
          "output_type": "stream",
          "text": [
            "[LOG 20210515-04:33:14] Transactional dataset of 533009 rows and 10 columns loaded\n"
          ],
          "name": "stdout"
        }
      ]
    },
    {
      "cell_type": "markdown",
      "metadata": {
        "id": "v0UMK72gZlqR"
      },
      "source": [
        "### 3.1 Initial Data and Attribute Assessment"
      ]
    },
    {
      "cell_type": "markdown",
      "metadata": {
        "id": "pY6rMjn3ZlqR"
      },
      "source": [
        "We augmented the dataset and renamed the attributes to appear more similar to a real-world dataset that one usually observes in SAP-ERP systems as part of SAP's Finance and Cost controlling (FICO) module.  \n",
        "このデータセットは、SAPのFinance and Cost Control (FICO)モジュールの一部として、SAP-ERPシステムで通常見られる実世界のデータセットにより近い形になるように、データセットを拡張し、属性の名前を変更しました。\n",
        "\n",
        "The dataset contains a subset of in total 7 categorical and 2 numerical attributes available in the FICO BKPF (containing the posted journal entry headers) and BSEG (containing the posted journal entry segments) tables. Please, find below a list of the individual attributes as well as a brief description of their respective semantics:  \n",
        "このデータセットは、FICO BKPF（仕訳されたジャーナルエントリのヘッダを含む）およびBSEG（仕訳されたジャーナルエントリのセグメントを含む）テーブルで利用可能な、合計7つのカテゴリカル属性と2つの数値属性のサブセットを含んでいます。以下に、個々の属性のリストと、それぞれのセマンティクスの簡単な説明を示します。\n",
        "\n",
        ">- `BELNR`: the accounting document number,　会計書類（仕訳）の番号\n",
        ">- `BUKRS`: the company code, 会社コード\n",
        ">- `BSCHL`: the posting key, 仕訳キー\n",
        ">- `HKONT`: the posted general ledger account,　計上された総勘定元帳の勘定科目\n",
        ">- `PRCTR`: the posted profit center,　計上されているプロフィットセンター\n",
        ">- `WAERS`: the currency key,　通貨キー\n",
        ">- `KTOSL`: the general ledger account key,　総勘定元帳の勘定科目キー\n",
        ">- `DMBTR`: the amount in local currency,　現地通貨での金額\n",
        ">- `WRBTR`: the amount in document currency.　ドキュメントの通貨単位での金額\n",
        "\n",
        "Let's also have a closer look into the top 10 rows of the dataset:  \n",
        "また、データセットの上位10行を詳しく見てみましょう。"
      ]
    },
    {
      "cell_type": "code",
      "metadata": {
        "id": "nLdl1ebiZlqS",
        "colab": {
          "base_uri": "https://localhost:8080/",
          "height": 359
        },
        "outputId": "5026f8dd-1a46-46c0-fb63-32370b2a099b"
      },
      "source": [
        "# inspect top rows of dataset\n",
        "ori_dataset.head(10) "
      ],
      "execution_count": 15,
      "outputs": [
        {
          "output_type": "execute_result",
          "data": {
            "text/html": [
              "<div>\n",
              "<style scoped>\n",
              "    .dataframe tbody tr th:only-of-type {\n",
              "        vertical-align: middle;\n",
              "    }\n",
              "\n",
              "    .dataframe tbody tr th {\n",
              "        vertical-align: top;\n",
              "    }\n",
              "\n",
              "    .dataframe thead th {\n",
              "        text-align: right;\n",
              "    }\n",
              "</style>\n",
              "<table border=\"1\" class=\"dataframe\">\n",
              "  <thead>\n",
              "    <tr style=\"text-align: right;\">\n",
              "      <th></th>\n",
              "      <th>BELNR</th>\n",
              "      <th>WAERS</th>\n",
              "      <th>BUKRS</th>\n",
              "      <th>KTOSL</th>\n",
              "      <th>PRCTR</th>\n",
              "      <th>BSCHL</th>\n",
              "      <th>HKONT</th>\n",
              "      <th>DMBTR</th>\n",
              "      <th>WRBTR</th>\n",
              "      <th>label</th>\n",
              "    </tr>\n",
              "  </thead>\n",
              "  <tbody>\n",
              "    <tr>\n",
              "      <th>0</th>\n",
              "      <td>288203</td>\n",
              "      <td>C3</td>\n",
              "      <td>C31</td>\n",
              "      <td>C9</td>\n",
              "      <td>C92</td>\n",
              "      <td>A3</td>\n",
              "      <td>B1</td>\n",
              "      <td>280979.60</td>\n",
              "      <td>0.00</td>\n",
              "      <td>regular</td>\n",
              "    </tr>\n",
              "    <tr>\n",
              "      <th>1</th>\n",
              "      <td>324441</td>\n",
              "      <td>C1</td>\n",
              "      <td>C18</td>\n",
              "      <td>C7</td>\n",
              "      <td>C76</td>\n",
              "      <td>A1</td>\n",
              "      <td>B2</td>\n",
              "      <td>129856.53</td>\n",
              "      <td>243343.00</td>\n",
              "      <td>regular</td>\n",
              "    </tr>\n",
              "    <tr>\n",
              "      <th>2</th>\n",
              "      <td>133537</td>\n",
              "      <td>C1</td>\n",
              "      <td>C19</td>\n",
              "      <td>C2</td>\n",
              "      <td>C20</td>\n",
              "      <td>A1</td>\n",
              "      <td>B3</td>\n",
              "      <td>957463.97</td>\n",
              "      <td>3183838.41</td>\n",
              "      <td>regular</td>\n",
              "    </tr>\n",
              "    <tr>\n",
              "      <th>3</th>\n",
              "      <td>331521</td>\n",
              "      <td>C4</td>\n",
              "      <td>C48</td>\n",
              "      <td>C9</td>\n",
              "      <td>C95</td>\n",
              "      <td>A2</td>\n",
              "      <td>B1</td>\n",
              "      <td>2681709.51</td>\n",
              "      <td>28778.00</td>\n",
              "      <td>regular</td>\n",
              "    </tr>\n",
              "    <tr>\n",
              "      <th>4</th>\n",
              "      <td>375333</td>\n",
              "      <td>C5</td>\n",
              "      <td>C58</td>\n",
              "      <td>C1</td>\n",
              "      <td>C19</td>\n",
              "      <td>A3</td>\n",
              "      <td>B1</td>\n",
              "      <td>910514.49</td>\n",
              "      <td>346.00</td>\n",
              "      <td>regular</td>\n",
              "    </tr>\n",
              "    <tr>\n",
              "      <th>5</th>\n",
              "      <td>327203</td>\n",
              "      <td>C1</td>\n",
              "      <td>C15</td>\n",
              "      <td>C6</td>\n",
              "      <td>C68</td>\n",
              "      <td>A1</td>\n",
              "      <td>B2</td>\n",
              "      <td>357627.56</td>\n",
              "      <td>704520.00</td>\n",
              "      <td>regular</td>\n",
              "    </tr>\n",
              "    <tr>\n",
              "      <th>6</th>\n",
              "      <td>292545</td>\n",
              "      <td>C4</td>\n",
              "      <td>C47</td>\n",
              "      <td>C2</td>\n",
              "      <td>C28</td>\n",
              "      <td>A2</td>\n",
              "      <td>B3</td>\n",
              "      <td>955576.84</td>\n",
              "      <td>128328.00</td>\n",
              "      <td>regular</td>\n",
              "    </tr>\n",
              "    <tr>\n",
              "      <th>7</th>\n",
              "      <td>335839</td>\n",
              "      <td>C1</td>\n",
              "      <td>C19</td>\n",
              "      <td>C1</td>\n",
              "      <td>C17</td>\n",
              "      <td>A1</td>\n",
              "      <td>B1</td>\n",
              "      <td>41769.26</td>\n",
              "      <td>0.00</td>\n",
              "      <td>regular</td>\n",
              "    </tr>\n",
              "    <tr>\n",
              "      <th>8</th>\n",
              "      <td>369064</td>\n",
              "      <td>C4</td>\n",
              "      <td>C40</td>\n",
              "      <td>C9</td>\n",
              "      <td>C97</td>\n",
              "      <td>A2</td>\n",
              "      <td>B1</td>\n",
              "      <td>44309.79</td>\n",
              "      <td>0.00</td>\n",
              "      <td>regular</td>\n",
              "    </tr>\n",
              "    <tr>\n",
              "      <th>9</th>\n",
              "      <td>138724</td>\n",
              "      <td>C6</td>\n",
              "      <td>C69</td>\n",
              "      <td>C1</td>\n",
              "      <td>C12</td>\n",
              "      <td>A2</td>\n",
              "      <td>B1</td>\n",
              "      <td>466720.45</td>\n",
              "      <td>43843.00</td>\n",
              "      <td>regular</td>\n",
              "    </tr>\n",
              "  </tbody>\n",
              "</table>\n",
              "</div>"
            ],
            "text/plain": [
              "    BELNR WAERS BUKRS KTOSL PRCTR BSCHL HKONT       DMBTR       WRBTR    label\n",
              "0  288203    C3   C31    C9   C92    A3    B1   280979.60        0.00  regular\n",
              "1  324441    C1   C18    C7   C76    A1    B2   129856.53   243343.00  regular\n",
              "2  133537    C1   C19    C2   C20    A1    B3   957463.97  3183838.41  regular\n",
              "3  331521    C4   C48    C9   C95    A2    B1  2681709.51    28778.00  regular\n",
              "4  375333    C5   C58    C1   C19    A3    B1   910514.49      346.00  regular\n",
              "5  327203    C1   C15    C6   C68    A1    B2   357627.56   704520.00  regular\n",
              "6  292545    C4   C47    C2   C28    A2    B3   955576.84   128328.00  regular\n",
              "7  335839    C1   C19    C1   C17    A1    B1    41769.26        0.00  regular\n",
              "8  369064    C4   C40    C9   C97    A2    B1    44309.79        0.00  regular\n",
              "9  138724    C6   C69    C1   C12    A2    B1   466720.45    43843.00  regular"
            ]
          },
          "metadata": {
            "tags": []
          },
          "execution_count": 15
        }
      ]
    },
    {
      "cell_type": "markdown",
      "metadata": {
        "id": "ObrKHeY7ZlqS"
      },
      "source": [
        "You may also have noticed the attribute `label` in the data. We will use this field throughout the lab to evaluate the quality of our trained models. The field describes the true nature of each individual transaction of either being a **regular** transaction (denoted by `regular`) or an **anomaly** (denoted by `global` and `local`). Let's have closer look into the distribution of the regular vs. anomalous transactions in the dataset:  \n",
        "また、データの中に属性ラベルがあることにお気づきでしょうか。このフィールドは、学習したモデルの品質を評価するために研究室全体で使用します。このフィールドには、個々のトランザクションが、通常のトランザクションであるか（regularと表記）、異常なトランザクションであるか（globalとlocalと表記）という真の性質が記述されています。データセット内の正規トランザクションと異常なトランザクションの分布を詳しく見てみましょう。"
      ]
    },
    {
      "cell_type": "code",
      "metadata": {
        "id": "9VpleXkGZlqS",
        "colab": {
          "base_uri": "https://localhost:8080/"
        },
        "outputId": "1611a3ee-dd8e-459c-c51c-a08dd74bb07f"
      },
      "source": [
        "# number of anomalies vs. regular transactions\n",
        "ori_dataset.label.value_counts()"
      ],
      "execution_count": 16,
      "outputs": [
        {
          "output_type": "execute_result",
          "data": {
            "text/plain": [
              "regular    532909\n",
              "global         70\n",
              "local          30\n",
              "Name: label, dtype: int64"
            ]
          },
          "metadata": {
            "tags": []
          },
          "execution_count": 16
        }
      ]
    },
    {
      "cell_type": "markdown",
      "metadata": {
        "id": "9z8z5YeMZlqS"
      },
      "source": [
        "Ok, the statistic reveals that, similar to real world scenarios, we are facing a highly \"unbalanced\" dataset. Overall, the dataset contains only a small fraction of **100 (0.018%)** anomalous transactions. While the 100 anomalous entries encompass **70 (0.013%)** \"global\" anomalies and **30 (0.005%)** \"local\" anomalies as introduced in section 1.2.  \n",
        "この統計により、現実世界のシナリオと同様に、非常に「アンバランス」なデータセットに直面していることがわかりました。全体として、このデータセットには100件（0.018%）の異常な取引のごく一部しか含まれていません。この100件の異常取引には、1.2節で紹介したように、70件(0.013%)の「グローバル」な異常取引と30件(0.005%)の「ローカル」な異常取引が含まれていました。"
      ]
    },
    {
      "cell_type": "code",
      "metadata": {
        "id": "y-JkGQf0ZlqS"
      },
      "source": [
        "# remove the \"ground-truth\" label information for the following steps of the lab\n",
        "label = ori_dataset.pop('label')"
      ],
      "execution_count": 17,
      "outputs": []
    },
    {
      "cell_type": "markdown",
      "metadata": {
        "id": "JTpmsCggZlqS"
      },
      "source": [
        "### 3.2 Pre-Processing of Categorical Transaction Attributes"
      ]
    },
    {
      "cell_type": "markdown",
      "metadata": {
        "id": "mapGm_X-ZlqT"
      },
      "source": [
        "From the initial data assessment above we can observe that the majority of attributes recorded in AIS- and ERP-systems correspond to categorical (discrete) attribute values, e.g. the posting date, the general-ledger account, the posting type, the currency. Let's have a more detailed look into the distribution of two dataset attributes, namely (1) the posting key `BSCHL` as well as (2) the general ledger account `HKONT`:  \n",
        "上記の初期データ評価から、AISシステムやERPシステムに記録されている属性の大部分は、仕訳日、総勘定元帳、仕訳タイプ、通貨などのカテゴリー（離散）属性値に対応していることがわかります。ここでは、2つのデータセットの属性、すなわち、(1)仕訳キーBSCHLと(2)総勘定元帳HKONTの分布について、より詳しく見てみましょう。"
      ]
    },
    {
      "cell_type": "code",
      "metadata": {
        "id": "iSPACukDZlqT",
        "colab": {
          "base_uri": "https://localhost:8080/",
          "height": 223
        },
        "outputId": "7eb88295-6f48-4fb7-c213-73fa946eaa3f"
      },
      "source": [
        "# prepare to plot posting key and general ledger account side by side\n",
        "fig, ax = plt.subplots(1,2)\n",
        "fig.set_figwidth(20)\n",
        "\n",
        "# plot the distribution of the posting key attribute\n",
        "g = sns.countplot(x=ori_dataset['BSCHL'], ax=ax[0])\n",
        "g.set_xticklabels(g.get_xticklabels(), rotation=90)\n",
        "g.set_title('Distribution of BSCHL attribute values')\n",
        "\n",
        "# plot the distribution of the general ledger account attribute\n",
        "g = sns.countplot(x=ori_dataset['HKONT'], ax=ax[1])\n",
        "g.set_xticklabels(g.get_xticklabels(), rotation=90)\n",
        "g.set_title('Distribution of HKONT attribute values')"
      ],
      "execution_count": 18,
      "outputs": [
        {
          "output_type": "execute_result",
          "data": {
            "text/plain": [
              "Text(0.5, 1.0, 'Distribution of HKONT attribute values')"
            ]
          },
          "metadata": {
            "tags": []
          },
          "execution_count": 18
        },
        {
          "output_type": "display_data",
          "data": {
            "image/png": "[encoded data removed]",
            "text/plain": [
              "<Figure size 1440x288 with 2 Axes>"
            ]
          },
          "metadata": {
            "tags": [],
            "needs_background": "light"
          }
        }
      ]
    },
    {
      "cell_type": "markdown",
      "metadata": {
        "id": "vx61fKdMZlqT"
      },
      "source": [
        "Unfortunately, neural networks are in general not designed to be trained directly on categorical data and require the attributes to be trained on to be numeric. One simple way to meet this requirement is by applying a technique referred to as **\"one-hot\" encoding**. Using this encoding technique, we will derive a numerical representation of each of the categorical attribute values. One-hot encoding creates new binary columns for each categorical attribute value present in the original data.   \n",
        "残念ながら、ニューラルネットワークは一般的にカテゴライズされたデータを直接学習するようには設計されておらず、学習の対象となる属性は数値である必要があります。この要求を満たす簡単な方法として、「ワンホット」エンコーディングと呼ばれる技術を適用することができます。このエンコーディング技術を用いて、カテゴリー属性の各値の数値表現を導き出します。「ワンホット」エンコーディングでは、元のデータに存在するカテゴリー属性値ごとに新しいバイナリ列を作成します。\n",
        "\n",
        "Let's work through a brief example: The **categorical attribute “Receiver”** below contains the names \"John\", \"Timur\" and \"Marco\". We \"one-hot\" encode the names by creating a separate binary column for each possible name value observable in the \"Receiver\" column. Now, we encode for each transaction that contains the value \"John\" in the \"Receiver\" column this observation with 1.0 in the newly created \"John\" column and 0.0 in all other created name columns.  \n",
        "簡単な例を見てみましょう。以下のcategorical属性「Receiver」には、「John」、「Timur」、「Marco」という名前が含まれています。「Receiver」列で観測可能な名前の値ごとに別のバイナリ列を作成して、名前を「ワンホット」エンコードします。ここで、「Receiver」列に「John」という値を含む各トランザクションについて、新たに作成した「John」列では1.0、その他の作成した名前列では0.0の観測値をエンコードします。"
      ]
    },
    {
      "cell_type": "markdown",
      "metadata": {
        "id": "uqnpd_k2ZlqT"
      },
      "source": [
        "<img align=\"middle\" style=\"max-width: 430px; height: auto\" src=\"https://github.com/GitiHubi/deepAI/blob/master/images/encoding.png?raw=1\">"
      ]
    },
    {
      "cell_type": "markdown",
      "metadata": {
        "id": "ZalNyo9YZlqT"
      },
      "source": [
        "Using this technique will \"one-hot\" encode the 6 categorical attributes in the original transactional dataset. This can be achieved using the `get_dummies()` function available in the Pandas data science library:    \n",
        "この手法を用いることで、元のトランザクションデータセットに含まれる6つのカテゴリー属性を「ワンショット」でエンコードすることができます。これは、Pandasデータサイエンスライブラリにあるget_dummies()関数を使って実現できます。"
      ]
    },
    {
      "cell_type": "code",
      "metadata": {
        "id": "Zwyr_KFVZlqT"
      },
      "source": [
        "# select categorical attributes to be \"one-hot\" encoded\n",
        "categorical_attr_names = ['KTOSL', 'PRCTR', 'BSCHL', 'HKONT']\n",
        "\n",
        "# encode categorical attributes into a binary one-hot encoded representation \n",
        "ori_dataset_categ_transformed = pd.get_dummies(ori_dataset[categorical_attr_names])"
      ],
      "execution_count": 19,
      "outputs": []
    },
    {
      "cell_type": "markdown",
      "metadata": {
        "id": "mSoxN1w9ZlqT"
      },
      "source": [
        "Finally, let's inspect the encoding of 10 sample transactions to see if we have been successfull.  \n",
        "最後に、成功したかどうかを確認するために、10のサンプルトランザクションのエンコーディングを検査してみましょう。"
      ]
    },
    {
      "cell_type": "code",
      "metadata": {
        "id": "nDapMkilZlqV",
        "colab": {
          "base_uri": "https://localhost:8080/",
          "height": 408
        },
        "outputId": "2da6a543-ccd3-4d5f-f03d-d625e72fba76"
      },
      "source": [
        "# inspect encoded sample transactions\n",
        "ori_dataset_categ_transformed.head(10)"
      ],
      "execution_count": 20,
      "outputs": [
        {
          "output_type": "execute_result",
          "data": {
            "text/html": [
              "<div>\n",
              "<style scoped>\n",
              "    .dataframe tbody tr th:only-of-type {\n",
              "        vertical-align: middle;\n",
              "    }\n",
              "\n",
              "    .dataframe tbody tr th {\n",
              "        vertical-align: top;\n",
              "    }\n",
              "\n",
              "    .dataframe thead th {\n",
              "        text-align: right;\n",
              "    }\n",
              "</style>\n",
              "<table border=\"1\" class=\"dataframe\">\n",
              "  <thead>\n",
              "    <tr style=\"text-align: right;\">\n",
              "      <th></th>\n",
              "      <th>KTOSL_A19</th>\n",
              "      <th>KTOSL_B06</th>\n",
              "      <th>KTOSL_B12</th>\n",
              "      <th>KTOSL_B83</th>\n",
              "      <th>KTOSL_C1</th>\n",
              "      <th>KTOSL_C2</th>\n",
              "      <th>KTOSL_C3</th>\n",
              "      <th>KTOSL_C39</th>\n",
              "      <th>KTOSL_C4</th>\n",
              "      <th>KTOSL_C5</th>\n",
              "      <th>KTOSL_C6</th>\n",
              "      <th>KTOSL_C7</th>\n",
              "      <th>KTOSL_C76</th>\n",
              "      <th>KTOSL_C8</th>\n",
              "      <th>KTOSL_C84</th>\n",
              "      <th>KTOSL_C9</th>\n",
              "      <th>KTOSL_D30</th>\n",
              "      <th>KTOSL_D51</th>\n",
              "      <th>KTOSL_D84</th>\n",
              "      <th>KTOSL_D89</th>\n",
              "      <th>KTOSL_E35</th>\n",
              "      <th>KTOSL_E40</th>\n",
              "      <th>KTOSL_F19</th>\n",
              "      <th>KTOSL_F45</th>\n",
              "      <th>KTOSL_G09</th>\n",
              "      <th>KTOSL_G19</th>\n",
              "      <th>KTOSL_G28</th>\n",
              "      <th>KTOSL_I08</th>\n",
              "      <th>KTOSL_I94</th>\n",
              "      <th>KTOSL_J33</th>\n",
              "      <th>KTOSL_J53</th>\n",
              "      <th>KTOSL_J67</th>\n",
              "      <th>KTOSL_J81</th>\n",
              "      <th>KTOSL_K00</th>\n",
              "      <th>KTOSL_K78</th>\n",
              "      <th>KTOSL_K80</th>\n",
              "      <th>KTOSL_K84</th>\n",
              "      <th>KTOSL_L07</th>\n",
              "      <th>KTOSL_L09</th>\n",
              "      <th>KTOSL_L17</th>\n",
              "      <th>...</th>\n",
              "      <th>HKONT_L03</th>\n",
              "      <th>HKONT_L31</th>\n",
              "      <th>HKONT_L70</th>\n",
              "      <th>HKONT_L79</th>\n",
              "      <th>HKONT_M08</th>\n",
              "      <th>HKONT_M13</th>\n",
              "      <th>HKONT_N10</th>\n",
              "      <th>HKONT_N28</th>\n",
              "      <th>HKONT_N47</th>\n",
              "      <th>HKONT_N94</th>\n",
              "      <th>HKONT_N95</th>\n",
              "      <th>HKONT_O94</th>\n",
              "      <th>HKONT_Q69</th>\n",
              "      <th>HKONT_Q81</th>\n",
              "      <th>HKONT_Q93</th>\n",
              "      <th>HKONT_Q99</th>\n",
              "      <th>HKONT_R19</th>\n",
              "      <th>HKONT_R89</th>\n",
              "      <th>HKONT_S06</th>\n",
              "      <th>HKONT_S49</th>\n",
              "      <th>HKONT_S52</th>\n",
              "      <th>HKONT_T15</th>\n",
              "      <th>HKONT_T37</th>\n",
              "      <th>HKONT_T45</th>\n",
              "      <th>HKONT_T91</th>\n",
              "      <th>HKONT_T94</th>\n",
              "      <th>HKONT_U00</th>\n",
              "      <th>HKONT_U09</th>\n",
              "      <th>HKONT_U45</th>\n",
              "      <th>HKONT_U92</th>\n",
              "      <th>HKONT_V78</th>\n",
              "      <th>HKONT_V92</th>\n",
              "      <th>HKONT_W03</th>\n",
              "      <th>HKONT_W12</th>\n",
              "      <th>HKONT_W62</th>\n",
              "      <th>HKONT_X53</th>\n",
              "      <th>HKONT_Y03</th>\n",
              "      <th>HKONT_Y23</th>\n",
              "      <th>HKONT_Z01</th>\n",
              "      <th>HKONT_Z02</th>\n",
              "    </tr>\n",
              "  </thead>\n",
              "  <tbody>\n",
              "    <tr>\n",
              "      <th>0</th>\n",
              "      <td>0</td>\n",
              "      <td>0</td>\n",
              "      <td>0</td>\n",
              "      <td>0</td>\n",
              "      <td>0</td>\n",
              "      <td>0</td>\n",
              "      <td>0</td>\n",
              "      <td>0</td>\n",
              "      <td>0</td>\n",
              "      <td>0</td>\n",
              "      <td>0</td>\n",
              "      <td>0</td>\n",
              "      <td>0</td>\n",
              "      <td>0</td>\n",
              "      <td>0</td>\n",
              "      <td>1</td>\n",
              "      <td>0</td>\n",
              "      <td>0</td>\n",
              "      <td>0</td>\n",
              "      <td>0</td>\n",
              "      <td>0</td>\n",
              "      <td>0</td>\n",
              "      <td>0</td>\n",
              "      <td>0</td>\n",
              "      <td>0</td>\n",
              "      <td>0</td>\n",
              "      <td>0</td>\n",
              "      <td>0</td>\n",
              "      <td>0</td>\n",
              "      <td>0</td>\n",
              "      <td>0</td>\n",
              "      <td>0</td>\n",
              "      <td>0</td>\n",
              "      <td>0</td>\n",
              "      <td>0</td>\n",
              "      <td>0</td>\n",
              "      <td>0</td>\n",
              "      <td>0</td>\n",
              "      <td>0</td>\n",
              "      <td>0</td>\n",
              "      <td>...</td>\n",
              "      <td>0</td>\n",
              "      <td>0</td>\n",
              "      <td>0</td>\n",
              "      <td>0</td>\n",
              "      <td>0</td>\n",
              "      <td>0</td>\n",
              "      <td>0</td>\n",
              "      <td>0</td>\n",
              "      <td>0</td>\n",
              "      <td>0</td>\n",
              "      <td>0</td>\n",
              "      <td>0</td>\n",
              "      <td>0</td>\n",
              "      <td>0</td>\n",
              "      <td>0</td>\n",
              "      <td>0</td>\n",
              "      <td>0</td>\n",
              "      <td>0</td>\n",
              "      <td>0</td>\n",
              "      <td>0</td>\n",
              "      <td>0</td>\n",
              "      <td>0</td>\n",
              "      <td>0</td>\n",
              "      <td>0</td>\n",
              "      <td>0</td>\n",
              "      <td>0</td>\n",
              "      <td>0</td>\n",
              "      <td>0</td>\n",
              "      <td>0</td>\n",
              "      <td>0</td>\n",
              "      <td>0</td>\n",
              "      <td>0</td>\n",
              "      <td>0</td>\n",
              "      <td>0</td>\n",
              "      <td>0</td>\n",
              "      <td>0</td>\n",
              "      <td>0</td>\n",
              "      <td>0</td>\n",
              "      <td>0</td>\n",
              "      <td>0</td>\n",
              "    </tr>\n",
              "    <tr>\n",
              "      <th>1</th>\n",
              "      <td>0</td>\n",
              "      <td>0</td>\n",
              "      <td>0</td>\n",
              "      <td>0</td>\n",
              "      <td>0</td>\n",
              "      <td>0</td>\n",
              "      <td>0</td>\n",
              "      <td>0</td>\n",
              "      <td>0</td>\n",
              "      <td>0</td>\n",
              "      <td>0</td>\n",
              "      <td>1</td>\n",
              "      <td>0</td>\n",
              "      <td>0</td>\n",
              "      <td>0</td>\n",
              "      <td>0</td>\n",
              "      <td>0</td>\n",
              "      <td>0</td>\n",
              "      <td>0</td>\n",
              "      <td>0</td>\n",
              "      <td>0</td>\n",
              "      <td>0</td>\n",
              "      <td>0</td>\n",
              "      <td>0</td>\n",
              "      <td>0</td>\n",
              "      <td>0</td>\n",
              "      <td>0</td>\n",
              "      <td>0</td>\n",
              "      <td>0</td>\n",
              "      <td>0</td>\n",
              "      <td>0</td>\n",
              "      <td>0</td>\n",
              "      <td>0</td>\n",
              "      <td>0</td>\n",
              "      <td>0</td>\n",
              "      <td>0</td>\n",
              "      <td>0</td>\n",
              "      <td>0</td>\n",
              "      <td>0</td>\n",
              "      <td>0</td>\n",
              "      <td>...</td>\n",
              "      <td>0</td>\n",
              "      <td>0</td>\n",
              "      <td>0</td>\n",
              "      <td>0</td>\n",
              "      <td>0</td>\n",
              "      <td>0</td>\n",
              "      <td>0</td>\n",
              "      <td>0</td>\n",
              "      <td>0</td>\n",
              "      <td>0</td>\n",
              "      <td>0</td>\n",
              "      <td>0</td>\n",
              "      <td>0</td>\n",
              "      <td>0</td>\n",
              "      <td>0</td>\n",
              "      <td>0</td>\n",
              "      <td>0</td>\n",
              "      <td>0</td>\n",
              "      <td>0</td>\n",
              "      <td>0</td>\n",
              "      <td>0</td>\n",
              "      <td>0</td>\n",
              "      <td>0</td>\n",
              "      <td>0</td>\n",
              "      <td>0</td>\n",
              "      <td>0</td>\n",
              "      <td>0</td>\n",
              "      <td>0</td>\n",
              "      <td>0</td>\n",
              "      <td>0</td>\n",
              "      <td>0</td>\n",
              "      <td>0</td>\n",
              "      <td>0</td>\n",
              "      <td>0</td>\n",
              "      <td>0</td>\n",
              "      <td>0</td>\n",
              "      <td>0</td>\n",
              "      <td>0</td>\n",
              "      <td>0</td>\n",
              "      <td>0</td>\n",
              "    </tr>\n",
              "    <tr>\n",
              "      <th>2</th>\n",
              "      <td>0</td>\n",
              "      <td>0</td>\n",
              "      <td>0</td>\n",
              "      <td>0</td>\n",
              "      <td>0</td>\n",
              "      <td>1</td>\n",
              "      <td>0</td>\n",
              "      <td>0</td>\n",
              "      <td>0</td>\n",
              "      <td>0</td>\n",
              "      <td>0</td>\n",
              "      <td>0</td>\n",
              "      <td>0</td>\n",
              "      <td>0</td>\n",
              "      <td>0</td>\n",
              "      <td>0</td>\n",
              "      <td>0</td>\n",
              "      <td>0</td>\n",
              "      <td>0</td>\n",
              "      <td>0</td>\n",
              "      <td>0</td>\n",
              "      <td>0</td>\n",
              "      <td>0</td>\n",
              "      <td>0</td>\n",
              "      <td>0</td>\n",
              "      <td>0</td>\n",
              "      <td>0</td>\n",
              "      <td>0</td>\n",
              "      <td>0</td>\n",
              "      <td>0</td>\n",
              "      <td>0</td>\n",
              "      <td>0</td>\n",
              "      <td>0</td>\n",
              "      <td>0</td>\n",
              "      <td>0</td>\n",
              "      <td>0</td>\n",
              "      <td>0</td>\n",
              "      <td>0</td>\n",
              "      <td>0</td>\n",
              "      <td>0</td>\n",
              "      <td>...</td>\n",
              "      <td>0</td>\n",
              "      <td>0</td>\n",
              "      <td>0</td>\n",
              "      <td>0</td>\n",
              "      <td>0</td>\n",
              "      <td>0</td>\n",
              "      <td>0</td>\n",
              "      <td>0</td>\n",
              "      <td>0</td>\n",
              "      <td>0</td>\n",
              "      <td>0</td>\n",
              "      <td>0</td>\n",
              "      <td>0</td>\n",
              "      <td>0</td>\n",
              "      <td>0</td>\n",
              "      <td>0</td>\n",
              "      <td>0</td>\n",
              "      <td>0</td>\n",
              "      <td>0</td>\n",
              "      <td>0</td>\n",
              "      <td>0</td>\n",
              "      <td>0</td>\n",
              "      <td>0</td>\n",
              "      <td>0</td>\n",
              "      <td>0</td>\n",
              "      <td>0</td>\n",
              "      <td>0</td>\n",
              "      <td>0</td>\n",
              "      <td>0</td>\n",
              "      <td>0</td>\n",
              "      <td>0</td>\n",
              "      <td>0</td>\n",
              "      <td>0</td>\n",
              "      <td>0</td>\n",
              "      <td>0</td>\n",
              "      <td>0</td>\n",
              "      <td>0</td>\n",
              "      <td>0</td>\n",
              "      <td>0</td>\n",
              "      <td>0</td>\n",
              "    </tr>\n",
              "    <tr>\n",
              "      <th>3</th>\n",
              "      <td>0</td>\n",
              "      <td>0</td>\n",
              "      <td>0</td>\n",
              "      <td>0</td>\n",
              "      <td>0</td>\n",
              "      <td>0</td>\n",
              "      <td>0</td>\n",
              "      <td>0</td>\n",
              "      <td>0</td>\n",
              "      <td>0</td>\n",
              "      <td>0</td>\n",
              "      <td>0</td>\n",
              "      <td>0</td>\n",
              "      <td>0</td>\n",
              "      <td>0</td>\n",
              "      <td>1</td>\n",
              "      <td>0</td>\n",
              "      <td>0</td>\n",
              "      <td>0</td>\n",
              "      <td>0</td>\n",
              "      <td>0</td>\n",
              "      <td>0</td>\n",
              "      <td>0</td>\n",
              "      <td>0</td>\n",
              "      <td>0</td>\n",
              "      <td>0</td>\n",
              "      <td>0</td>\n",
              "      <td>0</td>\n",
              "      <td>0</td>\n",
              "      <td>0</td>\n",
              "      <td>0</td>\n",
              "      <td>0</td>\n",
              "      <td>0</td>\n",
              "      <td>0</td>\n",
              "      <td>0</td>\n",
              "      <td>0</td>\n",
              "      <td>0</td>\n",
              "      <td>0</td>\n",
              "      <td>0</td>\n",
              "      <td>0</td>\n",
              "      <td>...</td>\n",
              "      <td>0</td>\n",
              "      <td>0</td>\n",
              "      <td>0</td>\n",
              "      <td>0</td>\n",
              "      <td>0</td>\n",
              "      <td>0</td>\n",
              "      <td>0</td>\n",
              "      <td>0</td>\n",
              "      <td>0</td>\n",
              "      <td>0</td>\n",
              "      <td>0</td>\n",
              "      <td>0</td>\n",
              "      <td>0</td>\n",
              "      <td>0</td>\n",
              "      <td>0</td>\n",
              "      <td>0</td>\n",
              "      <td>0</td>\n",
              "      <td>0</td>\n",
              "      <td>0</td>\n",
              "      <td>0</td>\n",
              "      <td>0</td>\n",
              "      <td>0</td>\n",
              "      <td>0</td>\n",
              "      <td>0</td>\n",
              "      <td>0</td>\n",
              "      <td>0</td>\n",
              "      <td>0</td>\n",
              "      <td>0</td>\n",
              "      <td>0</td>\n",
              "      <td>0</td>\n",
              "      <td>0</td>\n",
              "      <td>0</td>\n",
              "      <td>0</td>\n",
              "      <td>0</td>\n",
              "      <td>0</td>\n",
              "      <td>0</td>\n",
              "      <td>0</td>\n",
              "      <td>0</td>\n",
              "      <td>0</td>\n",
              "      <td>0</td>\n",
              "    </tr>\n",
              "    <tr>\n",
              "      <th>4</th>\n",
              "      <td>0</td>\n",
              "      <td>0</td>\n",
              "      <td>0</td>\n",
              "      <td>0</td>\n",
              "      <td>1</td>\n",
              "      <td>0</td>\n",
              "      <td>0</td>\n",
              "      <td>0</td>\n",
              "      <td>0</td>\n",
              "      <td>0</td>\n",
              "      <td>0</td>\n",
              "      <td>0</td>\n",
              "      <td>0</td>\n",
              "      <td>0</td>\n",
              "      <td>0</td>\n",
              "      <td>0</td>\n",
              "      <td>0</td>\n",
              "      <td>0</td>\n",
              "      <td>0</td>\n",
              "      <td>0</td>\n",
              "      <td>0</td>\n",
              "      <td>0</td>\n",
              "      <td>0</td>\n",
              "      <td>0</td>\n",
              "      <td>0</td>\n",
              "      <td>0</td>\n",
              "      <td>0</td>\n",
              "      <td>0</td>\n",
              "      <td>0</td>\n",
              "      <td>0</td>\n",
              "      <td>0</td>\n",
              "      <td>0</td>\n",
              "      <td>0</td>\n",
              "      <td>0</td>\n",
              "      <td>0</td>\n",
              "      <td>0</td>\n",
              "      <td>0</td>\n",
              "      <td>0</td>\n",
              "      <td>0</td>\n",
              "      <td>0</td>\n",
              "      <td>...</td>\n",
              "      <td>0</td>\n",
              "      <td>0</td>\n",
              "      <td>0</td>\n",
              "      <td>0</td>\n",
              "      <td>0</td>\n",
              "      <td>0</td>\n",
              "      <td>0</td>\n",
              "      <td>0</td>\n",
              "      <td>0</td>\n",
              "      <td>0</td>\n",
              "      <td>0</td>\n",
              "      <td>0</td>\n",
              "      <td>0</td>\n",
              "      <td>0</td>\n",
              "      <td>0</td>\n",
              "      <td>0</td>\n",
              "      <td>0</td>\n",
              "      <td>0</td>\n",
              "      <td>0</td>\n",
              "      <td>0</td>\n",
              "      <td>0</td>\n",
              "      <td>0</td>\n",
              "      <td>0</td>\n",
              "      <td>0</td>\n",
              "      <td>0</td>\n",
              "      <td>0</td>\n",
              "      <td>0</td>\n",
              "      <td>0</td>\n",
              "      <td>0</td>\n",
              "      <td>0</td>\n",
              "      <td>0</td>\n",
              "      <td>0</td>\n",
              "      <td>0</td>\n",
              "      <td>0</td>\n",
              "      <td>0</td>\n",
              "      <td>0</td>\n",
              "      <td>0</td>\n",
              "      <td>0</td>\n",
              "      <td>0</td>\n",
              "      <td>0</td>\n",
              "    </tr>\n",
              "    <tr>\n",
              "      <th>5</th>\n",
              "      <td>0</td>\n",
              "      <td>0</td>\n",
              "      <td>0</td>\n",
              "      <td>0</td>\n",
              "      <td>0</td>\n",
              "      <td>0</td>\n",
              "      <td>0</td>\n",
              "      <td>0</td>\n",
              "      <td>0</td>\n",
              "      <td>0</td>\n",
              "      <td>1</td>\n",
              "      <td>0</td>\n",
              "      <td>0</td>\n",
              "      <td>0</td>\n",
              "      <td>0</td>\n",
              "      <td>0</td>\n",
              "      <td>0</td>\n",
              "      <td>0</td>\n",
              "      <td>0</td>\n",
              "      <td>0</td>\n",
              "      <td>0</td>\n",
              "      <td>0</td>\n",
              "      <td>0</td>\n",
              "      <td>0</td>\n",
              "      <td>0</td>\n",
              "      <td>0</td>\n",
              "      <td>0</td>\n",
              "      <td>0</td>\n",
              "      <td>0</td>\n",
              "      <td>0</td>\n",
              "      <td>0</td>\n",
              "      <td>0</td>\n",
              "      <td>0</td>\n",
              "      <td>0</td>\n",
              "      <td>0</td>\n",
              "      <td>0</td>\n",
              "      <td>0</td>\n",
              "      <td>0</td>\n",
              "      <td>0</td>\n",
              "      <td>0</td>\n",
              "      <td>...</td>\n",
              "      <td>0</td>\n",
              "      <td>0</td>\n",
              "      <td>0</td>\n",
              "      <td>0</td>\n",
              "      <td>0</td>\n",
              "      <td>0</td>\n",
              "      <td>0</td>\n",
              "      <td>0</td>\n",
              "      <td>0</td>\n",
              "      <td>0</td>\n",
              "      <td>0</td>\n",
              "      <td>0</td>\n",
              "      <td>0</td>\n",
              "      <td>0</td>\n",
              "      <td>0</td>\n",
              "      <td>0</td>\n",
              "      <td>0</td>\n",
              "      <td>0</td>\n",
              "      <td>0</td>\n",
              "      <td>0</td>\n",
              "      <td>0</td>\n",
              "      <td>0</td>\n",
              "      <td>0</td>\n",
              "      <td>0</td>\n",
              "      <td>0</td>\n",
              "      <td>0</td>\n",
              "      <td>0</td>\n",
              "      <td>0</td>\n",
              "      <td>0</td>\n",
              "      <td>0</td>\n",
              "      <td>0</td>\n",
              "      <td>0</td>\n",
              "      <td>0</td>\n",
              "      <td>0</td>\n",
              "      <td>0</td>\n",
              "      <td>0</td>\n",
              "      <td>0</td>\n",
              "      <td>0</td>\n",
              "      <td>0</td>\n",
              "      <td>0</td>\n",
              "    </tr>\n",
              "    <tr>\n",
              "      <th>6</th>\n",
              "      <td>0</td>\n",
              "      <td>0</td>\n",
              "      <td>0</td>\n",
              "      <td>0</td>\n",
              "      <td>0</td>\n",
              "      <td>1</td>\n",
              "      <td>0</td>\n",
              "      <td>0</td>\n",
              "      <td>0</td>\n",
              "      <td>0</td>\n",
              "      <td>0</td>\n",
              "      <td>0</td>\n",
              "      <td>0</td>\n",
              "      <td>0</td>\n",
              "      <td>0</td>\n",
              "      <td>0</td>\n",
              "      <td>0</td>\n",
              "      <td>0</td>\n",
              "      <td>0</td>\n",
              "      <td>0</td>\n",
              "      <td>0</td>\n",
              "      <td>0</td>\n",
              "      <td>0</td>\n",
              "      <td>0</td>\n",
              "      <td>0</td>\n",
              "      <td>0</td>\n",
              "      <td>0</td>\n",
              "      <td>0</td>\n",
              "      <td>0</td>\n",
              "      <td>0</td>\n",
              "      <td>0</td>\n",
              "      <td>0</td>\n",
              "      <td>0</td>\n",
              "      <td>0</td>\n",
              "      <td>0</td>\n",
              "      <td>0</td>\n",
              "      <td>0</td>\n",
              "      <td>0</td>\n",
              "      <td>0</td>\n",
              "      <td>0</td>\n",
              "      <td>...</td>\n",
              "      <td>0</td>\n",
              "      <td>0</td>\n",
              "      <td>0</td>\n",
              "      <td>0</td>\n",
              "      <td>0</td>\n",
              "      <td>0</td>\n",
              "      <td>0</td>\n",
              "      <td>0</td>\n",
              "      <td>0</td>\n",
              "      <td>0</td>\n",
              "      <td>0</td>\n",
              "      <td>0</td>\n",
              "      <td>0</td>\n",
              "      <td>0</td>\n",
              "      <td>0</td>\n",
              "      <td>0</td>\n",
              "      <td>0</td>\n",
              "      <td>0</td>\n",
              "      <td>0</td>\n",
              "      <td>0</td>\n",
              "      <td>0</td>\n",
              "      <td>0</td>\n",
              "      <td>0</td>\n",
              "      <td>0</td>\n",
              "      <td>0</td>\n",
              "      <td>0</td>\n",
              "      <td>0</td>\n",
              "      <td>0</td>\n",
              "      <td>0</td>\n",
              "      <td>0</td>\n",
              "      <td>0</td>\n",
              "      <td>0</td>\n",
              "      <td>0</td>\n",
              "      <td>0</td>\n",
              "      <td>0</td>\n",
              "      <td>0</td>\n",
              "      <td>0</td>\n",
              "      <td>0</td>\n",
              "      <td>0</td>\n",
              "      <td>0</td>\n",
              "    </tr>\n",
              "    <tr>\n",
              "      <th>7</th>\n",
              "      <td>0</td>\n",
              "      <td>0</td>\n",
              "      <td>0</td>\n",
              "      <td>0</td>\n",
              "      <td>1</td>\n",
              "      <td>0</td>\n",
              "      <td>0</td>\n",
              "      <td>0</td>\n",
              "      <td>0</td>\n",
              "      <td>0</td>\n",
              "      <td>0</td>\n",
              "      <td>0</td>\n",
              "      <td>0</td>\n",
              "      <td>0</td>\n",
              "      <td>0</td>\n",
              "      <td>0</td>\n",
              "      <td>0</td>\n",
              "      <td>0</td>\n",
              "      <td>0</td>\n",
              "      <td>0</td>\n",
              "      <td>0</td>\n",
              "      <td>0</td>\n",
              "      <td>0</td>\n",
              "      <td>0</td>\n",
              "      <td>0</td>\n",
              "      <td>0</td>\n",
              "      <td>0</td>\n",
              "      <td>0</td>\n",
              "      <td>0</td>\n",
              "      <td>0</td>\n",
              "      <td>0</td>\n",
              "      <td>0</td>\n",
              "      <td>0</td>\n",
              "      <td>0</td>\n",
              "      <td>0</td>\n",
              "      <td>0</td>\n",
              "      <td>0</td>\n",
              "      <td>0</td>\n",
              "      <td>0</td>\n",
              "      <td>0</td>\n",
              "      <td>...</td>\n",
              "      <td>0</td>\n",
              "      <td>0</td>\n",
              "      <td>0</td>\n",
              "      <td>0</td>\n",
              "      <td>0</td>\n",
              "      <td>0</td>\n",
              "      <td>0</td>\n",
              "      <td>0</td>\n",
              "      <td>0</td>\n",
              "      <td>0</td>\n",
              "      <td>0</td>\n",
              "      <td>0</td>\n",
              "      <td>0</td>\n",
              "      <td>0</td>\n",
              "      <td>0</td>\n",
              "      <td>0</td>\n",
              "      <td>0</td>\n",
              "      <td>0</td>\n",
              "      <td>0</td>\n",
              "      <td>0</td>\n",
              "      <td>0</td>\n",
              "      <td>0</td>\n",
              "      <td>0</td>\n",
              "      <td>0</td>\n",
              "      <td>0</td>\n",
              "      <td>0</td>\n",
              "      <td>0</td>\n",
              "      <td>0</td>\n",
              "      <td>0</td>\n",
              "      <td>0</td>\n",
              "      <td>0</td>\n",
              "      <td>0</td>\n",
              "      <td>0</td>\n",
              "      <td>0</td>\n",
              "      <td>0</td>\n",
              "      <td>0</td>\n",
              "      <td>0</td>\n",
              "      <td>0</td>\n",
              "      <td>0</td>\n",
              "      <td>0</td>\n",
              "    </tr>\n",
              "    <tr>\n",
              "      <th>8</th>\n",
              "      <td>0</td>\n",
              "      <td>0</td>\n",
              "      <td>0</td>\n",
              "      <td>0</td>\n",
              "      <td>0</td>\n",
              "      <td>0</td>\n",
              "      <td>0</td>\n",
              "      <td>0</td>\n",
              "      <td>0</td>\n",
              "      <td>0</td>\n",
              "      <td>0</td>\n",
              "      <td>0</td>\n",
              "      <td>0</td>\n",
              "      <td>0</td>\n",
              "      <td>0</td>\n",
              "      <td>1</td>\n",
              "      <td>0</td>\n",
              "      <td>0</td>\n",
              "      <td>0</td>\n",
              "      <td>0</td>\n",
              "      <td>0</td>\n",
              "      <td>0</td>\n",
              "      <td>0</td>\n",
              "      <td>0</td>\n",
              "      <td>0</td>\n",
              "      <td>0</td>\n",
              "      <td>0</td>\n",
              "      <td>0</td>\n",
              "      <td>0</td>\n",
              "      <td>0</td>\n",
              "      <td>0</td>\n",
              "      <td>0</td>\n",
              "      <td>0</td>\n",
              "      <td>0</td>\n",
              "      <td>0</td>\n",
              "      <td>0</td>\n",
              "      <td>0</td>\n",
              "      <td>0</td>\n",
              "      <td>0</td>\n",
              "      <td>0</td>\n",
              "      <td>...</td>\n",
              "      <td>0</td>\n",
              "      <td>0</td>\n",
              "      <td>0</td>\n",
              "      <td>0</td>\n",
              "      <td>0</td>\n",
              "      <td>0</td>\n",
              "      <td>0</td>\n",
              "      <td>0</td>\n",
              "      <td>0</td>\n",
              "      <td>0</td>\n",
              "      <td>0</td>\n",
              "      <td>0</td>\n",
              "      <td>0</td>\n",
              "      <td>0</td>\n",
              "      <td>0</td>\n",
              "      <td>0</td>\n",
              "      <td>0</td>\n",
              "      <td>0</td>\n",
              "      <td>0</td>\n",
              "      <td>0</td>\n",
              "      <td>0</td>\n",
              "      <td>0</td>\n",
              "      <td>0</td>\n",
              "      <td>0</td>\n",
              "      <td>0</td>\n",
              "      <td>0</td>\n",
              "      <td>0</td>\n",
              "      <td>0</td>\n",
              "      <td>0</td>\n",
              "      <td>0</td>\n",
              "      <td>0</td>\n",
              "      <td>0</td>\n",
              "      <td>0</td>\n",
              "      <td>0</td>\n",
              "      <td>0</td>\n",
              "      <td>0</td>\n",
              "      <td>0</td>\n",
              "      <td>0</td>\n",
              "      <td>0</td>\n",
              "      <td>0</td>\n",
              "    </tr>\n",
              "    <tr>\n",
              "      <th>9</th>\n",
              "      <td>0</td>\n",
              "      <td>0</td>\n",
              "      <td>0</td>\n",
              "      <td>0</td>\n",
              "      <td>1</td>\n",
              "      <td>0</td>\n",
              "      <td>0</td>\n",
              "      <td>0</td>\n",
              "      <td>0</td>\n",
              "      <td>0</td>\n",
              "      <td>0</td>\n",
              "      <td>0</td>\n",
              "      <td>0</td>\n",
              "      <td>0</td>\n",
              "      <td>0</td>\n",
              "      <td>0</td>\n",
              "      <td>0</td>\n",
              "      <td>0</td>\n",
              "      <td>0</td>\n",
              "      <td>0</td>\n",
              "      <td>0</td>\n",
              "      <td>0</td>\n",
              "      <td>0</td>\n",
              "      <td>0</td>\n",
              "      <td>0</td>\n",
              "      <td>0</td>\n",
              "      <td>0</td>\n",
              "      <td>0</td>\n",
              "      <td>0</td>\n",
              "      <td>0</td>\n",
              "      <td>0</td>\n",
              "      <td>0</td>\n",
              "      <td>0</td>\n",
              "      <td>0</td>\n",
              "      <td>0</td>\n",
              "      <td>0</td>\n",
              "      <td>0</td>\n",
              "      <td>0</td>\n",
              "      <td>0</td>\n",
              "      <td>0</td>\n",
              "      <td>...</td>\n",
              "      <td>0</td>\n",
              "      <td>0</td>\n",
              "      <td>0</td>\n",
              "      <td>0</td>\n",
              "      <td>0</td>\n",
              "      <td>0</td>\n",
              "      <td>0</td>\n",
              "      <td>0</td>\n",
              "      <td>0</td>\n",
              "      <td>0</td>\n",
              "      <td>0</td>\n",
              "      <td>0</td>\n",
              "      <td>0</td>\n",
              "      <td>0</td>\n",
              "      <td>0</td>\n",
              "      <td>0</td>\n",
              "      <td>0</td>\n",
              "      <td>0</td>\n",
              "      <td>0</td>\n",
              "      <td>0</td>\n",
              "      <td>0</td>\n",
              "      <td>0</td>\n",
              "      <td>0</td>\n",
              "      <td>0</td>\n",
              "      <td>0</td>\n",
              "      <td>0</td>\n",
              "      <td>0</td>\n",
              "      <td>0</td>\n",
              "      <td>0</td>\n",
              "      <td>0</td>\n",
              "      <td>0</td>\n",
              "      <td>0</td>\n",
              "      <td>0</td>\n",
              "      <td>0</td>\n",
              "      <td>0</td>\n",
              "      <td>0</td>\n",
              "      <td>0</td>\n",
              "      <td>0</td>\n",
              "      <td>0</td>\n",
              "      <td>0</td>\n",
              "    </tr>\n",
              "  </tbody>\n",
              "</table>\n",
              "<p>10 rows × 382 columns</p>\n",
              "</div>"
            ],
            "text/plain": [
              "   KTOSL_A19  KTOSL_B06  KTOSL_B12  ...  HKONT_Y23  HKONT_Z01  HKONT_Z02\n",
              "0          0          0          0  ...          0          0          0\n",
              "1          0          0          0  ...          0          0          0\n",
              "2          0          0          0  ...          0          0          0\n",
              "3          0          0          0  ...          0          0          0\n",
              "4          0          0          0  ...          0          0          0\n",
              "5          0          0          0  ...          0          0          0\n",
              "6          0          0          0  ...          0          0          0\n",
              "7          0          0          0  ...          0          0          0\n",
              "8          0          0          0  ...          0          0          0\n",
              "9          0          0          0  ...          0          0          0\n",
              "\n",
              "[10 rows x 382 columns]"
            ]
          },
          "metadata": {
            "tags": []
          },
          "execution_count": 20
        }
      ]
    },
    {
      "cell_type": "markdown",
      "metadata": {
        "id": "yZlySSaCZlqW"
      },
      "source": [
        "### 3.2 Pre-Processing of Numerical Transaction Attributes"
      ]
    },
    {
      "cell_type": "markdown",
      "metadata": {
        "id": "34xDAkNoZlqW"
      },
      "source": [
        "Let's now inspect the distributions of the two numerical attributes contained in the transactional dataset namely, the (1) local currency amount `DMBTR` and the (2) document currency amount `WRBTR`:  \n",
        "ここで、トランザクションデータセットに含まれる2つの数値属性、すなわち、(1)現地通貨額DMBTRと(2)文書通貨額WRBTRの分布を見てみましょう。"
      ]
    },
    {
      "cell_type": "code",
      "metadata": {
        "id": "GESKBGtlZlqW",
        "colab": {
          "base_uri": "https://localhost:8080/",
          "height": 219
        },
        "outputId": "953ce475-f708-40b3-abfd-e92305fb4b21"
      },
      "source": [
        "# plot the log-scaled \"DMBTR\" as well as the \"WRBTR\" attribute value distribution\n",
        "fig, ax = plt.subplots(1,2)\n",
        "fig.set_figwidth(20)\n",
        "\n",
        "# plot distribution of the local amount attribute\n",
        "g = sns.distplot(ori_dataset['DMBTR'].tolist(), ax=ax[0])\n",
        "g.set_title('Distribution of DMBTR amount values')\n",
        "\n",
        "# plot distribution of the document amount attribute\n",
        "g = sns.distplot(ori_dataset['WRBTR'].tolist(), ax=ax[1])\n",
        "g.set_title('Distribution of WRBTR amount values')"
      ],
      "execution_count": 21,
      "outputs": [
        {
          "output_type": "execute_result",
          "data": {
            "text/plain": [
              "Text(0.5, 1.0, 'Distribution of WRBTR amount values')"
            ]
          },
          "metadata": {
            "tags": []
          },
          "execution_count": 21
        },
        {
          "output_type": "display_data",
          "data": {
            "image/png": "[encoded data removed]",
            "text/plain": [
              "<Figure size 1440x288 with 2 Axes>"
            ]
          },
          "metadata": {
            "tags": [],
            "needs_background": "light"
          }
        }
      ]
    },
    {
      "cell_type": "markdown",
      "metadata": {
        "id": "vKe97wT7ZlqW"
      },
      "source": [
        "As expected, it can be observed, that for both attributes the distributions of amount values are heavy tailed. In order to approach faster a potential global minimum scaling and normalization of numerical input values is good a practice. Therefore, we first log-scale both variables and second min-max normalize the scaled amounts to the interval [0, 1].  \n",
        "予想通り、両方の属性において、量の値の分布が重尾になっていることが観察できます。潜在的なグローバル・ミニマムに早く近づくためには、数値入力値のスケーリングと正規化を行うことが良い方法です。そこで、まず両方の変数を対数スケーリングし、次にスケーリングされた量を区間[0, 1]にmin-max正規化します。"
      ]
    },
    {
      "cell_type": "code",
      "metadata": {
        "id": "3WM2vkvPZlqW"
      },
      "source": [
        "# select \"DMBTR\"(現地通貨) vs. \"WRBTR\"(文書通貨) attribute\n",
        "numeric_attr_names = ['DMBTR', 'WRBTR']\n",
        "\n",
        "# add a small epsilon to eliminate zero values from data for log scaling\n",
        "numeric_attr = ori_dataset[numeric_attr_names] + 1e-7\n",
        "numeric_attr = numeric_attr.apply(np.log)\n",
        "\n",
        "# normalize all numeric attributes to the range [0,1]\n",
        "ori_dataset_numeric_attr = (numeric_attr - numeric_attr.min()) / (numeric_attr.max() - numeric_attr.min())"
      ],
      "execution_count": 22,
      "outputs": []
    },
    {
      "cell_type": "markdown",
      "metadata": {
        "id": "EyCfMAUPZlqW"
      },
      "source": [
        "Let's now visualize the log-scaled and min-max normalized distributions of both attributes:  \n",
        "ここで、両属性の対数スケールおよび最小・最大規格化された分布を可視化してみましょう。"
      ]
    },
    {
      "cell_type": "code",
      "metadata": {
        "id": "i4-guR-7ZlqW",
        "colab": {
          "base_uri": "https://localhost:8080/",
          "height": 291
        },
        "outputId": "0e3bf8ea-cd9c-4261-8ceb-c5ada780a1a7"
      },
      "source": [
        "# append 'label' attribute for colour distinction\n",
        "numeric_attr_vis = ori_dataset_numeric_attr.copy()\n",
        "numeric_attr_vis['label'] = label\n",
        "\n",
        "# plot the log-scaled and min-max normalized numeric attributes\n",
        "g = sns.pairplot(data=numeric_attr_vis, vars=numeric_attr_names, hue='label')\n",
        "g.fig.suptitle('Distribution of DMBTR vs. WRBTR amount values')\n",
        "g.fig.set_size_inches(15, 5)"
      ],
      "execution_count": 23,
      "outputs": [
        {
          "output_type": "display_data",
          "data": {
            "image/png": "[encoded data removed]",
            "text/plain": [
              "<Figure size 1080x360 with 6 Axes>"
            ]
          },
          "metadata": {
            "tags": [],
            "needs_background": "light"
          }
        }
      ]
    },
    {
      "cell_type": "markdown",
      "metadata": {
        "id": "UcrSSlKiZlqX"
      },
      "source": [
        "Ok, as anticipated the numeric attribute values of the \"global\" anomalies (green) fall outside the range of the regular amount distributions due to their unusual high amount values. In contrast, the numeric attribute values of the \"local\" anomalies (orange) are much more commingled within the regular transaction amounts.  \n",
        "予想通り、「グローバル」異常(緑)の数値属性は、異常に高い金額であるため、通常の金額分布の範囲外となっています。一方、「ローカル」異常（オレンジ）の数値属性値は、通常の取引額の中に多く含まれています。"
      ]
    },
    {
      "cell_type": "markdown",
      "metadata": {
        "id": "pFAMFMdJZlqX"
      },
      "source": [
        "### 3.3 Merge Categorical and Numerical Transaction Attributes"
      ]
    },
    {
      "cell_type": "markdown",
      "metadata": {
        "id": "KTpyvwZ6ZlqX"
      },
      "source": [
        "Finally, we merge both pre-processed numerical and categorical attributes into a single dataset that we will use for training our deep autoencoder neural network (explained an implemented in the following section 4.):  \n",
        "最後に、前処理された数値属性とカテゴリー属性の両方を1つのデータセットに統合し、ディープオートエンコーダー・ニューラルネットワークのトレーニングに使用します（次のセクション4.で説明、実装します）。"
      ]
    },
    {
      "cell_type": "code",
      "metadata": {
        "id": "WHUNDMIGZlqX"
      },
      "source": [
        "# merge categorical and numeric subsets\n",
        "ori_subset_transformed = pd.concat([ori_dataset_categ_transformed, ori_dataset_numeric_attr], axis = 1)"
      ],
      "execution_count": 24,
      "outputs": []
    },
    {
      "cell_type": "markdown",
      "metadata": {
        "id": "3bdcJ9EHZlqX"
      },
      "source": [
        "Now, let's again have a look at the dimensionality of the dataset after we applied the distinct pre-processing steps to the attributes:  \n",
        "さて、属性にそれぞれの前処理を適用した後のデータセットの次元をもう一度見てみましょう。"
      ]
    },
    {
      "cell_type": "code",
      "metadata": {
        "id": "_8WK6W-NZlqX",
        "colab": {
          "base_uri": "https://localhost:8080/"
        },
        "outputId": "887ee4fb-b955-42ed-ec23-a2f736f94459"
      },
      "source": [
        "# inspect final dimensions of pre-processed transactional data\n",
        "ori_subset_transformed.shape"
      ],
      "execution_count": 25,
      "outputs": [
        {
          "output_type": "execute_result",
          "data": {
            "text/plain": [
              "(533009, 384)"
            ]
          },
          "metadata": {
            "tags": []
          },
          "execution_count": 25
        }
      ]
    },
    {
      "cell_type": "markdown",
      "metadata": {
        "id": "5T6CEBL1ZlqX"
      },
      "source": [
        "### Exercises: "
      ]
    },
    {
      "cell_type": "markdown",
      "metadata": {
        "id": "OHKaCkPzZlqX"
      },
      "source": [
        "Following the pre-processing steps above you may have noticed, that we didn't encode the attributes `WAERS`(通貨キー） and `BUKRS`（会社コード） yet. This we left as an exercise for you: \n",
        "上記の前処理の手順では、WAERSとBUKRSという属性をまだエンコードしていないことにお気づきでしょうか。これは練習問題として残しておきました。\n",
        "\n",
        ">1. Plot and inspect the distribution of the values of both attributes `WAERS` and `BUKRS`. [3 min]  \n",
        "両方の属性 `WAERS` と `BUKRS` の値の分布をプロットして調べてみましょう。[3分]  \n",
        ">2. Encode both variables using the `get_dummies()` method provided by the Pandas library. [5 min]  \n",
        "Pandasライブラリが提供する`get_dummies()`メソッドを使って、両方の変数をエンコードします。[5分]\n",
        ">3. Merge your encoding results with the Pandas `ori_subset_transformed` data frame. [5 min]  \n",
        "エンコード結果をPandasの`ori_subset_transformed`データフレームにマージします。[5分]"
      ]
    },
    {
      "cell_type": "markdown",
      "metadata": {
        "id": "Sy37E3UpyVqv"
      },
      "source": [
        "#####Exercises:1. Plot and inspect the distribution of the values of both attributes WAERS and BUKRS. [3 min]  \n",
        "両方の属性 WAERS と BUKRS の値の分布をプロットして調べてみましょう。[3分]"
      ]
    },
    {
      "cell_type": "code",
      "metadata": {
        "colab": {
          "base_uri": "https://localhost:8080/",
          "height": 223
        },
        "id": "MgtI-7jMu8GV",
        "outputId": "81ce5da7-0314-49af-e69c-ae0e2aeda59c"
      },
      "source": [
        "# prepare to plot currency key and company code side by side\n",
        "fig, ax = plt.subplots(1,2)\n",
        "fig.set_figwidth(20)\n",
        "\n",
        "# plot the distribution of the currency key attribute\n",
        "# WAERS: the currency key,　通貨キー\n",
        "g = sns.countplot(x=ori_dataset['WAERS'], ax=ax[0])\n",
        "g.set_xticklabels(g.get_xticklabels(), rotation=90)\n",
        "g.set_title('Distribution of WAERS attribute values')\n",
        "\n",
        "# plot the distribution of the company code attribute\n",
        "# BUKRS: the company code, 会社コード の分布\n",
        "g = sns.countplot(x=ori_dataset['BUKRS'], ax=ax[1])\n",
        "g.set_xticklabels(g.get_xticklabels(), rotation=90)\n",
        "g.set_title('Distribution of BUKRS attribute values')"
      ],
      "execution_count": 26,
      "outputs": [
        {
          "output_type": "execute_result",
          "data": {
            "text/plain": [
              "Text(0.5, 1.0, 'Distribution of BUKRS attribute values')"
            ]
          },
          "metadata": {
            "tags": []
          },
          "execution_count": 26
        },
        {
          "output_type": "display_data",
          "data": {
            "image/png": "[encoded data removed]",
            "text/plain": [
              "<Figure size 1440x288 with 2 Axes>"
            ]
          },
          "metadata": {
            "tags": [],
            "needs_background": "light"
          }
        }
      ]
    },
    {
      "cell_type": "markdown",
      "metadata": {
        "id": "m6C5mBVxywf8"
      },
      "source": [
        "#####Exercises:2. Encode both variables using the get_dummies() method provided by the Pandas library. [5 min]  \n",
        "Pandasライブラリが提供するget_dummies()メソッドを使って、両方の変数をエンコードします。[5分]"
      ]
    },
    {
      "cell_type": "code",
      "metadata": {
        "id": "uMZsB4oCw3zC"
      },
      "source": [
        "# select categorical attributes to be \"one-hot\" encoded\n",
        "categorical_attr_names = ['WAERS', 'BUKRS']\n",
        "\n",
        "# encode categorical attributes into a binary one-hot encoded representation \n",
        "ori_dataset_categ_transformed = pd.get_dummies(ori_dataset[categorical_attr_names])"
      ],
      "execution_count": 27,
      "outputs": []
    },
    {
      "cell_type": "markdown",
      "metadata": {
        "id": "hQP4xzO5y-qk"
      },
      "source": [
        "#####Exercises:3. Merge your encoding results with the Pandas ori_subset_transformed data frame. [5 min]  \n",
        "エンコード結果をPandasのori_subset_transformedデータフレームにマージします。[5分]"
      ]
    },
    {
      "cell_type": "code",
      "metadata": {
        "id": "nJLu0cdpxZW1"
      },
      "source": [
        "# merge categorical and numeric subsets\n",
        "ori_subset_transformed = pd.concat([ori_dataset_categ_transformed, ori_subset_transformed], axis = 1)"
      ],
      "execution_count": 28,
      "outputs": []
    },
    {
      "cell_type": "markdown",
      "metadata": {
        "id": "HpMwUjZCZlqX"
      },
      "source": [
        "Ok, upon completion of all the pre-processing steps (incl. the exercises) we should end up with an encoded dataset consisting of a total number of 533,009 records (rows) and **618 encoded attributes** (columns). Let's keep the number number of columns in mind since it will define the dimensionality of the input- and output-layer of our deep autoencoder network which we will now implement in the following section.  \n",
        "さて、すべての前処理（演習を含む）が完了すると、合計533,009レコード（行）と618のエンコードされた属性（列）からなるエンコードされたデータセットができあがります。列の数は、次のセクションで実装するディープオートエンコーダーネットワークの入力層と出力層の次元を定義することになるので、覚えておきましょう。"
      ]
    },
    {
      "cell_type": "code",
      "metadata": {
        "colab": {
          "base_uri": "https://localhost:8080/"
        },
        "id": "oNhaBFuwyP_O",
        "outputId": "30c2bb7e-104e-41cc-8803-421b8b33d03c"
      },
      "source": [
        "# inspect final dimensions of pre-processed transactional data\n",
        "ori_subset_transformed.shape"
      ],
      "execution_count": 29,
      "outputs": [
        {
          "output_type": "execute_result",
          "data": {
            "text/plain": [
              "(533009, 618)"
            ]
          },
          "metadata": {
            "tags": []
          },
          "execution_count": 29
        }
      ]
    },
    {
      "cell_type": "markdown",
      "metadata": {
        "id": "OOQ6UrZ9ZlqY"
      },
      "source": [
        "## 4. Autoencoder Neural Networks (AENNs)"
      ]
    },
    {
      "cell_type": "markdown",
      "metadata": {
        "id": "wCCga2ANZlqY"
      },
      "source": [
        "The objective of this section is to familiarize ourselves with the underlying idea and concepts of building a deep autoencoder neural network (AENN). We will cover the major building blocks and the specific network structure of AENNs as well as an exemplary implementation using the open source machine learning library PyTorch.  \n",
        "このセクションの目的は、ディープオートエンコーダーニューラルネットワーク（AENN）を構築するための基本的なアイデアとコンセプトを理解することです。AENNの主要な構成要素と具体的なネットワーク構造を説明し、オープンソースの機械学習ライブラリPyTorchを使った例示的な実装を行います。"
      ]
    },
    {
      "cell_type": "markdown",
      "metadata": {
        "id": "nZEnTTxYZlqY"
      },
      "source": [
        "### 4.1 Autoencoder Neural Network Architecture"
      ]
    },
    {
      "cell_type": "markdown",
      "metadata": {
        "id": "EZ3YTgLGZlqY"
      },
      "source": [
        "AENNs or \"Replicator Neural Networks\" are a variant of general feed-forward neural networks that have been initially introduced by Hinton and Salakhutdinov in [6]. AENNs usually comprise a **symmetrical network architecture** as well as a central hidden layer, referred to as **\"latent\"** or **\"coding\" layer**, of lower dimensionality. The design is chosen intentionally since the training objective of an AENN is to reconstruct its input in a \"self-supervised\" manner.   \n",
        "\n",
        "AENNまたは \"リプリケータ・ニューラルネットワーク \"は、一般的なフィードフォワード・ニューラルネットワークの一種であり、HintonとSalakhutdinovが[6]で最初に紹介したものである。AENNは通常、**対称的なネットワーク・アーキテクチャ**と、**「潜在層」**または**「コーディング層」**と呼ばれる、低次元の中央隠れ層から構成されています。これは、AENNの学習目的が「自己教師付き」で入力を再構成することであるため、意図的に選択されたデザインである。\n",
        "\n",
        "**Figure 3** below illustrates a schematic view of an autoencoder neural network:\n",
        "\n",
        "**図3**は、オートエンコーダー・ニューラルネットワークの模式図である。"
      ]
    },
    {
      "cell_type": "markdown",
      "metadata": {
        "id": "KNaj9S83ZlqY"
      },
      "source": [
        "<img align=\"middle\" style=\"max-width: 600px; height: auto\" src=\"https://github.com/GitiHubi/deepAI/blob/master/images/autoencoder.png?raw=1\">"
      ]
    },
    {
      "cell_type": "markdown",
      "metadata": {
        "id": "B6QnxcdNZlqY"
      },
      "source": [
        "**Figure 3:** Schematic view of an autoencoder network comprised of two non-linear mappings (fully connected feed forward neural networks) referred to as encoder $f_\\theta: \\mathbb{R}^{dx} \\mapsto \\mathbb{R}^{dz}$ and decoder $g_\\theta: \\mathbb{R}^{dz} \\mapsto \\mathbb{R}^{dx}$.\n",
        "\n",
        "**図3：**2つの非線形マッピング(完全連結フィードフォワードニューラルネットワーク) エンコーダ$f_\\theta: \\mathbb{R}^{dx} \\mapsto \\mathbb{R}^{dz}$、デコーダ$g_\\theta: \\mathbb{R}^{dz} \\mapsto \\mathbb{R}^{dx}$で構成されるオートエンコーダネットワークの模式図です。\n"
      ]
    },
    {
      "cell_type": "markdown",
      "metadata": {
        "id": "6cmATdGuZlqY"
      },
      "source": [
        "Furthermore, AENNs can be interpreted as \"lossy\" data **compression algorithms**. They are \"lossy\" in a sense that the reconstructed outputs will be degraded compared to the original inputs. The difference between the original input $x^i$ and its reconstruction $\\hat{x}^i$ is referred to as **reconstruction error**. In general, AENNs encompass three major building blocks:\n",
        "\n",
        "さらに、AENNは「損失型」のデータ圧縮アルゴリズムと解釈することができる。それらは、再構成された出力が元の入力に比べて劣化するという意味で「lossy」である。元の入力𝑥𝑖とその再構成𝑥̂ 𝑖の差は再構成誤差と呼ばれる。一般的に、AENNは3つの主要なビルディングブロックを包含している。\n",
        "\n",
        ">   1. an encoding mapping function $f_\\theta$,  \n",
        "エンコーディングマッピング関数$f_\\theta$\n",
        ">   2. a decoding mapping function $g_\\theta$,  \n",
        "デコーディングマッピング関数 $g_\\theta$\n",
        ">   3. and a loss function $\\mathcal{L_{\\theta}}$.  \n",
        "と、損失関数 $\\mathcal{L_{\\theta}}$ を用いて\n",
        "\n",
        "Most commonly the encoder and the decoder mapping functions consist of **several layers of neurons followed by a non-linear function** and shared parameters $\\theta$. The encoder mapping $f_\\theta(\\cdot)$ maps an input vector (e.g. an \"one-hot\" encoded transaction) $x^i$ to a compressed representation $z^i$ referred to as latent space $Z$. This hidden representation $z^i$ is then mapped back by the decoder $g_\\theta(\\cdot)$ to a re-constructed vector $\\hat{x}^i$ of the original input space (e.g. the re-constructed encoded transaction). Formally, the nonlinear mappings of the encoder- and the decoder-function can be defined by:  \n",
        "エンコーダとデコーダのマッピング機能は、数層のニューロンに非線形関数を加えたものが一般的であり、パラメータは共有されています。エンコーダマッピング$f_\\theta(\\cdot)$は、入力ベクトル（例えば、ワンショットで符号化されたトランザクション）$x^i$を、潜在空間$Z$と呼ばれる圧縮表現$z^i$にマッピングする。この隠れた表現$z^i$は、デコーダ$g_\\theta(\\cdot)$によって、元の入力空間の再構成されたベクトル$\\hat{x}^i$（例えば、再構成されたコード化されたトランザクション）にマッピングされます。形式的には、エンコーダー機能とデコーダー機能の非線形マッピングは次のように定義できる。"
      ]
    },
    {
      "cell_type": "markdown",
      "metadata": {
        "id": "2Ihk38WBZlqY"
      },
      "source": [
        "<center>$f_\\theta(x^i) = s(Wx^i + b)$, and $g_\\theta(z^i) = s′(W′z^i + d)$,</center>"
      ]
    },
    {
      "cell_type": "markdown",
      "metadata": {
        "id": "WMDOKQNcZlqY"
      },
      "source": [
        "where $s$ and $s′$ denote non-linear activations with model parameters $\\theta = \\{W, b, W', d\\}$, $W \\in \\mathbb{R}^{d_x \\times d_z}, W' \\in \\mathbb{R}^{d_z \\times d_y}$ are weight matrices and $b \\in \\mathbb{R}^{dx}$, $d \\in \\mathbb{R}^{dz}$ are offset bias vectors.\n",
        "\n",
        "ここで、 $s$と $s′$ はモデルパラメータ𝜃を持つ非線形活性化を表す。$\\theta = \\{W, b, W', d\\}$, $W \\in \\mathbb{R}^{d_x \\times d_z}, W' \\in \\mathbb{R}^{d_z \\times d_y}$ は重み行列、$b \\in \\mathbb{R}^{dx}$, $d \\in \\mathbb{R}^{dz}$はオフセットバイアスベクトルを表す。"
      ]
    },
    {
      "cell_type": "markdown",
      "metadata": {
        "id": "Ud4r6P7vZlqZ"
      },
      "source": [
        "### 4.2 Autoencoder Neural Network Implementation"
      ]
    },
    {
      "cell_type": "markdown",
      "metadata": {
        "id": "95bUvSyjZlqZ"
      },
      "source": [
        "Now, let's start implementing an AENN by first implementing the encoder network using PyTorch. For the encoder, we aim to implement a network consisting of **nine fully-connected layers**. Furthermore, the encoder is specified by the following number of neurons per layer: \"618-256-128-64-32-16-8-4-3\". Meaning the first layer consists of 618 neurons (specified by the dimensionality of our input data), the second layer of 256 neurons and the subsequent layers of 128, 64, 32, 16, 8, 4 and 3 neurons respectively.\n",
        "\n",
        "それでは、AENNの実装を始めましょう。まず、PyTorchを使ってエンコーダネットワークを実装します。エンコーダには、**9つの完全連結層**からなるネットワークを実装することを目指します。さらに、エンコーダは、1層あたりのニューロン数を以下のように指定します。\"618-256-128-64-32-16-8-4-3\". つまり、第1層は入力データの次元数に応じた618個のニューロン、第2層は256個のニューロン、それ以降の層はそれぞれ128、64、32、16、8、4、3個のニューロンで構成されていることになります。"
      ]
    },
    {
      "cell_type": "markdown",
      "metadata": {
        "id": "96OJJPaUZlqZ"
      },
      "source": [
        "Some elements of the encoder network code below should be given particular attention:  \n",
        "\n",
        "以下のエンコーダネットワークコードのいくつかの要素は、特に注意が必要です。\n",
        "\n",
        "\n",
        ">- `self.encoder_Lx`: defines the linear transformation of the layer applied to the incoming input: $Wx + b$.  \n",
        "<font color='blue'> self.encoder_Lx: 入力される𝑊𝑥+𝑏 適用されるレイヤーの線形変換を定義する</font>\n",
        ">- `nn.init.xavier_uniform`: inits the layer weights using a uniform distribution according to [9]. <font color='blue'>nn.init.xavier_uniform：[9]に準拠した一様分布を使用してレイヤーの重みを設定します。</font>\n",
        ">- `self.encoder_Rx`: defines the non-linear transformation of the layer: $\\sigma(\\cdot)$.  <font color='blue'>self.encoder_Rx: レイヤーの非線形変換𝜎(・) を定義します。</font>\n",
        ">- `self.dropout`: randomly zeros some of the elements of the input tensor with probability $p$ according to [8].  \n",
        "<font color='blue'>self.dropout: 入力テンソルの要素の一部を[8]に従って確率𝑝で、ランダムにゼロにする。</font>\n",
        "\n",
        "We use **\"Leaky ReLUs\"** as introduced by Xu et al. in [7] to avoid \"dying\" non-linearities and to speed up training convergence. Leaky ReLUs allow a small gradient even when a particular neuron is not active. In addition, we include the **\"drop-out\" probability**, as introduced by [8], which defines the probability rate for each neuron to be set to zero at a forward pass to prevent the network from overfitting. However we explore its effect on the model later in the exercise section of the lab. Initially, we set the dropout probability of each neuron to $p=0.0$ (0%), meaning that none of the neuron activiations will be set to zero.  \n",
        "\n",
        "Xuらが[7]で紹介した**\"Leaky ReLUs \"**を用いることで、\"dying \"非線形性を回避し、学習の収束を早めることができます。Leaky ReLUは、特定のニューロンが活動していない場合でも、小さな勾配を可能にします。さらに、[8]で紹介されている**\"drop-out \"probability**を入れています。これは、ネットワークのオーバーフィッティングを防ぐために、フォワードパスで各ニューロンがゼロになる確率を定義しています。これは、ネットワークのオーバーフィッティングを防ぐために、各ニューロンの確率を順方向にゼロに設定するものです。最初は、各ニューロンのドロップアウト確率を $p=0.0$ (0%) に設定し、どのニューロンの活性化もゼロにならないようにします。"
      ]
    },
    {
      "cell_type": "code",
      "metadata": {
        "id": "vo1rDne70Og-",
        "colab": {
          "base_uri": "https://localhost:8080/"
        },
        "outputId": "09b6de53-2fad-4223-9ea6-98e38c8440af"
      },
      "source": [
        "# PyTorch　→　Keras\n",
        "# implementation of the encoder network\n",
        "from tensorflow.keras.models import Sequential\n",
        "from tensorflow.keras.layers import Dense ,Activation, Dropout, LeakyReLU\n",
        "\n",
        "encorder = keras.models.Sequential()\n",
        "\n",
        "encorder.add(keras.layers.Dense(512, use_bias=True, kernel_initializer='glorot_normal',input_shape=(ori_subset_transformed.shape[1], )))\n",
        "encorder.add(keras.layers.LeakyReLU(alpha=0.4))\n",
        "encorder.add(keras.layers.Dropout(0.0, ))\n",
        "\n",
        "encorder.add(keras.layers.Dense(256, use_bias=True, kernel_initializer='glorot_normal'))\n",
        "encorder.add(keras.layers.LeakyReLU(alpha=0.4))\n",
        "encorder.add(keras.layers.Dropout(0.0, ))\n",
        "encorder.add(keras.layers.Dense(128, use_bias=True, kernel_initializer='glorot_normal'))\n",
        "encorder.add(keras.layers.LeakyReLU(alpha=0.4))\n",
        "encorder.add(keras.layers.Dropout(0.0, ))\n",
        "encorder.add(keras.layers.Dense(64,  use_bias=True, kernel_initializer='glorot_normal'))\n",
        "encorder.add(keras.layers.LeakyReLU(alpha=0.4))\n",
        "encorder.add(keras.layers.Dropout(0.0, ))\n",
        "encorder.add(keras.layers.Dense(32,  use_bias=True, kernel_initializer='glorot_normal'))\n",
        "encorder.add(keras.layers.LeakyReLU(alpha=0.4))\n",
        "encorder.add(keras.layers.Dropout(0.0, ))\n",
        "encorder.add(keras.layers.Dense(16,  use_bias=True, kernel_initializer='glorot_normal'))\n",
        "encorder.add(keras.layers.LeakyReLU(alpha=0.4))\n",
        "encorder.add(keras.layers.Dropout(0.0, ))\n",
        "encorder.add(keras.layers.Dense(8,  use_bias=True, kernel_initializer='glorot_normal'))\n",
        "encorder.add(keras.layers.LeakyReLU(alpha=0.4))\n",
        "encorder.add(keras.layers.Dropout(0.0, ))\n",
        "encorder.add(keras.layers.Dense(4,  use_bias=True, kernel_initializer='glorot_normal'))\n",
        "encorder.add(keras.layers.LeakyReLU(alpha=0.4))\n",
        "encorder.add(keras.layers.Dropout(0.0, ))\n",
        "encorder.add(keras.layers.Dense(3,  use_bias=True, kernel_initializer='glorot_normal'))\n",
        "encorder.add(keras.layers.LeakyReLU(alpha=0.4))\n",
        "encorder.add(keras.layers.Dropout(0.0, ))\n",
        "\n",
        "encorder.summary()"
      ],
      "execution_count": 30,
      "outputs": [
        {
          "output_type": "stream",
          "text": [
            "Model: \"sequential\"\n",
            "_________________________________________________________________\n",
            "Layer (type)                 Output Shape              Param #   \n",
            "=================================================================\n",
            "dense (Dense)                (None, 512)               316928    \n",
            "_________________________________________________________________\n",
            "leaky_re_lu (LeakyReLU)      (None, 512)               0         \n",
            "_________________________________________________________________\n",
            "dropout (Dropout)            (None, 512)               0         \n",
            "_________________________________________________________________\n",
            "dense_1 (Dense)              (None, 256)               131328    \n",
            "_________________________________________________________________\n",
            "leaky_re_lu_1 (LeakyReLU)    (None, 256)               0         \n",
            "_________________________________________________________________\n",
            "dropout_1 (Dropout)          (None, 256)               0         \n",
            "_________________________________________________________________\n",
            "dense_2 (Dense)              (None, 128)               32896     \n",
            "_________________________________________________________________\n",
            "leaky_re_lu_2 (LeakyReLU)    (None, 128)               0         \n",
            "_________________________________________________________________\n",
            "dropout_2 (Dropout)          (None, 128)               0         \n",
            "_________________________________________________________________\n",
            "dense_3 (Dense)              (None, 64)                8256      \n",
            "_________________________________________________________________\n",
            "leaky_re_lu_3 (LeakyReLU)    (None, 64)                0         \n",
            "_________________________________________________________________\n",
            "dropout_3 (Dropout)          (None, 64)                0         \n",
            "_________________________________________________________________\n",
            "dense_4 (Dense)              (None, 32)                2080      \n",
            "_________________________________________________________________\n",
            "leaky_re_lu_4 (LeakyReLU)    (None, 32)                0         \n",
            "_________________________________________________________________\n",
            "dropout_4 (Dropout)          (None, 32)                0         \n",
            "_________________________________________________________________\n",
            "dense_5 (Dense)              (None, 16)                528       \n",
            "_________________________________________________________________\n",
            "leaky_re_lu_5 (LeakyReLU)    (None, 16)                0         \n",
            "_________________________________________________________________\n",
            "dropout_5 (Dropout)          (None, 16)                0         \n",
            "_________________________________________________________________\n",
            "dense_6 (Dense)              (None, 8)                 136       \n",
            "_________________________________________________________________\n",
            "leaky_re_lu_6 (LeakyReLU)    (None, 8)                 0         \n",
            "_________________________________________________________________\n",
            "dropout_6 (Dropout)          (None, 8)                 0         \n",
            "_________________________________________________________________\n",
            "dense_7 (Dense)              (None, 4)                 36        \n",
            "_________________________________________________________________\n",
            "leaky_re_lu_7 (LeakyReLU)    (None, 4)                 0         \n",
            "_________________________________________________________________\n",
            "dropout_7 (Dropout)          (None, 4)                 0         \n",
            "_________________________________________________________________\n",
            "dense_8 (Dense)              (None, 3)                 15        \n",
            "_________________________________________________________________\n",
            "leaky_re_lu_8 (LeakyReLU)    (None, 3)                 0         \n",
            "_________________________________________________________________\n",
            "dropout_8 (Dropout)          (None, 3)                 0         \n",
            "=================================================================\n",
            "Total params: 492,203\n",
            "Trainable params: 492,203\n",
            "Non-trainable params: 0\n",
            "_________________________________________________________________\n"
          ],
          "name": "stdout"
        }
      ]
    },
    {
      "cell_type": "code",
      "metadata": {
        "colab": {
          "base_uri": "https://localhost:8080/"
        },
        "id": "l-k74K5c-fT5",
        "outputId": "270ca28c-c140-48c5-89f0-3eea1bd9f5c0"
      },
      "source": [
        "# PyTorch　→　Keras\n",
        "# implementation of the decoder network\n",
        "\n",
        "decorder = keras.models.Sequential()\n",
        "\n",
        "decorder.add(keras.layers.Dense(4, use_bias=True, kernel_initializer='glorot_normal',input_shape=(3, )))\n",
        "decorder.add(keras.layers.LeakyReLU(alpha=0.4))\n",
        "decorder.add(keras.layers.Dropout(0.0, ))\n",
        "\n",
        "decorder.add(keras.layers.Dense(8, use_bias=True, kernel_initializer='glorot_normal'))\n",
        "decorder.add(keras.layers.LeakyReLU(alpha=0.4))\n",
        "decorder.add(keras.layers.Dropout(0.0, ))\n",
        "\n",
        "decorder.add(keras.layers.Dense(16, use_bias=True, kernel_initializer='glorot_normal'))\n",
        "decorder.add(keras.layers.LeakyReLU(alpha=0.4))\n",
        "decorder.add(keras.layers.Dropout(0.0, ))\n",
        "\n",
        "decorder.add(keras.layers.Dense(32,  use_bias=True, kernel_initializer='glorot_normal'))\n",
        "decorder.add(keras.layers.LeakyReLU(alpha=0.4))\n",
        "decorder.add(keras.layers.Dropout(0.0, ))\n",
        "\n",
        "decorder.add(keras.layers.Dense(64,  use_bias=True, kernel_initializer='glorot_normal'))\n",
        "decorder.add(keras.layers.LeakyReLU(alpha=0.4))\n",
        "decorder.add(keras.layers.Dropout(0.0, ))\n",
        "\n",
        "decorder.add(keras.layers.Dense(128,  use_bias=True, kernel_initializer='glorot_normal'))\n",
        "decorder.add(keras.layers.LeakyReLU(alpha=0.4))\n",
        "decorder.add(keras.layers.Dropout(0.0, ))\n",
        "\n",
        "decorder.add(keras.layers.Dense(256,  use_bias=True, kernel_initializer='glorot_normal'))\n",
        "decorder.add(keras.layers.LeakyReLU(alpha=0.4))\n",
        "decorder.add(keras.layers.Dropout(0.0, ))\n",
        "\n",
        "decorder.add(keras.layers.Dense(512,  use_bias=True, kernel_initializer='glorot_normal'))\n",
        "decorder.add(keras.layers.LeakyReLU(alpha=0.4))\n",
        "decorder.add(keras.layers.Dropout(0.0, ))\n",
        "\n",
        "decorder.add(keras.layers.Dense(618,  use_bias=True, kernel_initializer='glorot_normal'))\n",
        "decorder.add(keras.layers.LeakyReLU(alpha=0.4))\n",
        "decorder.add(keras.layers.Dropout(0.0, ))\n",
        "\n",
        "decorder.summary()"
      ],
      "execution_count": 31,
      "outputs": [
        {
          "output_type": "stream",
          "text": [
            "Model: \"sequential_1\"\n",
            "_________________________________________________________________\n",
            "Layer (type)                 Output Shape              Param #   \n",
            "=================================================================\n",
            "dense_9 (Dense)              (None, 4)                 16        \n",
            "_________________________________________________________________\n",
            "leaky_re_lu_9 (LeakyReLU)    (None, 4)                 0         \n",
            "_________________________________________________________________\n",
            "dropout_9 (Dropout)          (None, 4)                 0         \n",
            "_________________________________________________________________\n",
            "dense_10 (Dense)             (None, 8)                 40        \n",
            "_________________________________________________________________\n",
            "leaky_re_lu_10 (LeakyReLU)   (None, 8)                 0         \n",
            "_________________________________________________________________\n",
            "dropout_10 (Dropout)         (None, 8)                 0         \n",
            "_________________________________________________________________\n",
            "dense_11 (Dense)             (None, 16)                144       \n",
            "_________________________________________________________________\n",
            "leaky_re_lu_11 (LeakyReLU)   (None, 16)                0         \n",
            "_________________________________________________________________\n",
            "dropout_11 (Dropout)         (None, 16)                0         \n",
            "_________________________________________________________________\n",
            "dense_12 (Dense)             (None, 32)                544       \n",
            "_________________________________________________________________\n",
            "leaky_re_lu_12 (LeakyReLU)   (None, 32)                0         \n",
            "_________________________________________________________________\n",
            "dropout_12 (Dropout)         (None, 32)                0         \n",
            "_________________________________________________________________\n",
            "dense_13 (Dense)             (None, 64)                2112      \n",
            "_________________________________________________________________\n",
            "leaky_re_lu_13 (LeakyReLU)   (None, 64)                0         \n",
            "_________________________________________________________________\n",
            "dropout_13 (Dropout)         (None, 64)                0         \n",
            "_________________________________________________________________\n",
            "dense_14 (Dense)             (None, 128)               8320      \n",
            "_________________________________________________________________\n",
            "leaky_re_lu_14 (LeakyReLU)   (None, 128)               0         \n",
            "_________________________________________________________________\n",
            "dropout_14 (Dropout)         (None, 128)               0         \n",
            "_________________________________________________________________\n",
            "dense_15 (Dense)             (None, 256)               33024     \n",
            "_________________________________________________________________\n",
            "leaky_re_lu_15 (LeakyReLU)   (None, 256)               0         \n",
            "_________________________________________________________________\n",
            "dropout_15 (Dropout)         (None, 256)               0         \n",
            "_________________________________________________________________\n",
            "dense_16 (Dense)             (None, 512)               131584    \n",
            "_________________________________________________________________\n",
            "leaky_re_lu_16 (LeakyReLU)   (None, 512)               0         \n",
            "_________________________________________________________________\n",
            "dropout_16 (Dropout)         (None, 512)               0         \n",
            "_________________________________________________________________\n",
            "dense_17 (Dense)             (None, 618)               317034    \n",
            "_________________________________________________________________\n",
            "leaky_re_lu_17 (LeakyReLU)   (None, 618)               0         \n",
            "_________________________________________________________________\n",
            "dropout_17 (Dropout)         (None, 618)               0         \n",
            "=================================================================\n",
            "Total params: 492,818\n",
            "Trainable params: 492,818\n",
            "Non-trainable params: 0\n",
            "_________________________________________________________________\n"
          ],
          "name": "stdout"
        }
      ]
    },
    {
      "cell_type": "code",
      "metadata": {
        "id": "OXqSAGXl5UEQ"
      },
      "source": [
        "autoencorder = keras.models.Sequential([encorder,decorder])"
      ],
      "execution_count": 32,
      "outputs": []
    },
    {
      "cell_type": "code",
      "metadata": {
        "id": "APDMViI87NuD"
      },
      "source": [
        "# define the optimization criterion / loss function\n",
        "\n",
        "from tensorflow.keras import losses\n",
        "loss_function = tf.keras.losses.BinaryCrossentropy(from_logits=True)\n",
        "\n",
        "# define learning rate and optimization strategy\n",
        "learning_rate = 1e-3\n",
        "\n",
        "import tensorflow as tf\n",
        "from tensorflow.keras import optimizers\n",
        "optimizer = tf.keras.optimizers.Adam(learning_rate =learning_rate)\n",
        "\n",
        "autoencorder.compile(loss=loss_function, optimizer=optimizer)"
      ],
      "execution_count": 33,
      "outputs": []
    },
    {
      "cell_type": "code",
      "metadata": {
        "id": "fLGjPQRO-OIt"
      },
      "source": [
        "history = autoencorder.fit(ori_subset_transformed,ori_subset_transformed,batch_size=128,epochs=10,verbose=1,shuffle=True,validation_split=0.2)"
      ],
      "execution_count": null,
      "outputs": []
    },
    {
      "cell_type": "code",
      "metadata": {
        "colab": {
          "base_uri": "https://localhost:8080/"
        },
        "id": "XdJmM7tJUmss",
        "outputId": "fe8596ff-f7ea-4b68-998c-965d4dc95f5a"
      },
      "source": [
        "print(pd.DataFrame(history.history))"
      ],
      "execution_count": 36,
      "outputs": [
        {
          "output_type": "stream",
          "text": [
            "       loss  val_loss\n",
            "0  0.022807  0.009688\n",
            "1  0.008072  0.006553\n",
            "2  0.006529  0.007362\n",
            "3  0.005986  0.005267\n",
            "4  0.004851  0.003991\n"
          ],
          "name": "stdout"
        }
      ]
    },
    {
      "cell_type": "code",
      "metadata": {
        "colab": {
          "base_uri": "https://localhost:8080/",
          "height": 265
        },
        "id": "isLwrhLwVMO_",
        "outputId": "e7903484-3f90-4d74-b897-d976e0006cdf"
      },
      "source": [
        "history_df = pd.DataFrame(history.history)\n",
        "history_df.plot()\n",
        "plt.show()"
      ],
      "execution_count": 40,
      "outputs": [
        {
          "output_type": "display_data",
          "data": {
            "image/png": "[encoded data removed]",
            "text/plain": [
              "<Figure size 432x288 with 1 Axes>"
            ]
          },
          "metadata": {
            "tags": [],
            "needs_background": "light"
          }
        }
      ]
    },
    {
      "cell_type": "code",
      "metadata": {
        "colab": {
          "base_uri": "https://localhost:8080/",
          "height": 312
        },
        "id": "hdVJemF6UdZ7",
        "outputId": "43ae4f14-1095-4be3-fae8-ebbda2f4eea5"
      },
      "source": [
        "# plot the training progress\n",
        "plt.plot(range(0, len(epoch_losses)), epoch_losses)\n",
        "plt.xlabel('[training epoch]')\n",
        "plt.xlim([0, len(epoch_losses)])\n",
        "plt.ylabel('[reconstruction-error]')\n",
        "#plt.ylim([0.0, 1.0])\n",
        "plt.title('AENN training performance')"
      ],
      "execution_count": null,
      "outputs": [
        {
          "output_type": "execute_result",
          "data": {
            "text/plain": [
              "Text(0.5, 1.0, 'AENN training performance')"
            ]
          },
          "metadata": {
            "tags": []
          },
          "execution_count": 38
        },
        {
          "output_type": "display_data",
          "data": {
            "image/png": "[encoded data removed]",
            "text/plain": [
              "<Figure size 432x288 with 1 Axes>"
            ]
          },
          "metadata": {
            "tags": [],
            "needs_background": "light"
          }
        }
      ]
    },
    {
      "cell_type": "markdown",
      "metadata": {
        "id": "nPd7wr9YuANW"
      },
      "source": [
        "#<font color = 'red'>↑ここから前を実行する</font>"
      ]
    },
    {
      "cell_type": "code",
      "metadata": {
        "id": "b3l21V9cZlqZ",
        "colab": {
          "base_uri": "https://localhost:8080/",
          "height": 134
        },
        "outputId": "1bb7f0e3-d4ad-4f87-b3fc-c992ee420620"
      },
      "source": [
        "# PyTorch\n",
        "# implementation of the encoder network\n",
        "class encoder(nn.Module):\n",
        "\n",
        "    def __init__(self):\n",
        "\n",
        "        super(encoder, self).__init__()\n",
        "\n",
        "        # specify layer 1 - in 618, out 512\n",
        "        self.encoder_L1 = nn.Linear(in_features=ori_subset_transformed.shape[1], out_features=512, bias=True) # add linearity \n",
        "        nn.init.xavier_uniform_(self.encoder_L1.weight) # init weights according to [9]\n",
        "        self.encoder_R1 = nn.LeakyReLU(negative_slope=0.4, inplace=True) # add non-linearity according to [10]\n",
        "\n",
        "        # specify layer 2 - in 512, out 256\n",
        "        self.encoder_L2 = nn.Linear(512, 256, bias=True)\n",
        "        nn.init.xavier_uniform_(self.encoder_L2.weight)\n",
        "        self.encoder_R2 = nn.LeakyReLU(negative_slope=0.4, inplace=True)\n",
        "\n",
        "        # specify layer 3 - in 256, out 128\n",
        "        self.encoder_L3 = nn.Linear(256, 128, bias=True)\n",
        "        nn.init.xavier_uniform_(self.encoder_L3.weight)\n",
        "        self.encoder_R3 = nn.LeakyReLU(negative_slope=0.4, inplace=True)\n",
        "\n",
        "        # specify layer 4 - in 128, out 64\n",
        "        self.encoder_L4 = nn.Linear(128, 64, bias=True)\n",
        "        nn.init.xavier_uniform_(self.encoder_L4.weight)\n",
        "        self.encoder_R4 = nn.LeakyReLU(negative_slope=0.4, inplace=True)\n",
        "\n",
        "        # specify layer 5 - in 64, out 32\n",
        "        self.encoder_L5 = nn.Linear(64, 32, bias=True)\n",
        "        nn.init.xavier_uniform_(self.encoder_L5.weight)\n",
        "        self.encoder_R5 = nn.LeakyReLU(negative_slope=0.4, inplace=True)\n",
        "\n",
        "        # specify layer 6 - in 32, out 16\n",
        "        self.encoder_L6 = nn.Linear(32, 16, bias=True)\n",
        "        nn.init.xavier_uniform_(self.encoder_L6.weight)\n",
        "        self.encoder_R6 = nn.LeakyReLU(negative_slope=0.4, inplace=True)\n",
        "\n",
        "        # specify layer 7 - in 16, out 8\n",
        "        self.encoder_L7 = nn.Linear(16, 8, bias=True)\n",
        "        nn.init.xavier_uniform_(self.encoder_L7.weight)\n",
        "        self.encoder_R7 = nn.LeakyReLU(negative_slope=0.4, inplace=True)\n",
        "\n",
        "        # specify layer 8 - in 8, out 4\n",
        "        self.encoder_L8 = nn.Linear(8, 4, bias=True)\n",
        "        nn.init.xavier_uniform_(self.encoder_L8.weight)\n",
        "        self.encoder_R8 = nn.LeakyReLU(negative_slope=0.4, inplace=True)\n",
        "\n",
        "        # specify layer 9 - in 4, out 3\n",
        "        self.encoder_L9 = nn.Linear(4, 3, bias=True)\n",
        "        nn.init.xavier_uniform_(self.encoder_L9.weight)\n",
        "        self.encoder_R9 = nn.LeakyReLU(negative_slope=0.4, inplace=True)\n",
        "\n",
        "        # init dropout layer with probability p\n",
        "        self.dropout = nn.Dropout(p=0.0, inplace=True)\n",
        "        \n",
        "    def forward(self, x):\n",
        "\n",
        "        # define forward pass through the network\n",
        "        x = self.encoder_R1(self.dropout(self.encoder_L1(x)))\n",
        "        x = self.encoder_R2(self.dropout(self.encoder_L2(x)))\n",
        "        x = self.encoder_R3(self.dropout(self.encoder_L3(x)))\n",
        "        x = self.encoder_R4(self.dropout(self.encoder_L4(x)))\n",
        "        x = self.encoder_R5(self.dropout(self.encoder_L5(x)))\n",
        "        x = self.encoder_R6(self.dropout(self.encoder_L6(x)))\n",
        "        x = self.encoder_R7(self.dropout(self.encoder_L7(x)))\n",
        "        x = self.encoder_R8(self.dropout(self.encoder_L8(x)))\n",
        "        x = self.encoder_R9(self.encoder_L9(x)) # don't apply dropout to the AE bottleneck\n",
        "\n",
        "        return x"
      ],
      "execution_count": 29,
      "outputs": [
        {
          "output_type": "error",
          "ename": "IndentationError",
          "evalue": "ignored",
          "traceback": [
            "\u001b[0;36m  File \u001b[0;32m\"<ipython-input-29-56c26032b22c>\"\u001b[0;36m, line \u001b[0;32m5\u001b[0m\n\u001b[0;31m    def __init__(self):\u001b[0m\n\u001b[0m    ^\u001b[0m\n\u001b[0;31mIndentationError\u001b[0m\u001b[0;31m:\u001b[0m unexpected indent\n"
          ]
        }
      ]
    },
    {
      "cell_type": "markdown",
      "metadata": {
        "id": "-L6SPZ-DZlqZ"
      },
      "source": [
        "Now, we are ready to instantiate the encoder model to be trained on the CPU or to be trained on any of the available GPUs (if CUDNN is available and `USE_CUDA` is set to `True`) by execution of the following cell:  \n",
        "\n",
        "これで、次のセルを実行することで、エンコーダモデルをインスタンス化して、CPUで学習させるか、利用可能なGPUで学習させることができます（CUDNNが利用可能で、`USE_CUDA`が`True`に設定されている場合）。"
      ]
    },
    {
      "cell_type": "code",
      "metadata": {
        "id": "_Tw3ameWZlqZ"
      },
      "source": [
        "# init training network classes / architectures\n",
        "encoder_train = encoder()\n",
        "\n",
        "# push to cuda if cudnn is available\n",
        "if (torch.backends.cudnn.version() != None and USE_CUDA == True):\n",
        "    #encoder_train = encoder().cuda()"
      ],
      "execution_count": null,
      "outputs": []
    },
    {
      "cell_type": "markdown",
      "metadata": {
        "id": "CLs6kFprZlqZ"
      },
      "source": [
        "Once the model is initialized we can visualize the model structure and review the implemented network architecture by execution of the following cell:\n",
        "\n",
        "モデルが初期化されると、以下のセルを実行することで、モデルの構造を可視化し、実装されたネットワーク・アーキテクチャを確認することができます。"
      ]
    },
    {
      "cell_type": "code",
      "metadata": {
        "id": "TErUZhvOZlqZ"
      },
      "source": [
        "# print the initialized architectures\n",
        "now = datetime.utcnow().strftime(\"%Y%m%d-%H:%M:%S\")\n",
        "print('[LOG {}] encoder architecture:\\n\\n{}\\n'.format(now, encoder_train))"
      ],
      "execution_count": null,
      "outputs": []
    },
    {
      "cell_type": "markdown",
      "metadata": {
        "id": "g-PrjYAxZlqa"
      },
      "source": [
        "Looks, great? Excellent!  \n",
        "見て！、素晴らしい？Excellent!\n",
        "\n",
        "Let's, now as a next step, complete the AENN by implementing the corresponding decoder network. The decoder also consists of nine fully-connected layers. Futhermore, the decoder network is intended to **symmetrically mirror** the encoder networks architecture by a layer wise inversion \"3-4-8-16-32-64-128-256-618\" of the encoder network layers.  \n",
        "\n",
        "さて、次のステップとして、対応するデコーダネットワークを実装することで、AENNを完成させましょう。デコーダもまた、完全に接続された9つの層から構成されている。さらに、デコーダーネットワークは、エンコーダーネットワークのレイヤーを「3-4-8-16-32-64-128-256-618」と反転させることで、エンコーダーネットワークのアーキテクチャを**対称的に**反映させることを目的としている。"
      ]
    },
    {
      "cell_type": "code",
      "metadata": {
        "id": "KaC3MAT5Zlqa"
      },
      "source": [
        "# implementation of the decoder network\n",
        "class decoder(nn.Module):\n",
        "\n",
        "    def __init__(self):\n",
        "\n",
        "        super(decoder, self).__init__()\n",
        "\n",
        "        # specify layer 1 - in 3, out 4\n",
        "        self.decoder_L1 = nn.Linear(in_features=3, out_features=4, bias=True) # add linearity \n",
        "        nn.init.xavier_uniform_(self.decoder_L1.weight)  # init weights according to [9]\n",
        "        self.decoder_R1 = nn.LeakyReLU(negative_slope=0.4, inplace=True) # add non-linearity according to [10]\n",
        "\n",
        "        # specify layer 2 - in 4, out 8\n",
        "        self.decoder_L2 = nn.Linear(4, 8, bias=True)\n",
        "        nn.init.xavier_uniform_(self.decoder_L2.weight)\n",
        "        self.decoder_R2 = nn.LeakyReLU(negative_slope=0.4, inplace=True)\n",
        "\n",
        "        # specify layer 3 - in 8, out 16\n",
        "        self.decoder_L3 = nn.Linear(8, 16, bias=True)\n",
        "        nn.init.xavier_uniform_(self.decoder_L3.weight)\n",
        "        self.decoder_R3 = nn.LeakyReLU(negative_slope=0.4, inplace=True)\n",
        "\n",
        "        # specify layer 4 - in 16, out 32\n",
        "        self.decoder_L4 = nn.Linear(16, 32, bias=True)\n",
        "        nn.init.xavier_uniform_(self.decoder_L4.weight)\n",
        "        self.decoder_R4 = nn.LeakyReLU(negative_slope=0.4, inplace=True)\n",
        "\n",
        "        # specify layer 5 - in 32, out 64\n",
        "        self.decoder_L5 = nn.Linear(32, 64, bias=True)\n",
        "        nn.init.xavier_uniform_(self.decoder_L5.weight)\n",
        "        self.decoder_R5 = nn.LeakyReLU(negative_slope=0.4, inplace=True)\n",
        "\n",
        "        # specify layer 6 - in 64, out 128\n",
        "        self.decoder_L6 = nn.Linear(64, 128, bias=True)\n",
        "        nn.init.xavier_uniform_(self.decoder_L6.weight)\n",
        "        self.decoder_R6 = nn.LeakyReLU(negative_slope=0.4, inplace=True)\n",
        "        \n",
        "        # specify layer 7 - in 128, out 256\n",
        "        self.decoder_L7 = nn.Linear(128, 256, bias=True)\n",
        "        nn.init.xavier_uniform_(self.decoder_L7.weight)\n",
        "        self.decoder_R7 = nn.LeakyReLU(negative_slope=0.4, inplace=True)\n",
        "\n",
        "        # specify layer 8 - in 256, out 512\n",
        "        self.decoder_L8 = nn.Linear(256, 512, bias=True)\n",
        "        nn.init.xavier_uniform_(self.decoder_L8.weight)\n",
        "        self.decoder_R8 = nn.LeakyReLU(negative_slope=0.4, inplace=True)\n",
        "\n",
        "        # specify layer 9 - in 512, out 618\n",
        "        self.decoder_L9 = nn.Linear(in_features=512, out_features=ori_subset_transformed.shape[1], bias=True)\n",
        "        nn.init.xavier_uniform_(self.decoder_L9.weight)\n",
        "        self.decoder_R9 = nn.LeakyReLU(negative_slope=0.4, inplace=True)\n",
        "\n",
        "        # init dropout layer with probability p\n",
        "        self.dropout = nn.Dropout(p=0.0, inplace=True)\n",
        "\n",
        "    def forward(self, x):\n",
        "\n",
        "        # define forward pass through the network\n",
        "        x = self.decoder_R1(self.dropout(self.decoder_L1(x)))\n",
        "        x = self.decoder_R2(self.dropout(self.decoder_L2(x)))\n",
        "        x = self.decoder_R3(self.dropout(self.decoder_L3(x)))\n",
        "        x = self.decoder_R4(self.dropout(self.decoder_L4(x)))\n",
        "        x = self.decoder_R5(self.dropout(self.decoder_L5(x)))\n",
        "        x = self.decoder_R6(self.dropout(self.decoder_L6(x)))\n",
        "        x = self.decoder_R7(self.dropout(self.decoder_L7(x)))\n",
        "        x = self.decoder_R8(self.dropout(self.decoder_L8(x)))\n",
        "        x = self.decoder_R9(self.decoder_L9(x)) # don't apply dropout to the AE output\n",
        "        \n",
        "        return x"
      ],
      "execution_count": null,
      "outputs": []
    },
    {
      "cell_type": "markdown",
      "metadata": {
        "id": "NvdgoqbAZlqa"
      },
      "source": [
        "Let's also instantiate the encoder model for CPU or GPU training and convince ourselves that it was successfully initialized by printing and reviewing its architecture by execution of the following cell:  \n",
        "\n",
        "また、CPUやGPUのトレーニング用にエンコーダモデルをインスタンス化し、印刷によって初期化に成功したことを確認し、次のセルの実行によってアーキテクチャを確認してみましょう。"
      ]
    },
    {
      "cell_type": "code",
      "metadata": {
        "id": "HYFZ63McZlqa"
      },
      "source": [
        "# init training network classes / architectures\n",
        "decoder_train = decoder()\n",
        "\n",
        "# push to cuda if cudnn is available\n",
        "if (torch.backends.cudnn.version() != None) and (USE_CUDA == True):\n",
        "    decoder_train = decoder().cuda()\n",
        "    \n",
        "# print the initialized architectures\n",
        "now = datetime.utcnow().strftime(\"%Y%m%d-%H:%M:%S\")\n",
        "print('[LOG {}] decoder architecture:\\n\\n{}\\n'.format(now, decoder_train))"
      ],
      "execution_count": null,
      "outputs": []
    },
    {
      "cell_type": "markdown",
      "metadata": {
        "id": "jxuNeZZLZlqa"
      },
      "source": [
        "Looks like intended? Brilliant!\n",
        "\n",
        "意図したように？お見事です。"
      ]
    },
    {
      "cell_type": "markdown",
      "metadata": {
        "id": "ZJMg_fCpZlqa"
      },
      "source": [
        "### 4.3 Autoencoder Neural Network Training"
      ]
    },
    {
      "cell_type": "markdown",
      "metadata": {
        "id": "Fy50Xb7XZlqb"
      },
      "source": [
        "Now that we have implemented the AENN we are ready to train the network. Prior to starting the training, we need to define an apropriate loss function. Remember, we aim to train our model to learn a set of encoder-decoder model parameters $\\theta$ that minimize the dissimilarity of a given financial transaction $x^{i}$ and its reconstruction $\\hat{x}^{i} = g_\\theta(f_\\theta(x^{i}))$ as faithfully as possible.　　\n",
        "\n",
        "AENNの実装が完了したので、ネットワークをトレーニングする準備ができました。学習を開始する前に、適切な損失関数を定義する必要があります。ここでは、与えられた財務取引$x^{i}$とその再構築物$\\hat{x}^{i} = g_\\theta(f_\\theta(x^{i}))$の非類似性をできるだけ忠実に最小化するエンコーダ・デコーダモデルパラメータ$\\theta$を学習するようにモデルを学習することを目的としています。\n",
        "\n",
        "Thereby, the training objective is to learn a set of optimal shared encoder-decoder model parameters $\\theta^*$ that optimize $\\arg\\min_{\\theta} \\|X - g_\\theta(f_\\theta(X))\\|$ over all transactions or more specifically journal entries $X$. To achieve this optimization objective, one typically minimizes a loss function $\\mathcal{L_{\\theta}}$ as part of the network training. In this lab we use the **binary-cross-entropy error (BCE)** loss, defined by:　　\n",
        "\n",
        "トレーニングの目的は、全てのトランザクション、より具体的にはジャーナルエントリ𝑋に関する$\\arg\\min_{\\theta} \\|X - g_\\theta(f_\\theta(X))\\|$を最適化する、最適な共有エンコーダ-デコーダモデルパラメータのセット$\\mathcal{L_{\\theta}}$を学習することである。この最適化目的を達成するために、ネットワークの学習の一部として損失関数𝜃を最小化するのが一般的である。本研究室では、次のように定義されるバイナリークロスエントロピーエラー（BCE）損失を用いる。"
      ]
    },
    {
      "cell_type": "markdown",
      "metadata": {
        "id": "mOsJppjFZlqb"
      },
      "source": [
        "<center> $\\mathcal{L^{BCE}_{\\theta}}(x^{i};\\hat{x}^{i}) = \\frac{1}{n}\\sum_{i=1}^{n}\\sum_{j=1}^{k} x^{i}_{j} ln(\\hat{x}^{i}_{j}) + (1-x^{i}_{j}) ln(1-\\hat{x}^{i}_{j})$, </center>"
      ]
    },
    {
      "cell_type": "markdown",
      "metadata": {
        "id": "b7iCqRV_Zlqb"
      },
      "source": [
        "for a set of $n$-journal entries $x^{i}$, $i=1,...,n$ and their respective reconstructions $\\hat{x}^{i}$ and all journal entry attributes $j=1,...,k$. During trainig the BCE loss will penalize models that result in a high dissimilarity between input journal entries and their respective reconstructions.   \n",
        "\n",
        "$n$個のジャーナルエントリ$x^{i}$, $i=1,...,n$とそれらの再構成$\\hat{x}^{i}$、およびすべてのジャーナルエントリ属性$j=1,...,k$のセットに対して、BCE損失を計算します。BCE損失は、入力されたジャーナルエントリとそれぞれの再構成の間に高い非類似度をもたらすモデルにペナルティを与えます。\n",
        "\n",
        "Luckily, an implementation of the BCE loss is already available in PyTorch! It can be instantiated \"off-the-shelf\" via execution of the following PyTorch command:  \n",
        "\n",
        "幸運なことに、BCE損失の実装はすでにPyTorchで利用可能です。以下のPyTorchコマンドを実行することで、「すぐに」インスタンス化することができます。"
      ]
    },
    {
      "cell_type": "code",
      "metadata": {
        "id": "D-LTpXhNZlqb",
        "colab": {
          "base_uri": "https://localhost:8080/",
          "height": 202
        },
        "outputId": "a7812f0c-e73f-4f0e-bdb0-d19aab7f2144"
      },
      "source": [
        "# define the optimization criterion / loss function\n",
        "#loss_function = nn.BCEWithLogitsLoss(reduction='mean')\n",
        "\n",
        "from tensorflow.keras import losses\n",
        "loss_function = tf.keras.losses.Binary.Crossentropy(from_logits=True, reduction='mean')"
      ],
      "execution_count": 31,
      "outputs": [
        {
          "output_type": "error",
          "ename": "AttributeError",
          "evalue": "ignored",
          "traceback": [
            "\u001b[0;31m---------------------------------------------------------------------------\u001b[0m",
            "\u001b[0;31mAttributeError\u001b[0m                            Traceback (most recent call last)",
            "\u001b[0;32m<ipython-input-31-e8d24b4d66d4>\u001b[0m in \u001b[0;36m<module>\u001b[0;34m()\u001b[0m\n\u001b[1;32m      3\u001b[0m \u001b[0;34m\u001b[0m\u001b[0m\n\u001b[1;32m      4\u001b[0m \u001b[0;32mfrom\u001b[0m \u001b[0mtensorflow\u001b[0m\u001b[0;34m.\u001b[0m\u001b[0mkeras\u001b[0m \u001b[0;32mimport\u001b[0m \u001b[0mlosses\u001b[0m\u001b[0;34m\u001b[0m\u001b[0;34m\u001b[0m\u001b[0m\n\u001b[0;32m----> 5\u001b[0;31m \u001b[0mloss_function\u001b[0m \u001b[0;34m=\u001b[0m \u001b[0mtf\u001b[0m\u001b[0;34m.\u001b[0m\u001b[0mkeras\u001b[0m\u001b[0;34m.\u001b[0m\u001b[0mlosses\u001b[0m\u001b[0;34m.\u001b[0m\u001b[0mBinary\u001b[0m\u001b[0;34m.\u001b[0m\u001b[0mCrossentropy\u001b[0m\u001b[0;34m(\u001b[0m\u001b[0mfrom_logits\u001b[0m\u001b[0;34m=\u001b[0m\u001b[0;32mTrue\u001b[0m\u001b[0;34m,\u001b[0m \u001b[0mreduction\u001b[0m\u001b[0;34m=\u001b[0m\u001b[0;34m'mean'\u001b[0m\u001b[0;34m)\u001b[0m\u001b[0;34m\u001b[0m\u001b[0;34m\u001b[0m\u001b[0m\n\u001b[0m",
            "\u001b[0;31mAttributeError\u001b[0m: module 'tensorflow.keras.losses' has no attribute 'Binary'"
          ]
        }
      ]
    },
    {
      "cell_type": "markdown",
      "metadata": {
        "id": "3k733JLrZlqb"
      },
      "source": [
        "(Note: Enabling the parameter `reduction` specifies that the losses are averaged over all observations for each minibatch).  \n",
        "注：パラメータ「reduction」を有効にすると、各ミニバッチのすべての観測値に対して損失が平均化されるようになります）。\n",
        "\n",
        "Based on the loss magnitude of a certain mini-batch PyTorch automatically computes the gradients. But even better, based on the gradient, the library also helps us in the optimization and update of the AENN parameters $\\theta$.\n",
        "\n",
        "あるミニバッチの損失の大きさ$\\theta$に基づいて、PyTorchは自動的にグラジエントを計算する。しかし、さらに良いことに、勾配に基づいて、ライブラリはAENNパラメータ𝜃の最適化と更新にも役立ちます。\n",
        "\n",
        "\n",
        "We will use the **Adam optimization** as proposed in [11] and set the learning-rate $l = 0.001$. Each mini-batch step the optimizer will update the encoder- and decoder-parameters $\\theta$ values according to degree of reconstruction error. \n",
        "\n",
        "ここでは，[11]で提案されている**Adam最適化**を用い，学習率$l=0.001$を設定します．ミニバッチステップごとに、最適化器は再構成誤差の度合いに応じて、エンコーダパラメータとデコーダパラメータの$\\theta$値を更新します。"
      ]
    },
    {
      "cell_type": "code",
      "metadata": {
        "id": "xUZRH3lFZlqb"
      },
      "source": [
        "# define learning rate and optimization strategy\n",
        "learning_rate = 1e-3\n",
        "#encoder_optimizer = torch.optim.Adam(encoder_train.parameters(), lr=learning_rate)\n",
        "#decoder_optimizer = torch.optim.Adam(decoder_train.parameters(), lr=learning_rate)\n",
        "\n",
        "import tensorflow as tf\n",
        "from tensorflow.keras import optimizers\n",
        "optimizer = tf.keras.optimizers.Adam(learning_rate ='learning_rate')"
      ],
      "execution_count": null,
      "outputs": []
    },
    {
      "cell_type": "markdown",
      "metadata": {
        "id": "747AN9MmZlqb"
      },
      "source": [
        "Now that we have successfully implemented and defined the three AENN building blocks let's take some time to review the `encoder` and `decoder` model definition as well as the `loss`. Please, read the above code and comments carefully and don't hesitate to let us know any questions you might have.\n",
        "\n",
        "さて、AENNの3つのビルディングブロックの実装と定義が完了したところで、「エンコーダー」と「デコーダー」のモデル定義、および「損失」について、少し時間をかけて確認してみましょう。上記のコードとコメントをよくお読みになり、ご不明な点がありましたら、遠慮なくお問い合わせください。"
      ]
    },
    {
      "cell_type": "markdown",
      "metadata": {
        "id": "QRHxXJvDZlqb"
      },
      "source": [
        "## 5. Training the Autoencoder Neural Network (AENN) Model"
      ]
    },
    {
      "cell_type": "markdown",
      "metadata": {
        "id": "egIjkYg1Zlqc"
      },
      "source": [
        "In this section, we will train our deep autoencoder neural network (as implemented in section 4. of the lab) using the encoded transactional data (created in section 3. of the lab). More specifically, we will have a detailed look into the distinct training steps as well as how to monitor the training progress.\n",
        "\n",
        "このセクションでは、エンコードされたトランザクションデータ（ラボのセクション3で作成）を使用して、ディープオートエンコーダーニューラルネットワーク（ラボのセクション4で実装）をトレーニングします。具体的には、トレーニングの各ステップと、トレーニングの進捗を監視する方法について詳しく見ていきます。"
      ]
    },
    {
      "cell_type": "markdown",
      "metadata": {
        "id": "yBnGk5veZlqc"
      },
      "source": [
        "### 5.1 Preparing the Network Training"
      ]
    },
    {
      "cell_type": "markdown",
      "metadata": {
        "id": "7nxXPG6VZlqc"
      },
      "source": [
        "We have pre-processed the dataset, implemented the AENN and defined the reconstruction error. Let's now start to train a corresponding model for **5 epochs** and a **mini-batch size of 128** journal entries per batch. This implies that the whole dataset will be fed to the AENN 5 times in chunks of 128 journal entries yielding to 4,165 mini-batches (533,009 journal entries / 128 journal entries per mini-batch) per epoch.\n",
        "\n",
        "データセットを前処理し、AENNを実装し、再構成誤差を定義しました。ここでは、**5回のエポック**と、**バッチあたり128**個のジャーナル・エントリという**ミニ・バッチ・サイズに対応するモデルの学習を始めましょう。これは、データセット全体が128個のジャーナルエントリの塊で5回AENNに供給され、1エポックあたり4,165個のミニバッチ（533,009個のジャーナルエントリ / ミニバッチあたり128個のジャーナルエントリ）が得られることを意味します。"
      ]
    },
    {
      "cell_type": "code",
      "metadata": {
        "id": "Y-4v-wp6Zlqc"
      },
      "source": [
        "# specify training parameters\n",
        "num_epochs = 5\n",
        "mini_batch_size = 128"
      ],
      "execution_count": null,
      "outputs": []
    },
    {
      "cell_type": "markdown",
      "metadata": {
        "id": "kiCTNRmeZlqc"
      },
      "source": [
        "During the training phase, we will fetch the individual mini-batches of the entire population of journal entries. To achieve this, we will use PyTorch's `DataLoader` that provides single- or multi-process iterators over a given dataset to load one mini-batch at a time. By enabling `shuffle=True` the data will be reshuffled at every epoch prior to feeding it to the network. \n",
        "\n",
        "学習段階では、ジャーナルエントリの全集団から個々のミニバッチを取得します。これを実現するために、PyTorchの`DataLoader`を使用します。このDataLoaderは、与えられたデータセットに対してシングルまたはマルチプロセスのイテレータを提供し、一度に1つのミニバッチをロードします。shuffle=True`を有効にすると、データはエポック毎に再シャッフルされてからネットワークに投入されます。"
      ]
    },
    {
      "cell_type": "code",
      "metadata": {
        "id": "OKJDAuZiZlqc"
      },
      "source": [
        "# convert pre-processed data to pytorch tensor\n",
        "torch_dataset = torch.from_numpy(ori_subset_transformed.values).float()\n",
        "\n",
        "# convert to pytorch tensor - none cuda enabled\n",
        "dataloader = DataLoader(torch_dataset, batch_size=mini_batch_size, shuffle=True, num_workers=0)\n",
        "# note: we set num_workers to zero to retrieve deterministic results\n",
        "\n",
        "# determine if CUDA is available at compute node\n",
        "if (torch.backends.cudnn.version() != None) and (USE_CUDA == True):\n",
        "    dataloader = DataLoader(torch_dataset.cuda(), batch_size=mini_batch_size, shuffle=True)"
      ],
      "execution_count": null,
      "outputs": []
    },
    {
      "cell_type": "code",
      "metadata": {
        "id": "Nc2cj3Ja2Urq"
      },
      "source": [
        ""
      ],
      "execution_count": null,
      "outputs": []
    },
    {
      "cell_type": "markdown",
      "metadata": {
        "id": "-xrXn_4bZlqc"
      },
      "source": [
        "### 5.2 Running the Network Training"
      ]
    },
    {
      "cell_type": "markdown",
      "metadata": {
        "id": "iYpTyOEhZlqc"
      },
      "source": [
        "Finally, we start training the model. The training procedure of each mini-batch is performed as follows: \n",
        "\n",
        "最後に、モデルのトレーニングを開始します。各ミニバッチの学習手順は以下のように行われます。\n",
        "\n",
        ">1. do a forward pass through the encoder-decoder part,   \n",
        "エンコーダ・デコーダ部をフォワードパスする。\n",
        ">2. compute the binary-cross-entropy reconstruction loss $\\mathcal{L^{BCE}_{\\theta}}(x^{i};\\hat{x}^{i})$,   \n",
        "バイナリー・クロス・エントロピー再構築損失$\\mathcal{L^{BCE}_{\\theta}}(x^{i};\\hat{x}^{i})$を計算する。\n",
        ">3. do a backward pass through the encoder-decoder part, and   \n",
        "エンコーダ・デコーダ部をバックワードパスする。そして、\n",
        ">4. update the parameters of the encoder $f_\\theta(\\cdot)$ and decoder $g_\\theta(\\cdot)$ networks.  \n",
        "エンコーダ$f_\\theta(\\cdot)$とデコーダ$g_\\theta(\\cdot)$ネットワークのパラメータを更新する。\n",
        "\n",
        "To ensure learning while training our AENN model we will monitor whether the loss decreases with progressing training. Therefore, we obtain and evaluate the reconstruction performance of the entire dataset after each training epoch. Based on this evaluation we can conclude on the training progress and whether the loss is converging (indicating that the model might not improve any further).\n",
        "\n",
        "AENNモデルの学習を確実なものにするために、学習の進行に伴って損失が減少するかどうかを監視します。そのため、各トレーニングエポックの後に、データセット全体の再構成性能を取得し、評価します。この評価に基づいて、学習の進捗状況と、損失が収束しているかどうか（モデルがこれ以上改善されない可能性があることを示す）を結論付けることができます。\n",
        "\n",
        "The following elements of the network training code below should be given particular attention:\n",
        "\n",
        "以下のネットワークトレーニングコードの要素には、特に注意が必要です。\n",
        " \n",
        ">- `reconstruction_loss.backward()` computes the gradients based on the magnitude of the reconstruction loss,  \n",
        "<font color='blue'>`reconstruction_loss.backward()` は，再構築損失の大きさに基づいてグラデーションを計算します．</font>\n",
        ">- `encoder_optimizer.step()` and `decoder_optimizer.step()` updates the network parameters based on the gradient.  \n",
        "<font color='blue'>encoder_optimizer.step()とdecoder_optimizer.step()は、勾配に基づいてネットワークのパラメータを更新します。</font>\n",
        "\n",
        "Please also note, that the mini-batch training of the AENN will be executed on the GPU (if CUDNN is available and set accordingly by USE_CUDA=True). However, the evaluation of the reconstruction performance over the entire set of journal entries will be performed at CPU level. Using PyTorch this can be easily achieved with the following commands:\n",
        "\n",
        "なお、AENNのミニバッチトレーニングはGPUで実行されます（CUDNNが利用可能で、USE_CUDA=Trueで適宜設定されている場合）。しかし、ジャーナルエントリのセット全体に対する再構成パフォーマンスの評価は、CPUレベルで実行されます。PyTorchを使えば、以下のコマンドで簡単に実現できます。\n",
        "\n",
        ">- `encoder_train.cuda()`: moves all model parameters and buffers to the GPU. \n",
        "<font color='blue'>encoder_train.cuda()`: すべてのモデルパラメータとバッファをGPUに移動します。</font>\n",
        ">- `encoder_train.cpu()`: moves all model parameters and buffers to the CPU.  \n",
        "<font color='blue'>`encoder_train.cpu()`: すべてのモデルパラメータとバッファをCPUに移動します。</font>\n",
        "\n",
        "The reason for the switch to the CPU in the evaluation phase is the size of the entire dataset. We aim to compute the reconstruction error over the entire dataset, which in most of the cases does not fit into the GPU's memory.\n",
        "\n",
        "評価段階でCPUに切り替えた理由は，データセット全体の大きさにあります．我々はデータセット全体の再構成誤差を計算することを目的としていますが、ほとんどの場合、GPUのメモリには収まりません。\n",
        "\n",
        "In addition, after each training epoch we want to save a checkpoint for both the actual `encoder` and `decoder` model. The saved model checkpoints contain a snapshot of the trained model parameter values upon completion of a training epoch. In general, it is good practice, to save checkpoints at regular intervals during training. In case your system crashes during training you are able continue from the last checkpoint rather than start over from scratch.\n",
        "\n",
        "さらに，トレーニングエポックごとに，実際の「エンコーダー」と「デコーダー」の両方のモデルのチェックポイントを保存したいと考えています．保存されたモデルのチェックポイントには，トレーニングエポックが完了したときの，トレーニングされたモデルのパラメータ値のスナップショットが含まれています．一般的には，トレーニング中に一定の間隔でチェックポイントを保存するのが良い方法です．万が一，トレーニング中にシステムがクラッシュしても，最初からやり直すのではなく，最後のチェックポイントから続けることができます．\n",
        "\n",
        ">- `torch.save()`: saves a checkpoint of the actual encoder and decoder model parameter values to disc.  \n",
        "<font color='blue'>:torch.save()`: 実際のエンコーダとデコーダのモデルパラメータ値のチェックポイントをディスクに保存します。</font>"
      ]
    },
    {
      "cell_type": "code",
      "metadata": {
        "id": "SWZ5hgJiZlqd",
        "colab": {
          "base_uri": "https://localhost:8080/",
          "height": 464
        },
        "outputId": "fa72b440-c469-4906-ee18-1d0e54d431c7"
      },
      "source": [
        "# init collection of epoch losses\n",
        "epoch_losses = []\n",
        "\n",
        "# convert encoded transactional data to torch Variable\n",
        "data = autograd.Variable(torch_dataset)\n",
        "\n",
        "# train autoencoder model\n",
        "for epoch in range(num_epochs):\n",
        "\n",
        "    # init collection of epoch losses\n",
        "    mini_batch_losses = []\n",
        "    \n",
        "    # init mini batch counter\n",
        "    mini_batch_count = 0\n",
        "    \n",
        "    # determine if CUDA is available at compute node\n",
        "    if(torch.backends.cudnn.version() != None) and (USE_CUDA == True):\n",
        "        \n",
        "        # set networks / models in GPU mode\n",
        "        encoder_train.cuda()\n",
        "        decoder_train.cuda()\n",
        "\n",
        "    # set networks in training mode (apply dropout when needed)\n",
        "    encoder_train.train()\n",
        "    decoder_train.train()\n",
        "\n",
        "    # start timer\n",
        "    start_time = datetime.now()\n",
        "        \n",
        "    # iterate over all mini-batches\n",
        "    for mini_batch_data in dataloader:\n",
        "\n",
        "        # increase mini batch counter\n",
        "        mini_batch_count += 1\n",
        "\n",
        "        # convert mini batch to torch variable\n",
        "        mini_batch_torch = autograd.Variable(mini_batch_data)\n",
        "\n",
        "        # =================== (1) forward pass ===================================\n",
        "\n",
        "        # run forward pass\n",
        "        z_representation = encoder_train(mini_batch_torch) # encode mini-batch data\n",
        "        mini_batch_reconstruction = decoder_train(z_representation) # decode mini-batch data\n",
        "        \n",
        "        # =================== (2) compute reconstruction loss ====================\n",
        "\n",
        "        # determine reconstruction loss\n",
        "        reconstruction_loss = loss_function(mini_batch_reconstruction, mini_batch_torch)\n",
        "        \n",
        "        # =================== (3) backward pass ==================================\n",
        "\n",
        "        # reset graph gradients\n",
        "        decoder_optimizer.zero_grad()\n",
        "        encoder_optimizer.zero_grad()\n",
        "\n",
        "        # run backward pass\n",
        "        reconstruction_loss.backward()\n",
        "        \n",
        "        # =================== (4) update model parameters ========================\n",
        "\n",
        "        # update network parameters\n",
        "        decoder_optimizer.step()\n",
        "        encoder_optimizer.step()\n",
        "\n",
        "        # =================== monitor training progress ==========================\n",
        "\n",
        "        # print training progress each 1'000 mini-batches\n",
        "        if mini_batch_count % 1000 == 0:\n",
        "            \n",
        "            # print the training mode: either on GPU or CPU\n",
        "            mode = 'GPU' if (torch.backends.cudnn.version() != None) and (USE_CUDA == True) else 'CPU'\n",
        "            \n",
        "            # print mini batch reconstuction results\n",
        "            now = datetime.utcnow().strftime(\"%Y%m%d-%H:%M:%S\")\n",
        "            end_time = datetime.now() - start_time\n",
        "            print('[LOG {}] training status, epoch: [{:04}/{:04}], batch: {:04}, loss: {}, mode: {}, time required: {}'.format(now, (epoch+1), num_epochs, mini_batch_count, np.round(reconstruction_loss.item(), 4), mode, end_time))\n",
        "\n",
        "            # reset timer\n",
        "            start_time = datetime.now()\n",
        "            \n",
        "        # collect mini-batch loss\n",
        "        mini_batch_losses.extend([np.round(reconstruction_loss.item(), 4)])\n",
        "\n",
        "    # =================== evaluate model performance =============================\n",
        "                                 \n",
        "    # collect mean training epoch loss\n",
        "    epoch_losses.extend([np.mean(mini_batch_losses)])\n",
        "    \n",
        "    # print training epoch results\n",
        "    now = datetime.utcnow().strftime(\"%Y%m%d-%H:%M:%S\")\n",
        "    print('[LOG {}] training status, epoch: [{:04}/{:04}], loss: {:.10f}'.format(now, (epoch+1), num_epochs, np.mean(mini_batch_losses)))\n",
        "\n",
        "    # =================== save model snapshot to disk ============================\n",
        "    \n",
        "    # save trained encoder model file to disk\n",
        "    encoder_model_name = \"ep_{}_encoder_model.pth\".format((epoch+1))\n",
        "    torch.save(encoder_train.state_dict(), encoder_model_name)\n",
        "\n",
        "    # save trained decoder model file to disk\n",
        "    decoder_model_name = \"ep_{}_decoder_model.pth\".format((epoch+1))\n",
        "    torch.save(decoder_train.state_dict(), decoder_model_name)"
      ],
      "execution_count": null,
      "outputs": [
        {
          "output_type": "stream",
          "text": [
            "[LOG 20210501-02:20:06] training status, epoch: [0001/0005], batch: 1000, loss: 0.0132, mode: CPU, time required: 0:00:20.300621\n",
            "[LOG 20210501-02:20:29] training status, epoch: [0001/0005], batch: 2000, loss: 0.0071, mode: CPU, time required: 0:00:23.386049\n",
            "[LOG 20210501-02:20:56] training status, epoch: [0001/0005], batch: 3000, loss: 0.0062, mode: CPU, time required: 0:00:26.600349\n",
            "[LOG 20210501-02:21:26] training status, epoch: [0001/0005], batch: 4000, loss: 0.0045, mode: CPU, time required: 0:00:30.136291\n",
            "[LOG 20210501-02:21:31] training status, epoch: [0001/0005], loss: 0.0122222809\n"
          ],
          "name": "stdout"
        },
        {
          "output_type": "error",
          "ename": "KeyboardInterrupt",
          "evalue": "ignored",
          "traceback": [
            "\u001b[0;31m---------------------------------------------------------------------------\u001b[0m",
            "\u001b[0;31mKeyboardInterrupt\u001b[0m                         Traceback (most recent call last)",
            "\u001b[0;32m<ipython-input-66-b50ab058f691>\u001b[0m in \u001b[0;36m<module>\u001b[0;34m()\u001b[0m\n\u001b[1;32m     55\u001b[0m \u001b[0;34m\u001b[0m\u001b[0m\n\u001b[1;32m     56\u001b[0m         \u001b[0;31m# run backward pass\u001b[0m\u001b[0;34m\u001b[0m\u001b[0;34m\u001b[0m\u001b[0;34m\u001b[0m\u001b[0m\n\u001b[0;32m---> 57\u001b[0;31m         \u001b[0mreconstruction_loss\u001b[0m\u001b[0;34m.\u001b[0m\u001b[0mbackward\u001b[0m\u001b[0;34m(\u001b[0m\u001b[0;34m)\u001b[0m\u001b[0;34m\u001b[0m\u001b[0;34m\u001b[0m\u001b[0m\n\u001b[0m\u001b[1;32m     58\u001b[0m \u001b[0;34m\u001b[0m\u001b[0m\n\u001b[1;32m     59\u001b[0m         \u001b[0;31m# =================== (4) update model parameters ========================\u001b[0m\u001b[0;34m\u001b[0m\u001b[0;34m\u001b[0m\u001b[0;34m\u001b[0m\u001b[0m\n",
            "\u001b[0;32m/usr/local/lib/python3.7/dist-packages/torch/tensor.py\u001b[0m in \u001b[0;36mbackward\u001b[0;34m(self, gradient, retain_graph, create_graph, inputs)\u001b[0m\n\u001b[1;32m    243\u001b[0m                 \u001b[0mcreate_graph\u001b[0m\u001b[0;34m=\u001b[0m\u001b[0mcreate_graph\u001b[0m\u001b[0;34m,\u001b[0m\u001b[0;34m\u001b[0m\u001b[0;34m\u001b[0m\u001b[0m\n\u001b[1;32m    244\u001b[0m                 inputs=inputs)\n\u001b[0;32m--> 245\u001b[0;31m         \u001b[0mtorch\u001b[0m\u001b[0;34m.\u001b[0m\u001b[0mautograd\u001b[0m\u001b[0;34m.\u001b[0m\u001b[0mbackward\u001b[0m\u001b[0;34m(\u001b[0m\u001b[0mself\u001b[0m\u001b[0;34m,\u001b[0m \u001b[0mgradient\u001b[0m\u001b[0;34m,\u001b[0m \u001b[0mretain_graph\u001b[0m\u001b[0;34m,\u001b[0m \u001b[0mcreate_graph\u001b[0m\u001b[0;34m,\u001b[0m \u001b[0minputs\u001b[0m\u001b[0;34m=\u001b[0m\u001b[0minputs\u001b[0m\u001b[0;34m)\u001b[0m\u001b[0;34m\u001b[0m\u001b[0;34m\u001b[0m\u001b[0m\n\u001b[0m\u001b[1;32m    246\u001b[0m \u001b[0;34m\u001b[0m\u001b[0m\n\u001b[1;32m    247\u001b[0m     \u001b[0;32mdef\u001b[0m \u001b[0mregister_hook\u001b[0m\u001b[0;34m(\u001b[0m\u001b[0mself\u001b[0m\u001b[0;34m,\u001b[0m \u001b[0mhook\u001b[0m\u001b[0;34m)\u001b[0m\u001b[0;34m:\u001b[0m\u001b[0;34m\u001b[0m\u001b[0;34m\u001b[0m\u001b[0m\n",
            "\u001b[0;32m/usr/local/lib/python3.7/dist-packages/torch/autograd/__init__.py\u001b[0m in \u001b[0;36mbackward\u001b[0;34m(tensors, grad_tensors, retain_graph, create_graph, grad_variables, inputs)\u001b[0m\n\u001b[1;32m    145\u001b[0m     Variable._execution_engine.run_backward(\n\u001b[1;32m    146\u001b[0m         \u001b[0mtensors\u001b[0m\u001b[0;34m,\u001b[0m \u001b[0mgrad_tensors_\u001b[0m\u001b[0;34m,\u001b[0m \u001b[0mretain_graph\u001b[0m\u001b[0;34m,\u001b[0m \u001b[0mcreate_graph\u001b[0m\u001b[0;34m,\u001b[0m \u001b[0minputs\u001b[0m\u001b[0;34m,\u001b[0m\u001b[0;34m\u001b[0m\u001b[0;34m\u001b[0m\u001b[0m\n\u001b[0;32m--> 147\u001b[0;31m         allow_unreachable=True, accumulate_grad=True)  # allow_unreachable flag\n\u001b[0m\u001b[1;32m    148\u001b[0m \u001b[0;34m\u001b[0m\u001b[0m\n\u001b[1;32m    149\u001b[0m \u001b[0;34m\u001b[0m\u001b[0m\n",
            "\u001b[0;31mKeyboardInterrupt\u001b[0m: "
          ]
        }
      ]
    },
    {
      "cell_type": "markdown",
      "metadata": {
        "id": "tM1VqO08Zlqd"
      },
      "source": [
        "Let's now evaluate if the loss function is indeed going down with progressing training of the model. Therefore, let's visualize the magnitudes of the losses obtained per training epoch:\n",
        "\n",
        "ここで、モデルの学習が進むにつれて、損失関数が本当に下がっているかどうかを評価してみましょう。そこで、学習エポックごとに得られる損失の大きさを可視化してみましょう。"
      ]
    },
    {
      "cell_type": "code",
      "metadata": {
        "id": "iDodPxV-Zlqd",
        "colab": {
          "base_uri": "https://localhost:8080/",
          "height": 312
        },
        "outputId": "43ae4f14-1095-4be3-fae8-ebbda2f4eea5"
      },
      "source": [
        "# plot the training progress\n",
        "plt.plot(range(0, len(epoch_losses)), epoch_losses)\n",
        "plt.xlabel('[training epoch]')\n",
        "plt.xlim([0, len(epoch_losses)])\n",
        "plt.ylabel('[reconstruction-error]')\n",
        "#plt.ylim([0.0, 1.0])\n",
        "plt.title('AENN training performance')"
      ],
      "execution_count": null,
      "outputs": [
        {
          "output_type": "execute_result",
          "data": {
            "text/plain": [
              "Text(0.5, 1.0, 'AENN training performance')"
            ]
          },
          "metadata": {
            "tags": []
          },
          "execution_count": 38
        },
        {
          "output_type": "display_data",
          "data": {
            "image/png": "[encoded data removed]",
            "text/plain": [
              "<Figure size 432x288 with 1 Axes>"
            ]
          },
          "metadata": {
            "tags": [],
            "needs_background": "light"
          }
        }
      ]
    },
    {
      "cell_type": "markdown",
      "metadata": {
        "id": "WdDOcqoHZlqd"
      },
      "source": [
        "How does the reconstruction loss change as we progress in training our model? After 5 epochs, we can observe that our reconstruction loss already went down significantly and starts to converge nicely. This indicates that our network did a pretty good job in learning the structure and attributes of the journal entries.\n",
        "\n",
        "モデルの学習が進むにつれて、再構成損失はどのように変化するでしょうか。5エポック後、再構築損失はすでに大幅に減少し、きれいに収束し始めていることがわかります。これは、ネットワークがジャーナルの構造と属性をうまく学習したことを示しています。\n",
        "\n",
        "But, from the plot we also observe that the model could probably be trained a couple more epochs as the trend of the reconstruction error still decreases for the last few epochs. In order to save time, we will continue the lab using a pre-trained model already trained by 20 epochs.\n",
        "\n",
        "しかし、このプロットから、最後の数エポックで再構成誤差の傾向がまだ減少していることから、モデルをさらに2、3エポック学習できる可能性があることもわかりました。時間を節約するために、20エポックで既に訓練された事前訓練モデルを使って実験を続けます。"
      ]
    },
    {
      "cell_type": "markdown",
      "metadata": {
        "id": "EerA33NdZlqd"
      },
      "source": [
        "### Exercises:"
      ]
    },
    {
      "cell_type": "markdown",
      "metadata": {
        "id": "W3fKb38YZlqd"
      },
      "source": [
        "Before we continue with the next notebook section it's time for some exercises:\n",
        "\n",
        "次のノートブックセクションに進む前に、いくつかの演習を行います。\n",
        "\n",
        "\n",
        ">1. Set the `USE_CUDA` flag to `False` and re-start the training procedure. What impact do you observe in terms of training time needed for training a single epoch? Please, note that after altering the `USE_CUDA` flag you need to execute all successive cells starting from section 4.2. [5-10 min]  \n",
        "<font color='blue'>USE_CUDA \"フラグを \"False \"に設定して、トレーニングを再開します。1つのエポックを学習するのに必要な学習時間について、どのような影響があるでしょうか？なお、`USE_CUDA`フラグを変更した後は、セクション4.2以降の連続したセルをすべて実行する必要があります。[5-10分].　</font>\n",
        ">2. Set the `dropout` probability to `0.8` (80%) and re-start the training procedure. What impact do you observe in terms of training performance / reconstruction loss? Please, note that after altering the `dropout` probability you need to execute all successive cells starting from section 4.2. [5-10 min]  \n",
        "<font color='blue'>ドロップアウト」の確率を「0.8」（80％）に設定して、トレーニングを再開します。トレーニングのパフォーマンスや再構築の損失について、どのような影響があるでしょうか？なお、「ドロップアウト」の確率を変更した後は、セクション4.2から始まる連続したセルをすべて実行する必要があります。[5-10分].</font>"
      ]
    },
    {
      "cell_type": "markdown",
      "metadata": {
        "id": "LZKkmUxJAHOi"
      },
      "source": [
        "###<font color='orange'>GPUを使用したトレーニング USE_CUDA = False</font>\n",
        "**1. Set the `USE_CUDA` flag to `False` and re-start the training procedure. What impact do you observe in terms of training time needed for training a single epoch? Please, note that after altering the `USE_CUDA` flag you need to execute all successive cells starting from section 4.2. [5-10 min]**\n",
        "\n",
        "<font color='blue'>USE_CUDA \"フラグを \"False \"に設定して、トレーニングを再開します。1つのエポックを学習するのに必要な学習時間について、どのような影響があるでしょうか？なお、`USE_CUDA`フラグを変更した後は、セクション4.2以降の連続したセルをすべて実行する必要があります。[5-10分].　</font>"
      ]
    },
    {
      "cell_type": "code",
      "metadata": {
        "id": "__O71M_meSeN"
      },
      "source": [
        "USE_CUDA = False"
      ],
      "execution_count": null,
      "outputs": []
    },
    {
      "cell_type": "code",
      "metadata": {
        "id": "RPW9ipgGBadH"
      },
      "source": [
        "# implementation of the encoder network\n",
        "class encoder(nn.Module):\n",
        "\n",
        "    def __init__(self):\n",
        "\n",
        "        super(encoder, self).__init__()\n",
        "\n",
        "        # specify layer 1 - in 618, out 512\n",
        "        self.encoder_L1 = nn.Linear(in_features=ori_subset_transformed.shape[1], out_features=512, bias=True) # add linearity \n",
        "        nn.init.xavier_uniform_(self.encoder_L1.weight) # init weights according to [9]\n",
        "        self.encoder_R1 = nn.LeakyReLU(negative_slope=0.4, inplace=True) # add non-linearity according to [10]\n",
        "\n",
        "        # specify layer 2 - in 512, out 256\n",
        "        self.encoder_L2 = nn.Linear(512, 256, bias=True)\n",
        "        nn.init.xavier_uniform_(self.encoder_L2.weight)\n",
        "        self.encoder_R2 = nn.LeakyReLU(negative_slope=0.4, inplace=True)\n",
        "\n",
        "        # specify layer 3 - in 256, out 128\n",
        "        self.encoder_L3 = nn.Linear(256, 128, bias=True)\n",
        "        nn.init.xavier_uniform_(self.encoder_L3.weight)\n",
        "        self.encoder_R3 = nn.LeakyReLU(negative_slope=0.4, inplace=True)\n",
        "\n",
        "        # specify layer 4 - in 128, out 64\n",
        "        self.encoder_L4 = nn.Linear(128, 64, bias=True)\n",
        "        nn.init.xavier_uniform_(self.encoder_L4.weight)\n",
        "        self.encoder_R4 = nn.LeakyReLU(negative_slope=0.4, inplace=True)\n",
        "\n",
        "        # specify layer 5 - in 64, out 32\n",
        "        self.encoder_L5 = nn.Linear(64, 32, bias=True)\n",
        "        nn.init.xavier_uniform_(self.encoder_L5.weight)\n",
        "        self.encoder_R5 = nn.LeakyReLU(negative_slope=0.4, inplace=True)\n",
        "\n",
        "        # specify layer 6 - in 32, out 16\n",
        "        self.encoder_L6 = nn.Linear(32, 16, bias=True)\n",
        "        nn.init.xavier_uniform_(self.encoder_L6.weight)\n",
        "        self.encoder_R6 = nn.LeakyReLU(negative_slope=0.4, inplace=True)\n",
        "\n",
        "        # specify layer 7 - in 16, out 8\n",
        "        self.encoder_L7 = nn.Linear(16, 8, bias=True)\n",
        "        nn.init.xavier_uniform_(self.encoder_L7.weight)\n",
        "        self.encoder_R7 = nn.LeakyReLU(negative_slope=0.4, inplace=True)\n",
        "\n",
        "        # specify layer 8 - in 8, out 4\n",
        "        self.encoder_L8 = nn.Linear(8, 4, bias=True)\n",
        "        nn.init.xavier_uniform_(self.encoder_L8.weight)\n",
        "        self.encoder_R8 = nn.LeakyReLU(negative_slope=0.4, inplace=True)\n",
        "\n",
        "        # specify layer 9 - in 4, out 3\n",
        "        self.encoder_L9 = nn.Linear(4, 3, bias=True)\n",
        "        nn.init.xavier_uniform_(self.encoder_L9.weight)\n",
        "        self.encoder_R9 = nn.LeakyReLU(negative_slope=0.4, inplace=True)\n",
        "\n",
        "        # init dropout layer with probability p\n",
        "        self.dropout = nn.Dropout(p=0.0, inplace=True)\n",
        "        \n",
        "    def forward(self, x):\n",
        "\n",
        "        # define forward pass through the network\n",
        "        x = self.encoder_R1(self.dropout(self.encoder_L1(x)))\n",
        "        x = self.encoder_R2(self.dropout(self.encoder_L2(x)))\n",
        "        x = self.encoder_R3(self.dropout(self.encoder_L3(x)))\n",
        "        x = self.encoder_R4(self.dropout(self.encoder_L4(x)))\n",
        "        x = self.encoder_R5(self.dropout(self.encoder_L5(x)))\n",
        "        x = self.encoder_R6(self.dropout(self.encoder_L6(x)))\n",
        "        x = self.encoder_R7(self.dropout(self.encoder_L7(x)))\n",
        "        x = self.encoder_R8(self.dropout(self.encoder_L8(x)))\n",
        "        x = self.encoder_R9(self.encoder_L9(x)) # don't apply dropout to the AE bottleneck\n",
        "\n",
        "        return x"
      ],
      "execution_count": null,
      "outputs": []
    },
    {
      "cell_type": "code",
      "metadata": {
        "id": "RlpPh8nRBkLH"
      },
      "source": [
        "# init training network classes / architectures\n",
        "encoder_train = encoder()\n",
        "\n",
        "# push to cuda if cudnn is available\n",
        "if (torch.backends.cudnn.version() != None and USE_CUDA == True):\n",
        "    encoder_train = encoder().cuda()"
      ],
      "execution_count": null,
      "outputs": []
    },
    {
      "cell_type": "code",
      "metadata": {
        "colab": {
          "base_uri": "https://localhost:8080/"
        },
        "id": "Kp1lCGCI77pS",
        "outputId": "8e06a393-55ac-41da-a433-793f30958b1d"
      },
      "source": [
        "# print the initialized architectures\n",
        "now = datetime.utcnow().strftime(\"%Y%m%d-%H:%M:%S\")\n",
        "print('[LOG {}] encoder architecture:\\n\\n{}\\n'.format(now, encoder_train))"
      ],
      "execution_count": null,
      "outputs": [
        {
          "output_type": "stream",
          "text": [
            "[LOG 20210501-01:31:18] encoder architecture:\n",
            "\n",
            "encoder(\n",
            "  (encoder_L1): Linear(in_features=618, out_features=512, bias=True)\n",
            "  (encoder_R1): LeakyReLU(negative_slope=0.4, inplace=True)\n",
            "  (encoder_L2): Linear(in_features=512, out_features=256, bias=True)\n",
            "  (encoder_R2): LeakyReLU(negative_slope=0.4, inplace=True)\n",
            "  (encoder_L3): Linear(in_features=256, out_features=128, bias=True)\n",
            "  (encoder_R3): LeakyReLU(negative_slope=0.4, inplace=True)\n",
            "  (encoder_L4): Linear(in_features=128, out_features=64, bias=True)\n",
            "  (encoder_R4): LeakyReLU(negative_slope=0.4, inplace=True)\n",
            "  (encoder_L5): Linear(in_features=64, out_features=32, bias=True)\n",
            "  (encoder_R5): LeakyReLU(negative_slope=0.4, inplace=True)\n",
            "  (encoder_L6): Linear(in_features=32, out_features=16, bias=True)\n",
            "  (encoder_R6): LeakyReLU(negative_slope=0.4, inplace=True)\n",
            "  (encoder_L7): Linear(in_features=16, out_features=8, bias=True)\n",
            "  (encoder_R7): LeakyReLU(negative_slope=0.4, inplace=True)\n",
            "  (encoder_L8): Linear(in_features=8, out_features=4, bias=True)\n",
            "  (encoder_R8): LeakyReLU(negative_slope=0.4, inplace=True)\n",
            "  (encoder_L9): Linear(in_features=4, out_features=3, bias=True)\n",
            "  (encoder_R9): LeakyReLU(negative_slope=0.4, inplace=True)\n",
            "  (dropout): Dropout(p=0.0, inplace=True)\n",
            ")\n",
            "\n"
          ],
          "name": "stdout"
        }
      ]
    },
    {
      "cell_type": "code",
      "metadata": {
        "id": "ynoNLlT58R14"
      },
      "source": [
        "# implementation of the decoder network\n",
        "class decoder(nn.Module):\n",
        "\n",
        "    def __init__(self):\n",
        "\n",
        "        super(decoder, self).__init__()\n",
        "\n",
        "        # specify layer 1 - in 3, out 4\n",
        "        self.decoder_L1 = nn.Linear(in_features=3, out_features=4, bias=True) # add linearity \n",
        "        nn.init.xavier_uniform_(self.decoder_L1.weight)  # init weights according to [9]\n",
        "        self.decoder_R1 = nn.LeakyReLU(negative_slope=0.4, inplace=True) # add non-linearity according to [10]\n",
        "\n",
        "        # specify layer 2 - in 4, out 8\n",
        "        self.decoder_L2 = nn.Linear(4, 8, bias=True)\n",
        "        nn.init.xavier_uniform_(self.decoder_L2.weight)\n",
        "        self.decoder_R2 = nn.LeakyReLU(negative_slope=0.4, inplace=True)\n",
        "\n",
        "        # specify layer 3 - in 8, out 16\n",
        "        self.decoder_L3 = nn.Linear(8, 16, bias=True)\n",
        "        nn.init.xavier_uniform_(self.decoder_L3.weight)\n",
        "        self.decoder_R3 = nn.LeakyReLU(negative_slope=0.4, inplace=True)\n",
        "\n",
        "        # specify layer 4 - in 16, out 32\n",
        "        self.decoder_L4 = nn.Linear(16, 32, bias=True)\n",
        "        nn.init.xavier_uniform_(self.decoder_L4.weight)\n",
        "        self.decoder_R4 = nn.LeakyReLU(negative_slope=0.4, inplace=True)\n",
        "\n",
        "        # specify layer 5 - in 32, out 64\n",
        "        self.decoder_L5 = nn.Linear(32, 64, bias=True)\n",
        "        nn.init.xavier_uniform_(self.decoder_L5.weight)\n",
        "        self.decoder_R5 = nn.LeakyReLU(negative_slope=0.4, inplace=True)\n",
        "\n",
        "        # specify layer 6 - in 64, out 128\n",
        "        self.decoder_L6 = nn.Linear(64, 128, bias=True)\n",
        "        nn.init.xavier_uniform_(self.decoder_L6.weight)\n",
        "        self.decoder_R6 = nn.LeakyReLU(negative_slope=0.4, inplace=True)\n",
        "        \n",
        "        # specify layer 7 - in 128, out 256\n",
        "        self.decoder_L7 = nn.Linear(128, 256, bias=True)\n",
        "        nn.init.xavier_uniform_(self.decoder_L7.weight)\n",
        "        self.decoder_R7 = nn.LeakyReLU(negative_slope=0.4, inplace=True)\n",
        "\n",
        "        # specify layer 8 - in 256, out 512\n",
        "        self.decoder_L8 = nn.Linear(256, 512, bias=True)\n",
        "        nn.init.xavier_uniform_(self.decoder_L8.weight)\n",
        "        self.decoder_R8 = nn.LeakyReLU(negative_slope=0.4, inplace=True)\n",
        "\n",
        "        # specify layer 9 - in 512, out 618\n",
        "        self.decoder_L9 = nn.Linear(in_features=512, out_features=ori_subset_transformed.shape[1], bias=True)\n",
        "        nn.init.xavier_uniform_(self.decoder_L9.weight)\n",
        "        self.decoder_R9 = nn.LeakyReLU(negative_slope=0.4, inplace=True)\n",
        "\n",
        "        # init dropout layer with probability p\n",
        "        self.dropout = nn.Dropout(p=0.0, inplace=True)\n",
        "\n",
        "    def forward(self, x):\n",
        "\n",
        "        # define forward pass through the network\n",
        "        x = self.decoder_R1(self.dropout(self.decoder_L1(x)))\n",
        "        x = self.decoder_R2(self.dropout(self.decoder_L2(x)))\n",
        "        x = self.decoder_R3(self.dropout(self.decoder_L3(x)))\n",
        "        x = self.decoder_R4(self.dropout(self.decoder_L4(x)))\n",
        "        x = self.decoder_R5(self.dropout(self.decoder_L5(x)))\n",
        "        x = self.decoder_R6(self.dropout(self.decoder_L6(x)))\n",
        "        x = self.decoder_R7(self.dropout(self.decoder_L7(x)))\n",
        "        x = self.decoder_R8(self.dropout(self.decoder_L8(x)))\n",
        "        x = self.decoder_R9(self.decoder_L9(x)) # don't apply dropout to the AE output\n",
        "        \n",
        "        return x"
      ],
      "execution_count": null,
      "outputs": []
    },
    {
      "cell_type": "code",
      "metadata": {
        "colab": {
          "base_uri": "https://localhost:8080/"
        },
        "id": "xj4Xy3R0-ia8",
        "outputId": "411fb7bf-5786-42b1-ec9d-6071018a2957"
      },
      "source": [
        "# init training network classes / architectures\n",
        "decoder_train = decoder()\n",
        "\n",
        "# push to cuda if cudnn is available\n",
        "if (torch.backends.cudnn.version() != None) and (USE_CUDA == True):\n",
        "    decoder_train = decoder().cuda()\n",
        "    \n",
        "# print the initialized architectures\n",
        "now = datetime.utcnow().strftime(\"%Y%m%d-%H:%M:%S\")\n",
        "print('[LOG {}] decoder architecture:\\n\\n{}\\n'.format(now, decoder_train))"
      ],
      "execution_count": null,
      "outputs": [
        {
          "output_type": "stream",
          "text": [
            "[LOG 20210501-01:31:18] decoder architecture:\n",
            "\n",
            "decoder(\n",
            "  (decoder_L1): Linear(in_features=3, out_features=4, bias=True)\n",
            "  (decoder_R1): LeakyReLU(negative_slope=0.4, inplace=True)\n",
            "  (decoder_L2): Linear(in_features=4, out_features=8, bias=True)\n",
            "  (decoder_R2): LeakyReLU(negative_slope=0.4, inplace=True)\n",
            "  (decoder_L3): Linear(in_features=8, out_features=16, bias=True)\n",
            "  (decoder_R3): LeakyReLU(negative_slope=0.4, inplace=True)\n",
            "  (decoder_L4): Linear(in_features=16, out_features=32, bias=True)\n",
            "  (decoder_R4): LeakyReLU(negative_slope=0.4, inplace=True)\n",
            "  (decoder_L5): Linear(in_features=32, out_features=64, bias=True)\n",
            "  (decoder_R5): LeakyReLU(negative_slope=0.4, inplace=True)\n",
            "  (decoder_L6): Linear(in_features=64, out_features=128, bias=True)\n",
            "  (decoder_R6): LeakyReLU(negative_slope=0.4, inplace=True)\n",
            "  (decoder_L7): Linear(in_features=128, out_features=256, bias=True)\n",
            "  (decoder_R7): LeakyReLU(negative_slope=0.4, inplace=True)\n",
            "  (decoder_L8): Linear(in_features=256, out_features=512, bias=True)\n",
            "  (decoder_R8): LeakyReLU(negative_slope=0.4, inplace=True)\n",
            "  (decoder_L9): Linear(in_features=512, out_features=618, bias=True)\n",
            "  (decoder_R9): LeakyReLU(negative_slope=0.4, inplace=True)\n",
            "  (dropout): Dropout(p=0.0, inplace=True)\n",
            ")\n",
            "\n"
          ],
          "name": "stdout"
        }
      ]
    },
    {
      "cell_type": "code",
      "metadata": {
        "id": "YnTqwhrtCKZ4"
      },
      "source": [
        "# define the optimization criterion / loss function\n",
        "loss_function = nn.BCEWithLogitsLoss(reduction='mean')"
      ],
      "execution_count": null,
      "outputs": []
    },
    {
      "cell_type": "code",
      "metadata": {
        "id": "IrvMdX2KC_Wo"
      },
      "source": [
        "# define learning rate and optimization strategy\n",
        "learning_rate = 1e-3\n",
        "encoder_optimizer = torch.optim.Adam(encoder_train.parameters(), lr=learning_rate)\n",
        "decoder_optimizer = torch.optim.Adam(decoder_train.parameters(), lr=learning_rate)"
      ],
      "execution_count": null,
      "outputs": []
    },
    {
      "cell_type": "code",
      "metadata": {
        "id": "rbKEYFo8DRF3"
      },
      "source": [
        "# specify training parameters\n",
        "num_epochs = 5\n",
        "mini_batch_size = 128"
      ],
      "execution_count": null,
      "outputs": []
    },
    {
      "cell_type": "code",
      "metadata": {
        "id": "di7YyAqFDXlZ"
      },
      "source": [
        "# convert pre-processed data to pytorch tensor\n",
        "torch_dataset = torch.from_numpy(ori_subset_transformed.values).float()\n",
        "\n",
        "# convert to pytorch tensor - none cuda enabled\n",
        "dataloader = DataLoader(torch_dataset, batch_size=mini_batch_size, shuffle=True, num_workers=0)\n",
        "# note: we set num_workers to zero to retrieve deterministic results\n",
        "\n",
        "# determine if CUDA is available at compute node\n",
        "if (torch.backends.cudnn.version() != None) and (USE_CUDA == True):\n",
        "    dataloader = DataLoader(torch_dataset.cuda(), batch_size=mini_batch_size, shuffle=True)"
      ],
      "execution_count": null,
      "outputs": []
    },
    {
      "cell_type": "code",
      "metadata": {
        "colab": {
          "base_uri": "https://localhost:8080/"
        },
        "id": "WvVsjbxeA6B7",
        "outputId": "9b79c38f-6ce6-448d-87e4-a595a17457fe"
      },
      "source": [
        "# init collection of epoch losses\n",
        "epoch_losses = []\n",
        "\n",
        "# convert encoded transactional data to torch Variable\n",
        "data = autograd.Variable(torch_dataset)\n",
        "\n",
        "# train autoencoder model\n",
        "for epoch in range(num_epochs):\n",
        "\n",
        "    # init collection of epoch losses\n",
        "    mini_batch_losses = []\n",
        "    \n",
        "    # init mini batch counter\n",
        "    mini_batch_count = 0\n",
        "    \n",
        "    # determine if CUDA is available at compute node\n",
        "    if(torch.backends.cudnn.version() != None) and (USE_CUDA == True):\n",
        "        \n",
        "        # set networks / models in GPU mode\n",
        "        encoder_train.cuda()\n",
        "        decoder_train.cuda()\n",
        "\n",
        "    # set networks in training mode (apply dropout when needed)\n",
        "    encoder_train.train()\n",
        "    decoder_train.train()\n",
        "\n",
        "    # start timer\n",
        "    start_time = datetime.now()\n",
        "        \n",
        "    # iterate over all mini-batches\n",
        "    for mini_batch_data in dataloader:\n",
        "\n",
        "        # increase mini batch counter\n",
        "        mini_batch_count += 1\n",
        "\n",
        "        # convert mini batch to torch variable\n",
        "        mini_batch_torch = autograd.Variable(mini_batch_data)\n",
        "\n",
        "        # =================== (1) forward pass ===================================\n",
        "\n",
        "        # run forward pass\n",
        "        z_representation = encoder_train(mini_batch_torch) # encode mini-batch data\n",
        "        mini_batch_reconstruction = decoder_train(z_representation) # decode mini-batch data\n",
        "        \n",
        "        # =================== (2) compute reconstruction loss ====================\n",
        "\n",
        "        # determine reconstruction loss\n",
        "        reconstruction_loss = loss_function(mini_batch_reconstruction, mini_batch_torch)\n",
        "        \n",
        "        # =================== (3) backward pass ==================================\n",
        "\n",
        "        # reset graph gradients\n",
        "        decoder_optimizer.zero_grad()\n",
        "        encoder_optimizer.zero_grad()\n",
        "\n",
        "        # run backward pass\n",
        "        reconstruction_loss.backward()\n",
        "        \n",
        "        # =================== (4) update model parameters ========================\n",
        "\n",
        "        # update network parameters\n",
        "        decoder_optimizer.step()\n",
        "        encoder_optimizer.step()\n",
        "\n",
        "        # =================== monitor training progress ==========================\n",
        "\n",
        "        # print training progress each 1'000 mini-batches\n",
        "        if mini_batch_count % 1000 == 0:\n",
        "            \n",
        "            # print the training mode: either on GPU or CPU\n",
        "            mode = 'GPU' if (torch.backends.cudnn.version() != None) and (USE_CUDA == False) else 'CPU'\n",
        "            \n",
        "            # print mini batch reconstuction results\n",
        "            now = datetime.utcnow().strftime(\"%Y%m%d-%H:%M:%S\")\n",
        "            end_time = datetime.now() - start_time\n",
        "            print('[LOG {}] training status, epoch: [{:04}/{:04}], batch: {:04}, loss: {}, mode: {}, time required: {}'.format(now, (epoch+1), num_epochs, mini_batch_count, np.round(reconstruction_loss.item(), 4), mode, end_time))\n",
        "\n",
        "            # reset timer\n",
        "            start_time = datetime.now()\n",
        "            \n",
        "        # collect mini-batch loss\n",
        "        mini_batch_losses.extend([np.round(reconstruction_loss.item(), 4)])\n",
        "\n",
        "    # =================== evaluate model performance =============================\n",
        "                                 \n",
        "    # collect mean training epoch loss\n",
        "    epoch_losses.extend([np.mean(mini_batch_losses)])\n",
        "    \n",
        "    # print training epoch results\n",
        "    now = datetime.utcnow().strftime(\"%Y%m%d-%H:%M:%S\")\n",
        "    print('[LOG {}] training status, epoch: [{:04}/{:04}], loss: {:.10f}'.format(now, (epoch+1), num_epochs, np.mean(mini_batch_losses)))\n",
        "\n",
        "    # =================== save model snapshot to disk ============================\n",
        "    \n",
        "    # save trained encoder model file to disk\n",
        "    encoder_model_name = \"ep_{}_encoder_model.pth\".format((epoch+1))\n",
        "    torch.save(encoder_train.state_dict(), encoder_model_name)\n",
        "\n",
        "    # save trained decoder model file to disk\n",
        "    decoder_model_name = \"ep_{}_decoder_model.pth\".format((epoch+1))\n",
        "    torch.save(decoder_train.state_dict(), decoder_model_name)"
      ],
      "execution_count": null,
      "outputs": [
        {
          "output_type": "stream",
          "text": [
            "[LOG 20210501-01:31:49] training status, epoch: [0001/0005], batch: 1000, loss: 0.0178, mode: GPU, time required: 0:00:29.042858\n",
            "[LOG 20210501-01:32:21] training status, epoch: [0001/0005], batch: 2000, loss: 0.0121, mode: GPU, time required: 0:00:32.220857\n",
            "[LOG 20210501-01:32:56] training status, epoch: [0001/0005], batch: 3000, loss: 0.0086, mode: GPU, time required: 0:00:35.198645\n",
            "[LOG 20210501-01:33:34] training status, epoch: [0001/0005], batch: 4000, loss: 0.0068, mode: GPU, time required: 0:00:37.684586\n",
            "[LOG 20210501-01:33:40] training status, epoch: [0001/0005], loss: 0.0159062665\n",
            "[LOG 20210501-01:34:18] training status, epoch: [0002/0005], batch: 1000, loss: 0.0069, mode: GPU, time required: 0:00:37.729061\n",
            "[LOG 20210501-01:34:56] training status, epoch: [0002/0005], batch: 2000, loss: 0.0065, mode: GPU, time required: 0:00:38.119858\n",
            "[LOG 20210501-01:35:34] training status, epoch: [0002/0005], batch: 3000, loss: 0.0057, mode: GPU, time required: 0:00:38.104347\n",
            "[LOG 20210501-01:36:12] training status, epoch: [0002/0005], batch: 4000, loss: 0.0063, mode: GPU, time required: 0:00:38.526169\n",
            "[LOG 20210501-01:36:19] training status, epoch: [0002/0005], loss: 0.0070181273\n",
            "[LOG 20210501-01:36:59] training status, epoch: [0003/0005], batch: 1000, loss: 0.0063, mode: GPU, time required: 0:00:40.171998\n",
            "[LOG 20210501-01:37:39] training status, epoch: [0003/0005], batch: 2000, loss: 0.0055, mode: GPU, time required: 0:00:40.049119\n",
            "[LOG 20210501-01:38:19] training status, epoch: [0003/0005], batch: 3000, loss: 0.0056, mode: GPU, time required: 0:00:39.567470\n",
            "[LOG 20210501-01:38:58] training status, epoch: [0003/0005], batch: 4000, loss: 0.0057, mode: GPU, time required: 0:00:39.489517\n",
            "[LOG 20210501-01:39:05] training status, epoch: [0003/0005], loss: 0.0062569748\n",
            "[LOG 20210501-01:39:44] training status, epoch: [0004/0005], batch: 1000, loss: 0.0058, mode: GPU, time required: 0:00:39.536158\n",
            "[LOG 20210501-01:40:22] training status, epoch: [0004/0005], batch: 2000, loss: 0.0055, mode: GPU, time required: 0:00:37.406327\n",
            "[LOG 20210501-01:41:00] training status, epoch: [0004/0005], batch: 3000, loss: 0.0055, mode: GPU, time required: 0:00:38.493413\n",
            "[LOG 20210501-01:41:38] training status, epoch: [0004/0005], batch: 4000, loss: 0.0062, mode: GPU, time required: 0:00:37.275758\n",
            "[LOG 20210501-01:41:44] training status, epoch: [0004/0005], loss: 0.0059156303\n",
            "[LOG 20210501-01:42:21] training status, epoch: [0005/0005], batch: 1000, loss: 0.0052, mode: GPU, time required: 0:00:36.854121\n",
            "[LOG 20210501-01:42:58] training status, epoch: [0005/0005], batch: 2000, loss: 0.0054, mode: GPU, time required: 0:00:37.063399\n",
            "[LOG 20210501-01:43:35] training status, epoch: [0005/0005], batch: 3000, loss: 0.0054, mode: GPU, time required: 0:00:37.050246\n",
            "[LOG 20210501-01:44:12] training status, epoch: [0005/0005], batch: 4000, loss: 0.0059, mode: GPU, time required: 0:00:37.024028\n",
            "[LOG 20210501-01:44:18] training status, epoch: [0005/0005], loss: 0.0056543577\n"
          ],
          "name": "stdout"
        }
      ]
    },
    {
      "cell_type": "code",
      "metadata": {
        "colab": {
          "base_uri": "https://localhost:8080/",
          "height": 312
        },
        "id": "RtT1Cc4q9YLA",
        "outputId": "ee979e47-36b9-4da5-8b4e-0e54f71048c1"
      },
      "source": [
        "# plot the training progress\n",
        "plt.plot(range(0, len(epoch_losses)), epoch_losses)\n",
        "plt.xlabel('[training epoch]')\n",
        "plt.xlim([0, len(epoch_losses)])\n",
        "plt.ylabel('[reconstruction-error]')\n",
        "#plt.ylim([0.0, 1.0])\n",
        "plt.title('AENN training performance')"
      ],
      "execution_count": null,
      "outputs": [
        {
          "output_type": "execute_result",
          "data": {
            "text/plain": [
              "Text(0.5, 1.0, 'AENN training performance')"
            ]
          },
          "metadata": {
            "tags": []
          },
          "execution_count": 50
        },
        {
          "output_type": "display_data",
          "data": {
            "image/png": "[encoded data removed]",
            "text/plain": [
              "<Figure size 432x288 with 1 Axes>"
            ]
          },
          "metadata": {
            "tags": [],
            "needs_background": "light"
          }
        }
      ]
    },
    {
      "cell_type": "markdown",
      "metadata": {
        "id": "Iyo87zHxAj8d"
      },
      "source": [
        "##<font color='orange'>dropout 0.8の場合</font>#\n",
        "**2. Set the `dropout` probability to `0.8` (80%) and re-start the training procedure. What impact do you observe in terms of training performance / reconstruction loss? Please, note that after altering the `dropout` probability you need to execute all successive cells starting from section 4.2. [5-10 min]**  \n",
        "<font color='blue'>ドロップアウト」の確率を「0.8」（80％）に設定して、トレーニングを再開します。トレーニングのパフォーマンスや再構築の損失について、どのような影響があるでしょうか？なお、「ドロップアウト」の確率を変更した後は、セクション4.2から始まる連続したセルをすべて実行する必要があります。[5-10分].</font>"
      ]
    },
    {
      "cell_type": "code",
      "metadata": {
        "id": "MURJHBxFVitp"
      },
      "source": [
        "USE_CUDA = False"
      ],
      "execution_count": null,
      "outputs": []
    },
    {
      "cell_type": "code",
      "metadata": {
        "id": "X8KuBLu1T70n"
      },
      "source": [
        "# implementation of the encoder network\n",
        "class encoder(nn.Module):\n",
        "\n",
        "    def __init__(self):\n",
        "\n",
        "        super(encoder, self).__init__()\n",
        "\n",
        "        # specify layer 1 - in 618, out 512\n",
        "        self.encoder_L1 = nn.Linear(in_features=ori_subset_transformed.shape[1], out_features=512, bias=True) # add linearity \n",
        "        nn.init.xavier_uniform_(self.encoder_L1.weight) # init weights according to [9]\n",
        "        self.encoder_R1 = nn.LeakyReLU(negative_slope=0.4, inplace=True) # add non-linearity according to [10]\n",
        "\n",
        "        # specify layer 2 - in 512, out 256\n",
        "        self.encoder_L2 = nn.Linear(512, 256, bias=True)\n",
        "        nn.init.xavier_uniform_(self.encoder_L2.weight)\n",
        "        self.encoder_R2 = nn.LeakyReLU(negative_slope=0.4, inplace=True)\n",
        "\n",
        "        # specify layer 3 - in 256, out 128\n",
        "        self.encoder_L3 = nn.Linear(256, 128, bias=True)\n",
        "        nn.init.xavier_uniform_(self.encoder_L3.weight)\n",
        "        self.encoder_R3 = nn.LeakyReLU(negative_slope=0.4, inplace=True)\n",
        "\n",
        "        # specify layer 4 - in 128, out 64\n",
        "        self.encoder_L4 = nn.Linear(128, 64, bias=True)\n",
        "        nn.init.xavier_uniform_(self.encoder_L4.weight)\n",
        "        self.encoder_R4 = nn.LeakyReLU(negative_slope=0.4, inplace=True)\n",
        "\n",
        "        # specify layer 5 - in 64, out 32\n",
        "        self.encoder_L5 = nn.Linear(64, 32, bias=True)\n",
        "        nn.init.xavier_uniform_(self.encoder_L5.weight)\n",
        "        self.encoder_R5 = nn.LeakyReLU(negative_slope=0.4, inplace=True)\n",
        "\n",
        "        # specify layer 6 - in 32, out 16\n",
        "        self.encoder_L6 = nn.Linear(32, 16, bias=True)\n",
        "        nn.init.xavier_uniform_(self.encoder_L6.weight)\n",
        "        self.encoder_R6 = nn.LeakyReLU(negative_slope=0.4, inplace=True)\n",
        "\n",
        "        # specify layer 7 - in 16, out 8\n",
        "        self.encoder_L7 = nn.Linear(16, 8, bias=True)\n",
        "        nn.init.xavier_uniform_(self.encoder_L7.weight)\n",
        "        self.encoder_R7 = nn.LeakyReLU(negative_slope=0.4, inplace=True)\n",
        "\n",
        "        # specify layer 8 - in 8, out 4\n",
        "        self.encoder_L8 = nn.Linear(8, 4, bias=True)\n",
        "        nn.init.xavier_uniform_(self.encoder_L8.weight)\n",
        "        self.encoder_R8 = nn.LeakyReLU(negative_slope=0.4, inplace=True)\n",
        "\n",
        "        # specify layer 9 - in 4, out 3\n",
        "        self.encoder_L9 = nn.Linear(4, 3, bias=True)\n",
        "        nn.init.xavier_uniform_(self.encoder_L9.weight)\n",
        "        self.encoder_R9 = nn.LeakyReLU(negative_slope=0.4, inplace=True)\n",
        "\n",
        "        # init dropout layer with probability p\n",
        "        self.dropout = nn.Dropout(p=0.8, inplace=True)\n",
        "        \n",
        "    def forward(self, x):\n",
        "\n",
        "        # define forward pass through the network\n",
        "        x = self.encoder_R1(self.dropout(self.encoder_L1(x)))\n",
        "        x = self.encoder_R2(self.dropout(self.encoder_L2(x)))\n",
        "        x = self.encoder_R3(self.dropout(self.encoder_L3(x)))\n",
        "        x = self.encoder_R4(self.dropout(self.encoder_L4(x)))\n",
        "        x = self.encoder_R5(self.dropout(self.encoder_L5(x)))\n",
        "        x = self.encoder_R6(self.dropout(self.encoder_L6(x)))\n",
        "        x = self.encoder_R7(self.dropout(self.encoder_L7(x)))\n",
        "        x = self.encoder_R8(self.dropout(self.encoder_L8(x)))\n",
        "        x = self.encoder_R9(self.encoder_L9(x)) # don't apply dropout to the AE bottleneck\n",
        "\n",
        "        return x"
      ],
      "execution_count": null,
      "outputs": []
    },
    {
      "cell_type": "code",
      "metadata": {
        "id": "pFmrwFtGT70w"
      },
      "source": [
        "# init training network classes / architectures\n",
        "encoder_train = encoder()\n",
        "\n",
        "# push to cuda if cudnn is available\n",
        "if (torch.backends.cudnn.version() != None and USE_CUDA == True):\n",
        "    encoder_train = encoder().cuda()"
      ],
      "execution_count": null,
      "outputs": []
    },
    {
      "cell_type": "code",
      "metadata": {
        "colab": {
          "base_uri": "https://localhost:8080/"
        },
        "id": "hFB2OjgcT70x",
        "outputId": "6666d164-aaf1-4dcc-dcbe-4dcfebc4d5e9"
      },
      "source": [
        "# print the initialized architectures\n",
        "now = datetime.utcnow().strftime(\"%Y%m%d-%H:%M:%S\")\n",
        "print('[LOG {}] encoder architecture:\\n\\n{}\\n'.format(now, encoder_train))"
      ],
      "execution_count": null,
      "outputs": [
        {
          "output_type": "stream",
          "text": [
            "[LOG 20210501-02:22:56] encoder architecture:\n",
            "\n",
            "encoder(\n",
            "  (encoder_L1): Linear(in_features=384, out_features=512, bias=True)\n",
            "  (encoder_R1): LeakyReLU(negative_slope=0.4, inplace=True)\n",
            "  (encoder_L2): Linear(in_features=512, out_features=256, bias=True)\n",
            "  (encoder_R2): LeakyReLU(negative_slope=0.4, inplace=True)\n",
            "  (encoder_L3): Linear(in_features=256, out_features=128, bias=True)\n",
            "  (encoder_R3): LeakyReLU(negative_slope=0.4, inplace=True)\n",
            "  (encoder_L4): Linear(in_features=128, out_features=64, bias=True)\n",
            "  (encoder_R4): LeakyReLU(negative_slope=0.4, inplace=True)\n",
            "  (encoder_L5): Linear(in_features=64, out_features=32, bias=True)\n",
            "  (encoder_R5): LeakyReLU(negative_slope=0.4, inplace=True)\n",
            "  (encoder_L6): Linear(in_features=32, out_features=16, bias=True)\n",
            "  (encoder_R6): LeakyReLU(negative_slope=0.4, inplace=True)\n",
            "  (encoder_L7): Linear(in_features=16, out_features=8, bias=True)\n",
            "  (encoder_R7): LeakyReLU(negative_slope=0.4, inplace=True)\n",
            "  (encoder_L8): Linear(in_features=8, out_features=4, bias=True)\n",
            "  (encoder_R8): LeakyReLU(negative_slope=0.4, inplace=True)\n",
            "  (encoder_L9): Linear(in_features=4, out_features=3, bias=True)\n",
            "  (encoder_R9): LeakyReLU(negative_slope=0.4, inplace=True)\n",
            "  (dropout): Dropout(p=0.8, inplace=True)\n",
            ")\n",
            "\n"
          ],
          "name": "stdout"
        }
      ]
    },
    {
      "cell_type": "code",
      "metadata": {
        "id": "sR3jT60VT70x"
      },
      "source": [
        "# implementation of the decoder network\n",
        "class decoder(nn.Module):\n",
        "\n",
        "    def __init__(self):\n",
        "\n",
        "        super(decoder, self).__init__()\n",
        "\n",
        "        # specify layer 1 - in 3, out 4\n",
        "        self.decoder_L1 = nn.Linear(in_features=3, out_features=4, bias=True) # add linearity \n",
        "        nn.init.xavier_uniform_(self.decoder_L1.weight)  # init weights according to [9]\n",
        "        self.decoder_R1 = nn.LeakyReLU(negative_slope=0.4, inplace=True) # add non-linearity according to [10]\n",
        "\n",
        "        # specify layer 2 - in 4, out 8\n",
        "        self.decoder_L2 = nn.Linear(4, 8, bias=True)\n",
        "        nn.init.xavier_uniform_(self.decoder_L2.weight)\n",
        "        self.decoder_R2 = nn.LeakyReLU(negative_slope=0.4, inplace=True)\n",
        "\n",
        "        # specify layer 3 - in 8, out 16\n",
        "        self.decoder_L3 = nn.Linear(8, 16, bias=True)\n",
        "        nn.init.xavier_uniform_(self.decoder_L3.weight)\n",
        "        self.decoder_R3 = nn.LeakyReLU(negative_slope=0.4, inplace=True)\n",
        "\n",
        "        # specify layer 4 - in 16, out 32\n",
        "        self.decoder_L4 = nn.Linear(16, 32, bias=True)\n",
        "        nn.init.xavier_uniform_(self.decoder_L4.weight)\n",
        "        self.decoder_R4 = nn.LeakyReLU(negative_slope=0.4, inplace=True)\n",
        "\n",
        "        # specify layer 5 - in 32, out 64\n",
        "        self.decoder_L5 = nn.Linear(32, 64, bias=True)\n",
        "        nn.init.xavier_uniform_(self.decoder_L5.weight)\n",
        "        self.decoder_R5 = nn.LeakyReLU(negative_slope=0.4, inplace=True)\n",
        "\n",
        "        # specify layer 6 - in 64, out 128\n",
        "        self.decoder_L6 = nn.Linear(64, 128, bias=True)\n",
        "        nn.init.xavier_uniform_(self.decoder_L6.weight)\n",
        "        self.decoder_R6 = nn.LeakyReLU(negative_slope=0.4, inplace=True)\n",
        "        \n",
        "        # specify layer 7 - in 128, out 256\n",
        "        self.decoder_L7 = nn.Linear(128, 256, bias=True)\n",
        "        nn.init.xavier_uniform_(self.decoder_L7.weight)\n",
        "        self.decoder_R7 = nn.LeakyReLU(negative_slope=0.4, inplace=True)\n",
        "\n",
        "        # specify layer 8 - in 256, out 512\n",
        "        self.decoder_L8 = nn.Linear(256, 512, bias=True)\n",
        "        nn.init.xavier_uniform_(self.decoder_L8.weight)\n",
        "        self.decoder_R8 = nn.LeakyReLU(negative_slope=0.4, inplace=True)\n",
        "\n",
        "        # specify layer 9 - in 512, out 618\n",
        "        self.decoder_L9 = nn.Linear(in_features=512, out_features=ori_subset_transformed.shape[1], bias=True)\n",
        "        nn.init.xavier_uniform_(self.decoder_L9.weight)\n",
        "        self.decoder_R9 = nn.LeakyReLU(negative_slope=0.4, inplace=True)\n",
        "\n",
        "        # init dropout layer with probability p\n",
        "        self.dropout = nn.Dropout(p=0.8, inplace=True)\n",
        "\n",
        "    def forward(self, x):\n",
        "\n",
        "        # define forward pass through the network\n",
        "        x = self.decoder_R1(self.dropout(self.decoder_L1(x)))\n",
        "        x = self.decoder_R2(self.dropout(self.decoder_L2(x)))\n",
        "        x = self.decoder_R3(self.dropout(self.decoder_L3(x)))\n",
        "        x = self.decoder_R4(self.dropout(self.decoder_L4(x)))\n",
        "        x = self.decoder_R5(self.dropout(self.decoder_L5(x)))\n",
        "        x = self.decoder_R6(self.dropout(self.decoder_L6(x)))\n",
        "        x = self.decoder_R7(self.dropout(self.decoder_L7(x)))\n",
        "        x = self.decoder_R8(self.dropout(self.decoder_L8(x)))\n",
        "        x = self.decoder_R9(self.decoder_L9(x)) # don't apply dropout to the AE output\n",
        "        \n",
        "        return x"
      ],
      "execution_count": null,
      "outputs": []
    },
    {
      "cell_type": "code",
      "metadata": {
        "colab": {
          "base_uri": "https://localhost:8080/"
        },
        "id": "xWmxuZPKT70y",
        "outputId": "1cd2ae57-f921-4f96-d331-177e673d27c2"
      },
      "source": [
        "# init training network classes / architectures\n",
        "decoder_train = decoder()\n",
        "\n",
        "# push to cuda if cudnn is available\n",
        "if (torch.backends.cudnn.version() != None) and (USE_CUDA == True):\n",
        "    decoder_train = decoder().cuda()\n",
        "    \n",
        "# print the initialized architectures\n",
        "now = datetime.utcnow().strftime(\"%Y%m%d-%H:%M:%S\")\n",
        "print('[LOG {}] decoder architecture:\\n\\n{}\\n'.format(now, decoder_train))"
      ],
      "execution_count": null,
      "outputs": [
        {
          "output_type": "stream",
          "text": [
            "[LOG 20210501-02:22:56] decoder architecture:\n",
            "\n",
            "decoder(\n",
            "  (decoder_L1): Linear(in_features=3, out_features=4, bias=True)\n",
            "  (decoder_R1): LeakyReLU(negative_slope=0.4, inplace=True)\n",
            "  (decoder_L2): Linear(in_features=4, out_features=8, bias=True)\n",
            "  (decoder_R2): LeakyReLU(negative_slope=0.4, inplace=True)\n",
            "  (decoder_L3): Linear(in_features=8, out_features=16, bias=True)\n",
            "  (decoder_R3): LeakyReLU(negative_slope=0.4, inplace=True)\n",
            "  (decoder_L4): Linear(in_features=16, out_features=32, bias=True)\n",
            "  (decoder_R4): LeakyReLU(negative_slope=0.4, inplace=True)\n",
            "  (decoder_L5): Linear(in_features=32, out_features=64, bias=True)\n",
            "  (decoder_R5): LeakyReLU(negative_slope=0.4, inplace=True)\n",
            "  (decoder_L6): Linear(in_features=64, out_features=128, bias=True)\n",
            "  (decoder_R6): LeakyReLU(negative_slope=0.4, inplace=True)\n",
            "  (decoder_L7): Linear(in_features=128, out_features=256, bias=True)\n",
            "  (decoder_R7): LeakyReLU(negative_slope=0.4, inplace=True)\n",
            "  (decoder_L8): Linear(in_features=256, out_features=512, bias=True)\n",
            "  (decoder_R8): LeakyReLU(negative_slope=0.4, inplace=True)\n",
            "  (decoder_L9): Linear(in_features=512, out_features=384, bias=True)\n",
            "  (decoder_R9): LeakyReLU(negative_slope=0.4, inplace=True)\n",
            "  (dropout): Dropout(p=0.8, inplace=True)\n",
            ")\n",
            "\n"
          ],
          "name": "stdout"
        }
      ]
    },
    {
      "cell_type": "code",
      "metadata": {
        "id": "g91TYJhKT70y"
      },
      "source": [
        "# define the optimization criterion / loss function\n",
        "loss_function = nn.BCEWithLogitsLoss(reduction='mean')"
      ],
      "execution_count": null,
      "outputs": []
    },
    {
      "cell_type": "code",
      "metadata": {
        "id": "nQg3Sk-BT70y"
      },
      "source": [
        "# define learning rate and optimization strategy\n",
        "learning_rate = 1e-3\n",
        "encoder_optimizer = torch.optim.Adam(encoder_train.parameters(), lr=learning_rate)\n",
        "decoder_optimizer = torch.optim.Adam(decoder_train.parameters(), lr=learning_rate)"
      ],
      "execution_count": null,
      "outputs": []
    },
    {
      "cell_type": "code",
      "metadata": {
        "id": "RNkgdjFcT70y"
      },
      "source": [
        "# specify training parameters\n",
        "num_epochs = 5\n",
        "mini_batch_size = 128"
      ],
      "execution_count": null,
      "outputs": []
    },
    {
      "cell_type": "code",
      "metadata": {
        "id": "-fLChC4AT70z"
      },
      "source": [
        "# convert pre-processed data to pytorch tensor\n",
        "torch_dataset = torch.from_numpy(ori_subset_transformed.values).float()\n",
        "\n",
        "# convert to pytorch tensor - none cuda enabled\n",
        "dataloader = DataLoader(torch_dataset, batch_size=mini_batch_size, shuffle=True, num_workers=0)\n",
        "# note: we set num_workers to zero to retrieve deterministic results\n",
        "\n",
        "# determine if CUDA is available at compute node\n",
        "if (torch.backends.cudnn.version() != None) and (USE_CUDA == True):\n",
        "    dataloader = DataLoader(torch_dataset.cuda(), batch_size=mini_batch_size, shuffle=True)"
      ],
      "execution_count": null,
      "outputs": []
    },
    {
      "cell_type": "code",
      "metadata": {
        "colab": {
          "base_uri": "https://localhost:8080/"
        },
        "id": "vn3aJPYHT70z",
        "outputId": "8bbb096e-5f40-426e-986a-5c4dd39bbf6f"
      },
      "source": [
        "# init collection of epoch losses\n",
        "epoch_losses = []\n",
        "\n",
        "# convert encoded transactional data to torch Variable\n",
        "data = autograd.Variable(torch_dataset)\n",
        "\n",
        "# train autoencoder model\n",
        "for epoch in range(num_epochs):\n",
        "\n",
        "    # init collection of epoch losses\n",
        "    mini_batch_losses = []\n",
        "    \n",
        "    # init mini batch counter\n",
        "    mini_batch_count = 0\n",
        "    \n",
        "    # determine if CUDA is available at compute node\n",
        "    if(torch.backends.cudnn.version() != None) and (USE_CUDA == True):\n",
        "        \n",
        "        # set networks / models in GPU mode\n",
        "        encoder_train.cuda()\n",
        "        decoder_train.cuda()\n",
        "\n",
        "    # set networks in training mode (apply dropout when needed)\n",
        "    encoder_train.train()\n",
        "    decoder_train.train()\n",
        "\n",
        "    # start timer\n",
        "    start_time = datetime.now()\n",
        "        \n",
        "    # iterate over all mini-batches\n",
        "    for mini_batch_data in dataloader:\n",
        "\n",
        "        # increase mini batch counter\n",
        "        mini_batch_count += 1\n",
        "\n",
        "        # convert mini batch to torch variable\n",
        "        mini_batch_torch = autograd.Variable(mini_batch_data)\n",
        "\n",
        "        # =================== (1) forward pass ===================================\n",
        "\n",
        "        # run forward pass\n",
        "        z_representation = encoder_train(mini_batch_torch) # encode mini-batch data\n",
        "        mini_batch_reconstruction = decoder_train(z_representation) # decode mini-batch data\n",
        "        \n",
        "        # =================== (2) compute reconstruction loss ====================\n",
        "\n",
        "        # determine reconstruction loss\n",
        "        reconstruction_loss = loss_function(mini_batch_reconstruction, mini_batch_torch)\n",
        "        \n",
        "        # =================== (3) backward pass ==================================\n",
        "\n",
        "        # reset graph gradients\n",
        "        decoder_optimizer.zero_grad()\n",
        "        encoder_optimizer.zero_grad()\n",
        "\n",
        "        # run backward pass\n",
        "        reconstruction_loss.backward()\n",
        "        \n",
        "        # =================== (4) update model parameters ========================\n",
        "\n",
        "        # update network parameters\n",
        "        decoder_optimizer.step()\n",
        "        encoder_optimizer.step()\n",
        "\n",
        "        # =================== monitor training progress ==========================\n",
        "\n",
        "        # print training progress each 1'000 mini-batches\n",
        "        if mini_batch_count % 1000 == 0:\n",
        "            \n",
        "            # print the training mode: either on GPU or CPU\n",
        "            mode = 'GPU' if (torch.backends.cudnn.version() != None) and (USE_CUDA == False) else 'CPU'\n",
        "            \n",
        "            # print mini batch reconstuction results\n",
        "            now = datetime.utcnow().strftime(\"%Y%m%d-%H:%M:%S\")\n",
        "            end_time = datetime.now() - start_time\n",
        "            print('[LOG {}] training status, epoch: [{:04}/{:04}], batch: {:04}, loss: {}, mode: {}, time required: {}'.format(now, (epoch+1), num_epochs, mini_batch_count, np.round(reconstruction_loss.item(), 4), mode, end_time))\n",
        "\n",
        "            # reset timer\n",
        "            start_time = datetime.now()\n",
        "            \n",
        "        # collect mini-batch loss\n",
        "        mini_batch_losses.extend([np.round(reconstruction_loss.item(), 4)])\n",
        "\n",
        "    # =================== evaluate model performance =============================\n",
        "                                 \n",
        "    # collect mean training epoch loss\n",
        "    epoch_losses.extend([np.mean(mini_batch_losses)])\n",
        "    \n",
        "    # print training epoch results\n",
        "    now = datetime.utcnow().strftime(\"%Y%m%d-%H:%M:%S\")\n",
        "    print('[LOG {}] training status, epoch: [{:04}/{:04}], loss: {:.10f}'.format(now, (epoch+1), num_epochs, np.mean(mini_batch_losses)))\n",
        "\n",
        "    # =================== save model snapshot to disk ============================\n",
        "    \n",
        "    # save trained encoder model file to disk\n",
        "    encoder_model_name = \"ep_{}_encoder_model.pth\".format((epoch+1))\n",
        "    torch.save(encoder_train.state_dict(), encoder_model_name)\n",
        "\n",
        "    # save trained decoder model file to disk\n",
        "    decoder_model_name = \"ep_{}_decoder_model.pth\".format((epoch+1))\n",
        "    torch.save(decoder_train.state_dict(), decoder_model_name)"
      ],
      "execution_count": null,
      "outputs": [
        {
          "output_type": "stream",
          "text": [
            "[LOG 20210501-02:23:19] training status, epoch: [0001/0005], batch: 1000, loss: 0.1137, mode: GPU, time required: 0:00:22.944405\n",
            "[LOG 20210501-02:23:42] training status, epoch: [0001/0005], batch: 2000, loss: 0.0387, mode: GPU, time required: 0:00:22.367273\n",
            "[LOG 20210501-02:24:04] training status, epoch: [0001/0005], batch: 3000, loss: 0.0353, mode: GPU, time required: 0:00:22.236203\n",
            "[LOG 20210501-02:24:26] training status, epoch: [0001/0005], batch: 4000, loss: 0.0347, mode: GPU, time required: 0:00:21.853056\n",
            "[LOG 20210501-02:24:30] training status, epoch: [0001/0005], loss: 0.1682312845\n",
            "[LOG 20210501-02:24:52] training status, epoch: [0002/0005], batch: 1000, loss: 0.0327, mode: GPU, time required: 0:00:22.239413\n",
            "[LOG 20210501-02:25:14] training status, epoch: [0002/0005], batch: 2000, loss: 0.033, mode: GPU, time required: 0:00:22.193632\n",
            "[LOG 20210501-02:25:36] training status, epoch: [0002/0005], batch: 3000, loss: 0.0336, mode: GPU, time required: 0:00:22.224979\n",
            "[LOG 20210501-02:25:59] training status, epoch: [0002/0005], batch: 4000, loss: 0.0307, mode: GPU, time required: 0:00:22.281658\n",
            "[LOG 20210501-02:26:02] training status, epoch: [0002/0005], loss: 0.0330874670\n",
            "[LOG 20210501-02:26:25] training status, epoch: [0003/0005], batch: 1000, loss: 0.0324, mode: GPU, time required: 0:00:22.587113\n",
            "[LOG 20210501-02:26:48] training status, epoch: [0003/0005], batch: 2000, loss: 0.0319, mode: GPU, time required: 0:00:22.705690\n",
            "[LOG 20210501-02:27:10] training status, epoch: [0003/0005], batch: 3000, loss: 0.0313, mode: GPU, time required: 0:00:22.941987\n",
            "[LOG 20210501-02:27:34] training status, epoch: [0003/0005], batch: 4000, loss: 0.0309, mode: GPU, time required: 0:00:23.974362\n",
            "[LOG 20210501-02:27:39] training status, epoch: [0003/0005], loss: 0.0313706363\n",
            "[LOG 20210501-02:28:04] training status, epoch: [0004/0005], batch: 1000, loss: 0.0312, mode: GPU, time required: 0:00:25.098626\n",
            "[LOG 20210501-02:28:28] training status, epoch: [0004/0005], batch: 2000, loss: 0.0305, mode: GPU, time required: 0:00:24.807533\n",
            "[LOG 20210501-02:28:53] training status, epoch: [0004/0005], batch: 3000, loss: 0.0304, mode: GPU, time required: 0:00:24.420197\n",
            "[LOG 20210501-02:29:17] training status, epoch: [0004/0005], batch: 4000, loss: 0.031, mode: GPU, time required: 0:00:24.255334\n",
            "[LOG 20210501-02:29:21] training status, epoch: [0004/0005], loss: 0.0311048259\n",
            "[LOG 20210501-02:29:45] training status, epoch: [0005/0005], batch: 1000, loss: 0.0302, mode: GPU, time required: 0:00:23.716120\n",
            "[LOG 20210501-02:30:09] training status, epoch: [0005/0005], batch: 2000, loss: 0.0322, mode: GPU, time required: 0:00:23.780401\n",
            "[LOG 20210501-02:30:32] training status, epoch: [0005/0005], batch: 3000, loss: 0.0309, mode: GPU, time required: 0:00:23.624178\n",
            "[LOG 20210501-02:30:56] training status, epoch: [0005/0005], batch: 4000, loss: 0.03, mode: GPU, time required: 0:00:23.727279\n",
            "[LOG 20210501-02:31:00] training status, epoch: [0005/0005], loss: 0.0310350060\n"
          ],
          "name": "stdout"
        }
      ]
    },
    {
      "cell_type": "code",
      "metadata": {
        "colab": {
          "base_uri": "https://localhost:8080/",
          "height": 312
        },
        "id": "f9guNZVST70z",
        "outputId": "cd94f8cf-9262-48bd-9925-32dec7b82328"
      },
      "source": [
        "# plot the training progress\n",
        "plt.plot(range(0, len(epoch_losses)), epoch_losses)\n",
        "plt.xlabel('[training epoch]')\n",
        "plt.xlim([0, len(epoch_losses)])\n",
        "plt.ylabel('[reconstruction-error]')\n",
        "#plt.ylim([0.0, 1.0])\n",
        "plt.title('AENN training performance')"
      ],
      "execution_count": null,
      "outputs": [
        {
          "output_type": "execute_result",
          "data": {
            "text/plain": [
              "Text(0.5, 1.0, 'AENN training performance')"
            ]
          },
          "metadata": {
            "tags": []
          },
          "execution_count": 78
        },
        {
          "output_type": "display_data",
          "data": {
            "image/png": "[encoded data removed]",
            "text/plain": [
              "<Figure size 432x288 with 1 Axes>"
            ]
          },
          "metadata": {
            "tags": [],
            "needs_background": "light"
          }
        }
      ]
    },
    {
      "cell_type": "markdown",
      "metadata": {
        "id": "fEEffkU0Zlqe"
      },
      "source": [
        "## 6. Evaluating the Autoencoder Neural Network (AENN) Model"
      ]
    },
    {
      "cell_type": "markdown",
      "metadata": {
        "id": "9XT5oQ-3Zlqe"
      },
      "source": [
        "Now that we know how to train our autoencoder model, we will explore how we can use it to detect anomalies within the entire population of journal entries. Initially, we will start by loading a pre-trained model of 10 epochs and assess its reconstruction capability on the entire dataset.\n",
        "\n",
        "オートエンコーダーモデルの学習方法がわかったところで、このモデルを使って、ジャーナルエントリの母集団全体から異常を検出する方法を探ってみましょう。まず、事前に学習した10エポックのモデルをロードし、データセット全体での再構築能力を評価します。\n",
        "\n",
        "The pre-trained model is stored in the same directory as the lab notebook and can be loaded by executing the cell below: \n",
        "\n",
        "事前に学習されたモデルは、ラボノートブックと同じディレクトリに保存されており、以下のセルを実行することで読み込むことができます。"
      ]
    },
    {
      "cell_type": "code",
      "metadata": {
        "id": "w3Zds7hVZlqe",
        "colab": {
          "base_uri": "https://localhost:8080/"
        },
        "outputId": "70f89a75-78f4-4dc2-d9da-8783f3a47501"
      },
      "source": [
        "# restore pretrained model checkpoint\n",
        "encoder_model_name = 'https://raw.githubusercontent.com/GitiHubi/deepAI/master/models/ep_10_encoder_model.pth'\n",
        "decoder_model_name = 'https://raw.githubusercontent.com/GitiHubi/deepAI/master/models/ep_10_decoder_model.pth'\n",
        "\n",
        "# Read stored model from the remote location\n",
        "encoder_bytes = urllib.request.urlopen(encoder_model_name)\n",
        "decoder_bytes = urllib.request.urlopen(decoder_model_name)\n",
        "\n",
        "# Load tensor from io.BytesIO object\n",
        "encoder_buffer = io.BytesIO(encoder_bytes.read())\n",
        "decoder_buffer = io.BytesIO(decoder_bytes.read())\n",
        "\n",
        "# init training network classes / architectures\n",
        "encoder_eval = encoder()\n",
        "decoder_eval = decoder()\n",
        "\n",
        "# load trained models\n",
        "encoder_eval.load_state_dict(torch.load(encoder_buffer))\n",
        "decoder_eval.load_state_dict(torch.load(decoder_buffer))"
      ],
      "execution_count": null,
      "outputs": [
        {
          "output_type": "execute_result",
          "data": {
            "text/plain": [
              "<All keys matched successfully>"
            ]
          },
          "metadata": {
            "tags": []
          },
          "execution_count": 79
        }
      ]
    },
    {
      "cell_type": "markdown",
      "metadata": {
        "id": "S43wpT11Zlqe"
      },
      "source": [
        "### 6.1 Assessment of the Pre-Trained Model"
      ]
    },
    {
      "cell_type": "markdown",
      "metadata": {
        "id": "ugNfj7Z-Zlqe"
      },
      "source": [
        "Once obtained, let's use the model to reconstruct the entire dataset:\n",
        "\n",
        "得られたモデルを使って、データセット全体を再構築してみましょう。"
      ]
    },
    {
      "cell_type": "code",
      "metadata": {
        "id": "M6D9r-vzZlqe"
      },
      "source": [
        "# convert encoded transactional data to torch Variable\n",
        "data = autograd.Variable(torch_dataset)\n",
        "\n",
        "# set networks in evaluation mode (don't apply dropout)\n",
        "encoder_eval.eval()\n",
        "decoder_eval.eval()\n",
        "\n",
        "# reconstruct encoded transactional data\n",
        "reconstruction = decoder_eval(encoder_eval(data))"
      ],
      "execution_count": null,
      "outputs": []
    },
    {
      "cell_type": "markdown",
      "metadata": {
        "id": "NHh7dtuWZlqe"
      },
      "source": [
        "Ok, nice. Comparing the overall reconstruction loss of the pre-trained model trained for **10 epochs** to the one we initially trained for **5 epochs** reveals, that the pre-trained model results in a significantly lower reconstruction error. We can therefore conclude that the pre-trained model outperforms our initial model in capturing the inherent characteristics of the journal entries.\n",
        "\n",
        "いいですね。10エポック**で学習した事前学習済みモデルと、5エポック**で学習した初期モデルの全体的な再構築損失を比較すると、事前学習済みモデルの方が再構築誤差が大幅に少ないことがわかります。したがって，ジャーナルエントリの固有の特性を捕捉する上で，事前学習モデルは初期モデルよりも優れていると結論づけることができます。"
      ]
    },
    {
      "cell_type": "markdown",
      "metadata": {
        "id": "xQnidrvGZlqe"
      },
      "source": [
        "### 6.2 Assessment of the Individual Transactions"
      ]
    },
    {
      "cell_type": "markdown",
      "metadata": {
        "id": "R3KWypfRZlqe"
      },
      "source": [
        "Ok, now that we are convinced that the pre-trained model is of decent quality let's assess the individual journal entries of the dataset. To achieve this, we collect the reconstruction errors of each individual journal entry by executing the cell below:\n",
        "\n",
        "さて、事前に学習されたモデルが適切な品質であることが確認できたので、データセットの個々のジャーナルエントリを評価してみましょう。そのためには、以下のセルを実行して、個々のジャーナルエントリの再構築エラーを収集します。"
      ]
    },
    {
      "cell_type": "code",
      "metadata": {
        "id": "oMyVUVu8Zlqf",
        "colab": {
          "base_uri": "https://localhost:8080/"
        },
        "outputId": "53452063-99d3-4af9-897c-b6fe93d5b9df"
      },
      "source": [
        "# init binary cross entropy errors\n",
        "reconstruction_loss_transaction = np.zeros(reconstruction.size()[0])\n",
        "\n",
        "# iterate over all detailed reconstructions\n",
        "for i in range(0, reconstruction.size()[0]):\n",
        "\n",
        "    # determine reconstruction loss - individual transactions\n",
        "    reconstruction_loss_transaction[i] = loss_function(reconstruction[i], data[i]).item()\n",
        "\n",
        "    if(i % 100000 == 0):\n",
        "\n",
        "        ### print conversion summary\n",
        "        now = datetime.utcnow().strftime(\"%Y%m%d-%H:%M:%S\")\n",
        "        print('[LOG {}] collected individual reconstruction loss of: {:06}/{:06} transactions'.format(now, i, reconstruction.size()[0]))\n",
        "        "
      ],
      "execution_count": null,
      "outputs": [
        {
          "output_type": "stream",
          "text": [
            "[LOG 20210501-02:33:26] collected individual reconstruction loss of: 000000/533009 transactions\n",
            "[LOG 20210501-02:33:33] collected individual reconstruction loss of: 100000/533009 transactions\n",
            "[LOG 20210501-02:33:39] collected individual reconstruction loss of: 200000/533009 transactions\n",
            "[LOG 20210501-02:33:45] collected individual reconstruction loss of: 300000/533009 transactions\n",
            "[LOG 20210501-02:33:51] collected individual reconstruction loss of: 400000/533009 transactions\n",
            "[LOG 20210501-02:33:58] collected individual reconstruction loss of: 500000/533009 transactions\n"
          ],
          "name": "stdout"
        }
      ]
    },
    {
      "cell_type": "markdown",
      "metadata": {
        "id": "tVdsJ4_NZlqf"
      },
      "source": [
        "Once we have collected individual reconstruction errors let's visualize them accordingly:\n",
        "\n",
        "個々の再構成誤差を収集したら、それを可視化してみましょう。"
      ]
    },
    {
      "cell_type": "code",
      "metadata": {
        "id": "2KYgZRpaZlqf",
        "colab": {
          "base_uri": "https://localhost:8080/",
          "height": 282
        },
        "outputId": "1951c288-0f46-49de-ca65-f6f78e169429"
      },
      "source": [
        "# prepare plot\n",
        "fig = plt.figure()\n",
        "ax = fig.add_subplot(111)\n",
        "\n",
        "# assign unique id to transactions\n",
        "plot_data = np.column_stack((np.arange(len(reconstruction_loss_transaction)), reconstruction_loss_transaction))\n",
        "\n",
        "# obtain regular transactions as well as global and local anomalies\n",
        "regular_data = plot_data[label == 'regular']\n",
        "global_outliers = plot_data[label == 'global']\n",
        "local_outliers = plot_data[label == 'local']\n",
        "\n",
        "# plot reconstruction error scatter plot\n",
        "ax.scatter(regular_data[:, 0], regular_data[:, 1], c='C0', alpha=0.4, marker=\"o\", label='regular') # plot regular transactions\n",
        "ax.scatter(global_outliers[:, 0], global_outliers[:, 1], c='C1', marker=\"^\", label='global') # plot global outliers\n",
        "ax.scatter(local_outliers[:, 0], local_outliers[:, 1], c='C2', marker=\"^\", label='local') # plot local outliers\n",
        "\n",
        "# add plot legend of transaction classes\n",
        "ax.legend(loc='best')"
      ],
      "execution_count": null,
      "outputs": [
        {
          "output_type": "execute_result",
          "data": {
            "text/plain": [
              "<matplotlib.legend.Legend at 0x7fcc13ea8e90>"
            ]
          },
          "metadata": {
            "tags": []
          },
          "execution_count": 82
        },
        {
          "output_type": "display_data",
          "data": {
            "image/png": "[encoded data removed]",
            "text/plain": [
              "<Figure size 432x288 with 1 Axes>"
            ]
          },
          "metadata": {
            "tags": [],
            "needs_background": "light"
          }
        }
      ]
    },
    {
      "cell_type": "markdown",
      "metadata": {
        "id": "r3Y2I6V8Zlqf"
      },
      "source": [
        "The visualization reveals that the pre-trained model is able to reconstruct the majority of regular journal entries, while failing to do so, for the anomalous ones. As a result, the model reconstruction error can be used to distinguish both \"global\" anomalies (orange) and \"local\" anomalies (green) from the regular journal entries (blue).\n",
        "\n",
        "事前に学習させたモデルは、通常の仕訳の大部分を再構成することができますが、異常な仕訳については再構成できないことがわかります。その結果、モデルの再構築エラーを利用して、「グローバル」な異常（オレンジ）と「ローカル」な異常（緑）を通常のジャーナルエントリ（青）から区別することができます。\n",
        "\n",
        "To further investigate our observation and confirm the initial assumption, let's have a closer look into the journal entries exhibiting a \"high\" binary cross-entropy reconstruction error >= 0.1. We assume that these journal entries correspond to the \"global\" anomalies of the original dataset:\n",
        "\n",
        "この観察結果をさらに詳しく調べ、最初の仮定を確認するために、バイナリークロスエントロピー再構築誤差が0.1以上と「高い」値を示すジャーナルエントリを詳しく見てみましょう。これらのジャーナルエントリは、元のデータセットの「グローバル」な異常に対応していると仮定します。"
      ]
    },
    {
      "cell_type": "code",
      "metadata": {
        "id": "Moo9xFVWZlqf",
        "colab": {
          "base_uri": "https://localhost:8080/",
          "height": 419
        },
        "outputId": "f8ddb53b-7937-4522-957a-5f92a149a5e4"
      },
      "source": [
        "# append labels to original dataset\n",
        "ori_dataset['label'] = label\n",
        "\n",
        "# inspect transactions exhibiting a reconstruction error >= 0.1\n",
        "ori_dataset[reconstruction_loss_transaction >= 0.1]"
      ],
      "execution_count": null,
      "outputs": [
        {
          "output_type": "execute_result",
          "data": {
            "text/html": [
              "<div>\n",
              "<style scoped>\n",
              "    .dataframe tbody tr th:only-of-type {\n",
              "        vertical-align: middle;\n",
              "    }\n",
              "\n",
              "    .dataframe tbody tr th {\n",
              "        vertical-align: top;\n",
              "    }\n",
              "\n",
              "    .dataframe thead th {\n",
              "        text-align: right;\n",
              "    }\n",
              "</style>\n",
              "<table border=\"1\" class=\"dataframe\">\n",
              "  <thead>\n",
              "    <tr style=\"text-align: right;\">\n",
              "      <th></th>\n",
              "      <th>BELNR</th>\n",
              "      <th>WAERS</th>\n",
              "      <th>BUKRS</th>\n",
              "      <th>KTOSL</th>\n",
              "      <th>PRCTR</th>\n",
              "      <th>BSCHL</th>\n",
              "      <th>HKONT</th>\n",
              "      <th>DMBTR</th>\n",
              "      <th>WRBTR</th>\n",
              "      <th>label</th>\n",
              "    </tr>\n",
              "  </thead>\n",
              "  <tbody>\n",
              "    <tr>\n",
              "      <th>32317</th>\n",
              "      <td>532989</td>\n",
              "      <td>C1</td>\n",
              "      <td>C11</td>\n",
              "      <td>C1</td>\n",
              "      <td>C53</td>\n",
              "      <td>A1</td>\n",
              "      <td>B1</td>\n",
              "      <td>9.106530e+05</td>\n",
              "      <td>5.443921e+04</td>\n",
              "      <td>local</td>\n",
              "    </tr>\n",
              "    <tr>\n",
              "      <th>33365</th>\n",
              "      <td>532942</td>\n",
              "      <td>W59</td>\n",
              "      <td>C13</td>\n",
              "      <td>P83</td>\n",
              "      <td>I73</td>\n",
              "      <td>I05</td>\n",
              "      <td>Q99</td>\n",
              "      <td>9.244552e+07</td>\n",
              "      <td>5.958504e+07</td>\n",
              "      <td>global</td>\n",
              "    </tr>\n",
              "    <tr>\n",
              "      <th>35691</th>\n",
              "      <td>532967</td>\n",
              "      <td>M07</td>\n",
              "      <td>S42</td>\n",
              "      <td>J81</td>\n",
              "      <td>A14</td>\n",
              "      <td>O49</td>\n",
              "      <td>Z01</td>\n",
              "      <td>9.244553e+07</td>\n",
              "      <td>5.958503e+07</td>\n",
              "      <td>global</td>\n",
              "    </tr>\n",
              "    <tr>\n",
              "      <th>35944</th>\n",
              "      <td>532917</td>\n",
              "      <td>J82</td>\n",
              "      <td>Q22</td>\n",
              "      <td>P32</td>\n",
              "      <td>Z74</td>\n",
              "      <td>Y19</td>\n",
              "      <td>K27</td>\n",
              "      <td>9.244553e+07</td>\n",
              "      <td>5.958504e+07</td>\n",
              "      <td>global</td>\n",
              "    </tr>\n",
              "    <tr>\n",
              "      <th>41925</th>\n",
              "      <td>532923</td>\n",
              "      <td>T17</td>\n",
              "      <td>R47</td>\n",
              "      <td>D84</td>\n",
              "      <td>F38</td>\n",
              "      <td>I81</td>\n",
              "      <td>D68</td>\n",
              "      <td>9.244552e+07</td>\n",
              "      <td>5.958505e+07</td>\n",
              "      <td>global</td>\n",
              "    </tr>\n",
              "    <tr>\n",
              "      <th>...</th>\n",
              "      <td>...</td>\n",
              "      <td>...</td>\n",
              "      <td>...</td>\n",
              "      <td>...</td>\n",
              "      <td>...</td>\n",
              "      <td>...</td>\n",
              "      <td>...</td>\n",
              "      <td>...</td>\n",
              "      <td>...</td>\n",
              "      <td>...</td>\n",
              "    </tr>\n",
              "    <tr>\n",
              "      <th>498175</th>\n",
              "      <td>532963</td>\n",
              "      <td>Z06</td>\n",
              "      <td>G77</td>\n",
              "      <td>Z22</td>\n",
              "      <td>R09</td>\n",
              "      <td>V09</td>\n",
              "      <td>X53</td>\n",
              "      <td>9.244553e+07</td>\n",
              "      <td>5.958504e+07</td>\n",
              "      <td>global</td>\n",
              "    </tr>\n",
              "    <tr>\n",
              "      <th>502255</th>\n",
              "      <td>532954</td>\n",
              "      <td>J38</td>\n",
              "      <td>C30</td>\n",
              "      <td>G28</td>\n",
              "      <td>T38</td>\n",
              "      <td>C62</td>\n",
              "      <td>L03</td>\n",
              "      <td>9.244551e+07</td>\n",
              "      <td>5.958503e+07</td>\n",
              "      <td>global</td>\n",
              "    </tr>\n",
              "    <tr>\n",
              "      <th>506926</th>\n",
              "      <td>532948</td>\n",
              "      <td>U72</td>\n",
              "      <td>D58</td>\n",
              "      <td>E35</td>\n",
              "      <td>Y05</td>\n",
              "      <td>D53</td>\n",
              "      <td>F61</td>\n",
              "      <td>9.244551e+07</td>\n",
              "      <td>5.958505e+07</td>\n",
              "      <td>global</td>\n",
              "    </tr>\n",
              "    <tr>\n",
              "      <th>528449</th>\n",
              "      <td>532959</td>\n",
              "      <td>C89</td>\n",
              "      <td>S43</td>\n",
              "      <td>E40</td>\n",
              "      <td>Y34</td>\n",
              "      <td>L29</td>\n",
              "      <td>N28</td>\n",
              "      <td>9.244553e+07</td>\n",
              "      <td>5.958504e+07</td>\n",
              "      <td>global</td>\n",
              "    </tr>\n",
              "    <tr>\n",
              "      <th>528759</th>\n",
              "      <td>532910</td>\n",
              "      <td>P36</td>\n",
              "      <td>V48</td>\n",
              "      <td>Z17</td>\n",
              "      <td>J68</td>\n",
              "      <td>Q50</td>\n",
              "      <td>J62</td>\n",
              "      <td>9.244554e+07</td>\n",
              "      <td>5.958504e+07</td>\n",
              "      <td>global</td>\n",
              "    </tr>\n",
              "  </tbody>\n",
              "</table>\n",
              "<p>78 rows × 10 columns</p>\n",
              "</div>"
            ],
            "text/plain": [
              "         BELNR WAERS BUKRS KTOSL  ... HKONT         DMBTR         WRBTR   label\n",
              "32317   532989    C1   C11    C1  ...    B1  9.106530e+05  5.443921e+04   local\n",
              "33365   532942   W59   C13   P83  ...   Q99  9.244552e+07  5.958504e+07  global\n",
              "35691   532967   M07   S42   J81  ...   Z01  9.244553e+07  5.958503e+07  global\n",
              "35944   532917   J82   Q22   P32  ...   K27  9.244553e+07  5.958504e+07  global\n",
              "41925   532923   T17   R47   D84  ...   D68  9.244552e+07  5.958505e+07  global\n",
              "...        ...   ...   ...   ...  ...   ...           ...           ...     ...\n",
              "498175  532963   Z06   G77   Z22  ...   X53  9.244553e+07  5.958504e+07  global\n",
              "502255  532954   J38   C30   G28  ...   L03  9.244551e+07  5.958503e+07  global\n",
              "506926  532948   U72   D58   E35  ...   F61  9.244551e+07  5.958505e+07  global\n",
              "528449  532959   C89   S43   E40  ...   N28  9.244553e+07  5.958504e+07  global\n",
              "528759  532910   P36   V48   Z17  ...   J62  9.244554e+07  5.958504e+07  global\n",
              "\n",
              "[78 rows x 10 columns]"
            ]
          },
          "metadata": {
            "tags": []
          },
          "execution_count": 83
        }
      ]
    },
    {
      "cell_type": "markdown",
      "metadata": {
        "id": "OGdtDa9cZlqf"
      },
      "source": [
        "Let's now also have a closer look into the journal entries exhibiting a \"medium\" binary cross-entropy reconstruction error >= 0.02 and < 0.1. We assume that these journal entries mostly correspond to the \"local\" anomalies of the original dataset:\n",
        "\n",
        "次に、クロスエントロピー再構築の誤差が0.02以上、0.1未満の「中程度」のジャーナルエントリについても詳しく見てみましょう。これらのジャーナルエントリは、元のデータセットの「ローカル」な異常に対応していると考えられます。"
      ]
    },
    {
      "cell_type": "code",
      "metadata": {
        "id": "OvmrdxZDZlqf",
        "colab": {
          "base_uri": "https://localhost:8080/",
          "height": 421
        },
        "outputId": "6ec8d5a8-7e61-4300-ac0f-4adee8f1d780"
      },
      "source": [
        "# inspect transactions exhibiting a reconstruction error < 0.1 and >= 0.05\n",
        "ori_dataset[(reconstruction_loss_transaction >= 0.05) & (reconstruction_loss_transaction < 0.1)]"
      ],
      "execution_count": null,
      "outputs": [
        {
          "output_type": "execute_result",
          "data": {
            "text/html": [
              "<div>\n",
              "<style scoped>\n",
              "    .dataframe tbody tr th:only-of-type {\n",
              "        vertical-align: middle;\n",
              "    }\n",
              "\n",
              "    .dataframe tbody tr th {\n",
              "        vertical-align: top;\n",
              "    }\n",
              "\n",
              "    .dataframe thead th {\n",
              "        text-align: right;\n",
              "    }\n",
              "</style>\n",
              "<table border=\"1\" class=\"dataframe\">\n",
              "  <thead>\n",
              "    <tr style=\"text-align: right;\">\n",
              "      <th></th>\n",
              "      <th>BELNR</th>\n",
              "      <th>WAERS</th>\n",
              "      <th>BUKRS</th>\n",
              "      <th>KTOSL</th>\n",
              "      <th>PRCTR</th>\n",
              "      <th>BSCHL</th>\n",
              "      <th>HKONT</th>\n",
              "      <th>DMBTR</th>\n",
              "      <th>WRBTR</th>\n",
              "      <th>label</th>\n",
              "    </tr>\n",
              "  </thead>\n",
              "  <tbody>\n",
              "    <tr>\n",
              "      <th>34059</th>\n",
              "      <td>533003</td>\n",
              "      <td>C1</td>\n",
              "      <td>C11</td>\n",
              "      <td>C1</td>\n",
              "      <td>C64</td>\n",
              "      <td>A1</td>\n",
              "      <td>B1</td>\n",
              "      <td>910631.632279</td>\n",
              "      <td>54443.283794</td>\n",
              "      <td>local</td>\n",
              "    </tr>\n",
              "    <tr>\n",
              "      <th>97954</th>\n",
              "      <td>532984</td>\n",
              "      <td>C1</td>\n",
              "      <td>C11</td>\n",
              "      <td>C1</td>\n",
              "      <td>C68</td>\n",
              "      <td>A1</td>\n",
              "      <td>B1</td>\n",
              "      <td>910648.636111</td>\n",
              "      <td>54442.618111</td>\n",
              "      <td>local</td>\n",
              "    </tr>\n",
              "    <tr>\n",
              "      <th>183064</th>\n",
              "      <td>533006</td>\n",
              "      <td>C1</td>\n",
              "      <td>C11</td>\n",
              "      <td>C1</td>\n",
              "      <td>C82</td>\n",
              "      <td>A1</td>\n",
              "      <td>B1</td>\n",
              "      <td>910648.873494</td>\n",
              "      <td>54436.705575</td>\n",
              "      <td>local</td>\n",
              "    </tr>\n",
              "    <tr>\n",
              "      <th>213105</th>\n",
              "      <td>532981</td>\n",
              "      <td>C1</td>\n",
              "      <td>C17</td>\n",
              "      <td>C1</td>\n",
              "      <td>C20</td>\n",
              "      <td>A1</td>\n",
              "      <td>B1</td>\n",
              "      <td>910664.385738</td>\n",
              "      <td>54436.897572</td>\n",
              "      <td>local</td>\n",
              "    </tr>\n",
              "    <tr>\n",
              "      <th>234335</th>\n",
              "      <td>532987</td>\n",
              "      <td>C1</td>\n",
              "      <td>C11</td>\n",
              "      <td>C1</td>\n",
              "      <td>C80</td>\n",
              "      <td>A1</td>\n",
              "      <td>B1</td>\n",
              "      <td>910647.596802</td>\n",
              "      <td>54446.113055</td>\n",
              "      <td>local</td>\n",
              "    </tr>\n",
              "    <tr>\n",
              "      <th>234460</th>\n",
              "      <td>532988</td>\n",
              "      <td>C1</td>\n",
              "      <td>C11</td>\n",
              "      <td>C1</td>\n",
              "      <td>C26</td>\n",
              "      <td>A1</td>\n",
              "      <td>B1</td>\n",
              "      <td>910655.728514</td>\n",
              "      <td>54441.600292</td>\n",
              "      <td>local</td>\n",
              "    </tr>\n",
              "    <tr>\n",
              "      <th>300115</th>\n",
              "      <td>533000</td>\n",
              "      <td>C1</td>\n",
              "      <td>C11</td>\n",
              "      <td>C1</td>\n",
              "      <td>C88</td>\n",
              "      <td>A1</td>\n",
              "      <td>B1</td>\n",
              "      <td>910649.135220</td>\n",
              "      <td>54441.440806</td>\n",
              "      <td>local</td>\n",
              "    </tr>\n",
              "    <tr>\n",
              "      <th>318771</th>\n",
              "      <td>533004</td>\n",
              "      <td>C1</td>\n",
              "      <td>C11</td>\n",
              "      <td>C1</td>\n",
              "      <td>C66</td>\n",
              "      <td>A1</td>\n",
              "      <td>B1</td>\n",
              "      <td>910657.152500</td>\n",
              "      <td>54466.259351</td>\n",
              "      <td>local</td>\n",
              "    </tr>\n",
              "    <tr>\n",
              "      <th>326531</th>\n",
              "      <td>533005</td>\n",
              "      <td>C1</td>\n",
              "      <td>C11</td>\n",
              "      <td>C1</td>\n",
              "      <td>C24</td>\n",
              "      <td>A1</td>\n",
              "      <td>B1</td>\n",
              "      <td>910632.886549</td>\n",
              "      <td>54458.195111</td>\n",
              "      <td>local</td>\n",
              "    </tr>\n",
              "    <tr>\n",
              "      <th>360246</th>\n",
              "      <td>532983</td>\n",
              "      <td>C1</td>\n",
              "      <td>C11</td>\n",
              "      <td>C1</td>\n",
              "      <td>C72</td>\n",
              "      <td>A1</td>\n",
              "      <td>B1</td>\n",
              "      <td>910639.376486</td>\n",
              "      <td>54456.999522</td>\n",
              "      <td>local</td>\n",
              "    </tr>\n",
              "    <tr>\n",
              "      <th>365737</th>\n",
              "      <td>532996</td>\n",
              "      <td>C1</td>\n",
              "      <td>C11</td>\n",
              "      <td>C1</td>\n",
              "      <td>C93</td>\n",
              "      <td>A1</td>\n",
              "      <td>B1</td>\n",
              "      <td>910636.709782</td>\n",
              "      <td>54448.703935</td>\n",
              "      <td>local</td>\n",
              "    </tr>\n",
              "    <tr>\n",
              "      <th>507636</th>\n",
              "      <td>532993</td>\n",
              "      <td>C1</td>\n",
              "      <td>C11</td>\n",
              "      <td>C1</td>\n",
              "      <td>C70</td>\n",
              "      <td>A1</td>\n",
              "      <td>B1</td>\n",
              "      <td>910676.587040</td>\n",
              "      <td>54441.755167</td>\n",
              "      <td>local</td>\n",
              "    </tr>\n",
              "  </tbody>\n",
              "</table>\n",
              "</div>"
            ],
            "text/plain": [
              "         BELNR WAERS BUKRS KTOSL  ... HKONT          DMBTR         WRBTR  label\n",
              "34059   533003    C1   C11    C1  ...    B1  910631.632279  54443.283794  local\n",
              "97954   532984    C1   C11    C1  ...    B1  910648.636111  54442.618111  local\n",
              "183064  533006    C1   C11    C1  ...    B1  910648.873494  54436.705575  local\n",
              "213105  532981    C1   C17    C1  ...    B1  910664.385738  54436.897572  local\n",
              "234335  532987    C1   C11    C1  ...    B1  910647.596802  54446.113055  local\n",
              "234460  532988    C1   C11    C1  ...    B1  910655.728514  54441.600292  local\n",
              "300115  533000    C1   C11    C1  ...    B1  910649.135220  54441.440806  local\n",
              "318771  533004    C1   C11    C1  ...    B1  910657.152500  54466.259351  local\n",
              "326531  533005    C1   C11    C1  ...    B1  910632.886549  54458.195111  local\n",
              "360246  532983    C1   C11    C1  ...    B1  910639.376486  54456.999522  local\n",
              "365737  532996    C1   C11    C1  ...    B1  910636.709782  54448.703935  local\n",
              "507636  532993    C1   C11    C1  ...    B1  910676.587040  54441.755167  local\n",
              "\n",
              "[12 rows x 10 columns]"
            ]
          },
          "metadata": {
            "tags": []
          },
          "execution_count": 84
        }
      ]
    },
    {
      "cell_type": "markdown",
      "metadata": {
        "id": "PIb7dc2kZlqf"
      },
      "source": [
        "##<font color='red'> 7. Optional Exercises"
      ]
    },
    {
      "cell_type": "markdown",
      "metadata": {
        "id": "3qLOwCh8Zlqf"
      },
      "source": [
        "<font color='red'>Please read ahead and only come back to these optional exercises if time permits.\n",
        "\n",
        "先を読んでおいて、時間が許す限り、これらのオプション演習に戻ってきてください。\n",
        "\n",
        "<font color='red'>**1. Train the autoencoder model from scratch** [15 mins]\n",
        "\n",
        "**1. オートエンコーダーモデルを一から学習する** [15分]\n",
        "\n",
        "<font color='red'>First, change the number of training epochs `num_epochs` to **30** in the corresponding cell of section 5.1. Second, you might also want to try different learning rates other than the initial learning rate of **0.001** in the corresponding cell of section 4.3. Third, comment out the two lines in the first cell of section 6. where the pre-trained model is defined (under \"restore pre-trained model checkpoint\") as well as two lines where it is loaded (under \"load trained models\"). \n",
        "\n",
        "まず、セクション5.1の対応するセルで、トレーニングエポックの数`num_epochs`を**30**に変更します。2つ目は、セクション4.3の対応するセルで、初期学習率の**0.001**以外の学習率を試してみることです。3つ目は、セクション6.の最初のセルで、事前学習モデルが定義されている2行（\"restore pre-trained model checkpoint \"の下）と、それがロードされている2行（\"load trained models \"の下）をコメントアウトします。\n",
        "\n",
        "<font color='red'>Please, note that after altering the number of training epochs in section 5.1 and/or the learning rate in section 4.3 you need to execute all successive cells starting from section 5.1 or 4.3.\n",
        "\n",
        "なお、5.1節の学習エポック数や4.3節の学習率を変更した後は、5.1節または4.3節から連続してセルを実行する必要がありますのでご注意ください。\n",
        "\n",
        "<font color='red'>**2. What would happen if we remove a few fully-connected layers?** [15 mins]\n",
        "\n",
        "**2. 完全に接続されたいくつかの層を取り除くとどうなるか？** [15分]\n",
        "\n",
        "<font color='red'>We designed a specific model for the lab because experiments show that the structure provided result in a good detection accuracy. Let's see how the reconstruction performance change if we would **remove several of the hidden layers**. First, adjust the encoder and decoder model definitions in section 4.2 accordingly (you may want to use the code snippets shown below). Then, follow all the instructions for training from scratch.\n",
        "\n",
        "実験では、このような構造が良い検出精度をもたらすことがわかっているので、この研究室のために特別なモデルを設計しました。ここでは、隠れた層のいくつかを削除した場合に、再構成の性能がどのように変化するかを見てみましょう。まず、4.2節のエンコーダとデコーダのモデル定義を適宜調整します（以下のコードスニペットを使用するとよいでしょう）。その後、最初からトレーニングするためのすべての指示に従います。\n",
        "\n",
        "<font color='red'>Please, note that after altering the encoder and / or decoder network architecture in section 4.2 you need to execute all successive cells starting from section 4.2.\n",
        "\n",
        "なお、4.2項でエンコーダやデコーダのネットワーク構成を変更した後は、4.2項から順番にセルを実行していく必要があります。"
      ]
    },
    {
      "cell_type": "code",
      "metadata": {
        "id": "Qz73L6ruZlqg"
      },
      "source": [
        "# implementation of the shallow encoder network \n",
        "# containing only a single layer\n",
        "class shallow_encoder(nn.Module):\n",
        "\n",
        "    def __init__(self):\n",
        "\n",
        "        super(encoder, self).__init__()\n",
        "\n",
        "        # specify layer 1 - in 618, out 3\n",
        "        self.encoder_L1 = nn.Linear(in_features=ori_subset_transformed.shape[1], out_features=3, bias=True) # add linearity \n",
        "        nn.init.xavier_uniform_(self.encoder_L1.weight) # init weights according to [9]\n",
        "        self.encoder_R1 = nn.LeakyReLU(negative_slope=0.4, inplace=True) # add non-linearity according to [10]\n",
        "        \n",
        "    def forward(self, x):\n",
        "\n",
        "        # define forward pass through the network\n",
        "        x = self.encoder_R1(self.encoder_L1(x)) # don't apply dropout to the AE bottleneck\n",
        "\n",
        "        return x"
      ],
      "execution_count": null,
      "outputs": []
    },
    {
      "cell_type": "code",
      "metadata": {
        "id": "Sdv0d98-Zlqg"
      },
      "source": [
        "# implementation of the shallow decoder network \n",
        "# containing only a single layer\n",
        "class shallow_decoder(nn.Module):\n",
        "\n",
        "    def __init__(self):\n",
        "\n",
        "        super(decoder, self).__init__()\n",
        "\n",
        "        # specify layer 1 - in 3, out 618\n",
        "        self.decoder_L1 = nn.Linear(in_features=3, out_features=ori_subset_transformed.shape[1], bias=True) # add linearity \n",
        "        nn.init.xavier_uniform_(self.decoder_L1.weight)  # init weights according to [9]\n",
        "        self.decoder_R1 = nn.LeakyReLU(negative_slope=0.4, inplace=True) # add non-linearity according to [10]\n",
        "\n",
        "    def forward(self, x):\n",
        "\n",
        "        # define forward pass through the network\n",
        "        x = self.decoder_R1(self.decoder_L1(x)) # don't apply dropout to the AE output\n",
        "        \n",
        "        return x"
      ],
      "execution_count": null,
      "outputs": []
    },
    {
      "cell_type": "markdown",
      "metadata": {
        "id": "rWR8vVJ9Zlqg"
      },
      "source": [
        "**3. Explore the latent space representation** [15 min]\n",
        "\n",
        "In a real world scenario it is usually beneficial to visualize the data manifolds to:\n",
        "\n",
        "現実のシナリオでは、データの多様性を視覚化することが有益です。\n",
        "\n",
        "> 1. determine if the autoencoder learned a meaningful representation; and,  \n",
        "オートエンコーダーが意味のある表現を学習したかどうかを判断するステップと\n",
        "> 2. obtain an impression of the structural characteristics and dependencies in the data.  \n",
        "データの構造的な特徴や依存性の印象を得ることができます。\n",
        "\n",
        "To achieve this, we will propagate the data through the trained model and capture for each transaction the respective representation in the latent space as referred to as \"embeddings\" (the activation pattern of each journal entry at the bottleneck neurons). \n",
        "\n",
        "これを実現するために、学習したモデルにデータを伝播させ、各トランザクションについて、「エンベッディング」と呼ばれる潜在空間におけるそれぞれの表現（ボトルネックニューロンにおける各ジャーナルエントリの活性化パターン）を捕捉します。\n",
        "\n",
        "Therefore, we intentionally chose a bottleneck layer comprised of 3 neurons. This provides us the ability to visualize the distinctive activation pattern using the 3d plotting capabilities of Pythons matplotlib library. In the subsequent cells we already prepared a plotting function that draws a 3d scatter plot of the latent space representation of each transaction at a particular epoch.\n",
        "\n",
        "そこで、あえて3つのニューロンで構成されるボトルネック層を選択しました。これにより、Pythons社のmatplotlibライブラリの3Dプロット機能を使って、特徴的な活性化パターンを視覚化することができます。後続のセルでは、特定のエポックにおける各トランザクションの潜在空間表現の3d散布図を描くプロット関数をすでに用意しています。"
      ]
    },
    {
      "cell_type": "code",
      "metadata": {
        "id": "uX4hYk4EZlqg"
      },
      "source": [
        "# plot latent space representation of all samples given latent variable and label class\n",
        "def plot_latent_space(latent_variable, label, epoch):\n",
        "    \"\"\" Plots latent space activations as a 3d scatter plot at particular epoch\n",
        "    :param latent_space: activations of latent space\n",
        "    :param label: 1-d array of labels defining type of anomaly\n",
        "    :param epoch: training epoch\n",
        "    \"\"\"\n",
        "    # prepare plot\n",
        "    fig = plt.figure(figsize=(10,8))\n",
        "    ax = fig.add_subplot(111, projection='3d')\n",
        "    ax.view_init(30, 45)\n",
        "\n",
        "    # set axis paramaters of subplot\n",
        "    ax.grid(linestyle='dotted')\n",
        "    \n",
        "    # set label and title details\n",
        "    ax.set_xlabel(r'activation [$z_1$]', weight='normal', fontsize=12)\n",
        "    ax.set_ylabel(r'activation [$z_2$]', weight='normal', fontsize=12)\n",
        "    ax.set_zlabel(r'activation [$z_3$]', weight='normal', fontsize=12)\n",
        "    plt.title('latent space activations at epoch ' + str(epoch), fontsize=12)\n",
        "\n",
        "    # plot regular transactions\n",
        "    regular = latent_variable[np.where(label == 'regular')]\n",
        "    ax.scatter(regular[:, 0], regular[:, 1], regular[:, 2], c='C0', alpha=0.4, marker=\"o\")\n",
        "\n",
        "    # plot first order anomalous transactions\n",
        "    anomalies_1 = latent_variable[np.where(label == 'global')]\n",
        "    ax.scatter(anomalies_1[:, 0], anomalies_1[:, 1], anomalies_1[:, 2], c='C1', s=100, marker=\"^\")\n",
        "\n",
        "    # plot second order anomalous transactions\n",
        "    anomalies_2 = latent_variable[np.where(label == 'local')]\n",
        "    ax.scatter(anomalies_2[:, 0], anomalies_2[:, 1], anomalies_2[:, 2], c='C2', s=100, marker=\"^\")"
      ],
      "execution_count": null,
      "outputs": []
    },
    {
      "cell_type": "markdown",
      "metadata": {
        "id": "rJvOtUFWZlqg"
      },
      "source": [
        "However, before plotting the embeddings we load the model of the shallow autoencoder network you have been asked to train in exercise 7.2 of the optional exercises. Since we are interested on the latent space representation of each transaction we only need to load the pre-trained encoder part of the autoencoder (ignoring the decoder part) and propagate all transactions through it.\n",
        "\n",
        "しかし、エンベッディングをプロットする前に、オプション演習の演習7.2で訓練するように指示された浅いオートエンコーダーネットワークのモデルをロードします。我々は各トランザクションの潜在空間表現に興味があるので、オートエンコーダーの事前に訓練されたエンコーダー部分のみをロードし（デコーダー部分は無視）、すべてのトランザクションをそれを通して伝播させる必要があります。\n",
        "\n",
        "The function below will accomplish these steps for a given pre-trained encoder model.\n",
        "\n",
        "以下の関数は、事前に学習されたエンコーダモデルに対して、これらのステップを実行します。"
      ]
    },
    {
      "cell_type": "code",
      "metadata": {
        "id": "HVpnDqPbZlqg"
      },
      "source": [
        "# extract latent space representation of all samples given the name of encoder model to be loaded\n",
        "def get_latent_space(encoder_model_name):\n",
        "    ''' Extracts the latent space representation\n",
        "    :param encoder_model_name: file name of the pretrained encoder model\n",
        "    :return: latent space representation\n",
        "    '''\n",
        "    # init training network classes / architectures\n",
        "    encoder_eval = encoder()\n",
        "\n",
        "    # load trained models\n",
        "    encoder_eval.load_state_dict(torch.load(encoder_model_name))\n",
        "\n",
        "    # convert encoded transactional data to torch Variable\n",
        "    data = autograd.Variable(torch_dataset)\n",
        "\n",
        "    # set networks in training mode (don't apply dropout)\n",
        "    encoder_eval.eval()\n",
        "\n",
        "    # extract encoded latent space representation\n",
        "    latent_variable = encoder_eval(data).data.numpy()\n",
        "    \n",
        "    return latent_variable"
      ],
      "execution_count": null,
      "outputs": []
    },
    {
      "cell_type": "markdown",
      "metadata": {
        "id": "fLclE9AgZlqg"
      },
      "source": [
        "Now let's check how the latent space representation \"embeddings\" of the individual transactions changes with progressing training epochs. In order to do so, you can load any checkpoint of a particular training epoch and visualize the latent representations you want to have a look at using the code snipped below. \n",
        "\n",
        "では、個々のトランザクションの潜在空間表現「エンベッディング」が、トレーニングエポックの進行に伴ってどのように変化するかを確認してみましょう。そのためには、特定のトレーニングエポックのチェックポイントを読み込み、以下のコードを使って潜在表現を可視化します。\n",
        "\n",
        "If you didn't find the time to accomplish exercise 7.2 you may want to plot the embeddings using the pre-trained model we prepared for this lab as stated in the cell below. This will also give you an idea of the transactional manifolds learned by the autoencoder network.\n",
        "\n",
        "演習7.2を行う時間がなかった場合は、以下のセルにあるように、このラボのために準備した事前学習モデルを使用して埋め込みをプロットすることができます。これにより、オートエンコーダー・ネットワークが学習するトランザクション・マニフォールドについても知ることができます。"
      ]
    },
    {
      "cell_type": "code",
      "metadata": {
        "id": "TfWaySp0Zlqh",
        "colab": {
          "base_uri": "https://localhost:8080/",
          "height": 466
        },
        "outputId": "d60c1920-068f-4490-a9c3-65be0fe633bc"
      },
      "source": [
        "# determine epoch of model to be evaluated\n",
        "eval_epoch = 5\n",
        "\n",
        "# collect latent space representation at a certain epochs \n",
        "z_representation = get_latent_space(encoder_model_name='ep_{}_encoder_model.pth'.format(eval_epoch))\n",
        "\n",
        "# plot the latent space at a particular epoch\n",
        "plot_latent_space(z_representation, label, epoch=eval_epoch)"
      ],
      "execution_count": null,
      "outputs": [
        {
          "output_type": "display_data",
          "data": {
            "image/png": "[encoded data removed]",
            "text/plain": [
              "<Figure size 720x576 with 1 Axes>"
            ]
          },
          "metadata": {
            "tags": [],
            "needs_background": "light"
          }
        }
      ]
    },
    {
      "cell_type": "markdown",
      "metadata": {
        "id": "L9Rv--IhZlqh"
      },
      "source": [
        "Finally, you may want to save the content of the lab to your local machine. Therefore, please execute the cell below to retrieve an archived version of your current lab content.\n",
        "\n",
        "最後に、ラボのコンテンツをローカルマシンに保存したい場合があります。そこで、以下のセルを実行して、現在のラボのコンテンツのアーカイブ版を取得してください。"
      ]
    },
    {
      "cell_type": "code",
      "metadata": {
        "id": "ozKUybKdZlqh"
      },
      "source": [
        "!tar -czf GTC_2018_Lab.tar.gz *"
      ],
      "execution_count": null,
      "outputs": []
    },
    {
      "cell_type": "markdown",
      "metadata": {
        "id": "p3LN16i7Zlqh"
      },
      "source": [
        "You may also want to execute the content of your lab outside of the jupyter notebook environment e.g. on compute node or server. The cell below converts the lab notebook into a standalone and executable python script.\n",
        "\n",
        "また、実験内容を jupyter ノートブック環境の外で実行したい場合もあるでしょう（例：計算ノードやサーバー）。以下のセルは、ラボのノートブックをスタンドアロンで実行可能なPythonスクリプトに変換します。"
      ]
    },
    {
      "cell_type": "code",
      "metadata": {
        "id": "DhSTlQBDZlqh"
      },
      "source": [
        "!jupyter nbconvert --to script GTC_2018_Lab.ipynb"
      ],
      "execution_count": null,
      "outputs": []
    },
    {
      "cell_type": "markdown",
      "metadata": {
        "id": "RxHnzNoqZlqh"
      },
      "source": [
        "## 8. Lab Summary"
      ]
    },
    {
      "cell_type": "markdown",
      "metadata": {
        "id": "1P47q94MZlqh"
      },
      "source": [
        "In this lab, we presented a step by step implementation of an autoencoder deep neural network based methodology to detect anomalies in financial data. The degree of a financial transaction \"abnormity\" is evaluated based on its respective reconstruction error. The code provided in this lab can be tailored to meet more complex fraud detection scenarios and datasets.\n",
        "\n",
        "この研究室では、財務データの異常を検出するためのオートエンコーダー・ディープニューラルネットワークに基づく方法論を段階的に実装しました。財務取引の「異常」の度合いは、それぞれの再構築エラーに基づいて評価されます。この研究室で提供されたコードは、より複雑な不正検出シナリオやデータセットに合わせて調整することができます。"
      ]
    },
    {
      "cell_type": "markdown",
      "metadata": {
        "id": "IbF-MpakZlqh"
      },
      "source": [
        "## <font color='red'>9. Post-Lab Exercises"
      ]
    },
    {
      "cell_type": "markdown",
      "metadata": {
        "id": "dG0xmUX4Zlqh"
      },
      "source": [
        "<font color='red'>We recommend you to try the following exercises after the lab:  \n",
        "\n",
        "ラボ終了後は、以下の練習問題に挑戦することをお勧めします。\n",
        "\n",
        "\n",
        "<font color='red'>**1. Evaluation of shallow and deep autoencoder models**  \n",
        "\n",
        "**浅いオートエンコーダーモデルと深いオートエンコーダーモデルの評価**  \n",
        "\n",
        "<font color='red'>Try to train and evaluate further (shallow and deeper) autoencoder models (by removing and adding of fully-connected layers). Analyse the performance in terms of training time and reconstruction error.  \n",
        "\n",
        "オートエンコーダーモデルをさらに（浅く、深く）学習・評価してみる（完全連結層を削除したり追加したりして）。学習時間と再構成誤差の観点から性能を分析する。\n",
        "\n",
        "\n",
        "<font color='red'>**2. Comparison to other dimensionality reduction techniques  \n",
        "\n",
        "他の次元削減手法との比較**\n",
        "\n",
        "<font color='red'>Try using other dimensionality reduction techniques such as principal component analysis, non-negative matrix factorization or sparse coding and compare the detected anomalies with the ones detected by the autoencoder.  \n",
        "\n",
        "主成分分析、非負行列分解、スパースコーディングなど、他の次元削減技術を使ってみて、検出された異常値とオートエンコーダーで検出された異常値を比較してみてください。\n",
        "\n",
        "<font color='red'>**3. Review of additional autoencoder concepts  \n",
        "\n",
        "オートエンコーダーの概念の再確認**\n",
        "\n",
        "<font color='red'>Try using other autoencoder architectures such as variational [13] or adversarial [14] autoencoder and compare the results with the autoencoder architecture implemented above.  \n",
        "\n",
        "変分法[13]や敵対法[14]などの他のオートエンコーダー・アーキテクチャーを使ってみて，上記で実装したオートエンコーダー・アーキテクチャーと結果を比較してみましょう．"
      ]
    },
    {
      "cell_type": "markdown",
      "metadata": {
        "id": "T4JITEPUZlqi"
      },
      "source": [
        "## 10. References"
      ]
    },
    {
      "cell_type": "markdown",
      "metadata": {
        "id": "MNu8iiIkZlqi"
      },
      "source": [
        "Major elements of the lab content are inspired by the publication \"Detection of Anomalies in Large Scale Accounting Data using Deep Autoencoder Networks\", of M. Schreyer, T. Sattarov, D. S. Borth, A. Dengel, and B. Reimer, 2017 (arXiv preprint available under: https://arxiv.org/abs/1709.05254).  \n",
        "ラボの内容の主要な要素は、M. Schreyer, T. Sattarov, D. S. Borth, A. Dengel, and B. Reimer, 2017の出版物「Detection of Anomalies in Large Scale Accounting Data using Deep Autoencoder Networks」に触発されています（arXiv preprint available under: https://arxiv.org/abs/1709.05254）。\n",
        "\n",
        "[1] ACFE, \"Report to the Nations on Occupational Fraud and Abuse\", The 2016 Global Fraud Study, Association of Certified Fraud Examiners (ACFE), 2016.\n",
        "\n",
        "[2] J. T. Wells, \"Corporate Fraud Handbook: Prevention and Detection\", John Wiley & Sons, 2017.\n",
        "\n",
        "[3] PwC, \"Pulling Fraud Out of the Shadows\", The Global Economic Crime and Fraud Survey 2018, PricewaterhouseCoopers LLP, 2018.\n",
        "\n",
        "[4] S. Markovitch, P. Willmott, \"Accelerating the digitization of business processes\", McKinsey & Company (2014) 1–5.\n",
        "\n",
        "[5] SAP, SAP Global Corporate Affairs, Corporate Factsheet 2017, 2017.\n",
        "\n",
        "[6] E. A. Lopez-Rojas , A. Elmir, and S. Axelsson, \"PaySim: A financial mobile money simulator for fraud detection\", In: The 28th European Modeling and Simulation Symposium-EMSS, Larnaca, Cyprus, 2016.\n",
        "\n",
        "[7] G. E. Hinton, and R. R. Salakhutdinov, \"Reducing the dimensionality of data with neural networks\", science 313, no. 5786: 504-507, 2006.\n",
        "\n",
        "[8] N. Srivastava, G. E. Hinton, A. Krizhevsky, I. Sutskever, and R. Salakhutdinov, \"Dropout: A simple way to prevent neural networks from overfitting\", The Journal of Machine Learning Research, 15(1), 1929-1958, 2014.\n",
        "\n",
        "[9] X. Glorot and Y. Bengio, \"Understanding the difficulty of training deep feedforward neural networks\", Proceedings of the 13th International Conference on Artificial Intelligence and Statistics (AISTATS), 9:249–256, 2010.\n",
        "\n",
        "[10] B. Xu, N. Wang, T. Chen, and M. Li, \"Empirical Evaluation of Rectified Activations in Convolution Network\", ICML Deep Learning Workshop, pages 1–5, 2015.\n",
        "\n",
        "[11] D. P. Kingma and J. Ba, \"Adam: A method for stochastic optimization\", International Conference on Learning Representations (ICLR). 2015.\n",
        "\n",
        "[12] G. E. Hinton, N. Srivastava, A. Krizhevsky, I. Sutskever, R. R. Salakhutdinov. \"Improving neural networks by preventing co-adaptation of feature detectors\", Technical Report, 2012.\n",
        "\n",
        "[13] D. P. Kingma, M. Welling. \"Auto-encoding variational bayes\", arXiv preprint arXiv:1312.6114, 2013.\n",
        "\n",
        "[14] Makhzani, A., Shlens, J., Jaitly, N., Goodfellow, I., & Frey, B., \"Adversarial autoencoders\", arXiv preprint arXiv:1511.05644, 2015.\n"
      ]
    }
  ]
}